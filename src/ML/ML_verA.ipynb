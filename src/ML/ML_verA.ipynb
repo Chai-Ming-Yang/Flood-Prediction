{
  "cells": [
    {
      "cell_type": "markdown",
      "id": "610f5e5e",
      "metadata": {
        "id": "610f5e5e"
      },
      "source": [
        "# Machine Learning Using Logistic Regression, SVM and Random Forest Models"
      ]
    },
    {
      "cell_type": "markdown",
      "id": "fc0f5248",
      "metadata": {
        "id": "fc0f5248"
      },
      "source": [
        "## Import necessary libraries"
      ]
    },
    {
      "cell_type": "code",
      "execution_count": 100,
      "id": "5be99e0c",
      "metadata": {
        "id": "5be99e0c"
      },
      "outputs": [],
      "source": [
        "import numpy as np\n",
        "import pandas as pd\n",
        "import seaborn as sns\n",
        "import matplotlib.pyplot as plt\n",
        "\n",
        "from datetime import datetime\n",
        "from sklearn.model_selection import train_test_split, cross_validate, StratifiedKFold\n",
        "from sklearn.preprocessing import LabelEncoder, StandardScaler\n",
        "from sklearn.metrics import accuracy_score, classification_report\n",
        "from sklearn.linear_model import LogisticRegression\n",
        "from sklearn.svm import LinearSVC\n",
        "from sklearn.pipeline import Pipeline\n",
        "from imblearn.pipeline import Pipeline as ImbPipeline\n",
        "from imblearn.over_sampling import SMOTE\n",
        "from sklearn.ensemble import RandomForestClassifier"
      ]
    },
    {
      "cell_type": "markdown",
      "id": "cd6f634c",
      "metadata": {
        "id": "cd6f634c"
      },
      "source": [
        "## Load Dataset"
      ]
    },
    {
      "cell_type": "code",
      "execution_count": 101,
      "id": "abe6ee7b",
      "metadata": {
        "id": "abe6ee7b"
      },
      "outputs": [],
      "source": [
        "import os\n",
        "# Load dataset\n",
        "dataset_path = r'..\\..\\datasets\\A_Flood_Dataset.csv'\n",
        "rainfall_data = pd.read_csv(dataset_path)"
      ]
    },
    {
      "cell_type": "code",
      "execution_count": 102,
      "id": "15dc7e80",
      "metadata": {
        "colab": {
          "base_uri": "https://localhost:8080/"
        },
        "id": "15dc7e80",
        "outputId": "70b8b5b8-a9a2-40e0-aed1-f63ea9ce94cb"
      },
      "outputs": [
        {
          "name": "stdout",
          "output_type": "stream",
          "text": [
            "Dataset Preview:\n",
            "   Sl Station_Names  Year  Month  Max_Temp  Min_Temp  Rainfall  \\\n",
            "0   0       Barisal  1949      1      29.4      12.3       0.0   \n",
            "1   1       Barisal  1949      2      33.9      15.2       9.0   \n",
            "2   2       Barisal  1949      3      36.7      20.2       8.0   \n",
            "3   3       Barisal  1949      4      33.9      23.9     140.0   \n",
            "4   4       Barisal  1949      5      35.6      25.0     217.0   \n",
            "\n",
            "   Relative_Humidity  Wind_Speed  Cloud_Coverage  Bright_Sunshine  \\\n",
            "0               68.0    0.453704             0.6         7.831915   \n",
            "1               63.0    0.659259             0.9         8.314894   \n",
            "2               59.0    1.085185             1.5         8.131915   \n",
            "3               71.0    1.772222             3.9         8.219149   \n",
            "4               76.0    1.703704             4.1         7.046809   \n",
            "\n",
            "   Station_Number     X_COR     Y_COR  LATITUDE  LONGITUDE  ALT   Period  \\\n",
            "0           41950  536809.8  510151.9      22.7      90.36    4  1949.01   \n",
            "1           41950  536809.8  510151.9      22.7      90.36    4  1949.02   \n",
            "2           41950  536809.8  510151.9      22.7      90.36    4  1949.03   \n",
            "3           41950  536809.8  510151.9      22.7      90.36    4  1949.04   \n",
            "4           41950  536809.8  510151.9      22.7      90.36    4  1949.05   \n",
            "\n",
            "   Flood?  \n",
            "0     NaN  \n",
            "1     NaN  \n",
            "2     NaN  \n",
            "3     NaN  \n",
            "4     NaN  \n"
          ]
        }
      ],
      "source": [
        "#Display the first few rows of the dataset\n",
        "print(\"Dataset Preview:\")\n",
        "print(rainfall_data.head())"
      ]
    },
    {
      "cell_type": "code",
      "execution_count": 103,
      "id": "57d75a92",
      "metadata": {
        "colab": {
          "base_uri": "https://localhost:8080/"
        },
        "id": "57d75a92",
        "outputId": "c94be60e-4c58-44b1-fd14-df0cedb19e16"
      },
      "outputs": [
        {
          "name": "stdout",
          "output_type": "stream",
          "text": [
            "\n",
            "Dataset Info:\n",
            "<class 'pandas.core.frame.DataFrame'>\n",
            "RangeIndex: 20544 entries, 0 to 20543\n",
            "Data columns (total 19 columns):\n",
            " #   Column             Non-Null Count  Dtype  \n",
            "---  ------             --------------  -----  \n",
            " 0   Sl                 20544 non-null  int64  \n",
            " 1   Station_Names      20544 non-null  object \n",
            " 2   Year               20544 non-null  int64  \n",
            " 3   Month              20544 non-null  int64  \n",
            " 4   Max_Temp           20544 non-null  float64\n",
            " 5   Min_Temp           20544 non-null  float64\n",
            " 6   Rainfall           20544 non-null  float64\n",
            " 7   Relative_Humidity  20544 non-null  float64\n",
            " 8   Wind_Speed         20544 non-null  float64\n",
            " 9   Cloud_Coverage     20544 non-null  float64\n",
            " 10  Bright_Sunshine    20544 non-null  float64\n",
            " 11  Station_Number     20544 non-null  int64  \n",
            " 12  X_COR              20544 non-null  float64\n",
            " 13  Y_COR              20544 non-null  float64\n",
            " 14  LATITUDE           20544 non-null  float64\n",
            " 15  LONGITUDE          20544 non-null  float64\n",
            " 16  ALT                20544 non-null  int64  \n",
            " 17  Period             20544 non-null  float64\n",
            " 18  Flood?             4493 non-null   float64\n",
            "dtypes: float64(13), int64(5), object(1)\n",
            "memory usage: 3.0+ MB\n",
            "None\n"
          ]
        }
      ],
      "source": [
        "# Basic information\n",
        "print(\"\\nDataset Info:\")\n",
        "print(rainfall_data.info())"
      ]
    },
    {
      "cell_type": "code",
      "execution_count": 104,
      "id": "95410c1e",
      "metadata": {
        "colab": {
          "base_uri": "https://localhost:8080/"
        },
        "id": "95410c1e",
        "outputId": "bbcc7e40-9bf7-474b-ff26-cb6597160be2"
      },
      "outputs": [
        {
          "name": "stdout",
          "output_type": "stream",
          "text": [
            "\n",
            "Statistical Summary:\n",
            "                 Sl          Year         Month      Max_Temp      Min_Temp  \\\n",
            "count  20544.000000  20544.000000  20544.000000  20544.000000  20544.000000   \n",
            "mean   10271.500000   1985.332944      6.500000     33.450739     21.166872   \n",
            "std     5930.686301     17.610799      3.452137      2.956401      4.949587   \n",
            "min        0.000000   1948.000000      1.000000     21.600000      6.200000   \n",
            "25%     5135.750000   1972.000000      3.750000     31.700000     16.900000   \n",
            "50%    10271.500000   1987.000000      6.500000     33.900000     23.400000   \n",
            "75%    15407.250000   2000.000000      9.250000     35.400000     25.400000   \n",
            "max    20543.000000   2013.000000     12.000000     44.000000     28.100000   \n",
            "\n",
            "           Rainfall  Relative_Humidity    Wind_Speed  Cloud_Coverage  \\\n",
            "count  20544.000000       20544.000000  20544.000000    20544.000000   \n",
            "mean     198.776621          79.497375      1.415049        3.485827   \n",
            "std      240.693197           7.667925      1.042454        2.083791   \n",
            "min        0.000000          34.000000      0.000000        0.000000   \n",
            "25%        8.000000          75.000000      0.700000        1.600000   \n",
            "50%      111.000000          81.000000      1.200000        3.300000   \n",
            "75%      312.000000          85.000000      1.900000        5.500000   \n",
            "max     2072.000000          97.000000     11.200000        7.900000   \n",
            "\n",
            "       Bright_Sunshine  Station_Number          X_COR          Y_COR  \\\n",
            "count     20544.000000    20544.000000   20544.000000   20544.000000   \n",
            "mean          6.419056    41935.098131  549703.189176  579280.955958   \n",
            "std           1.747959       36.516932  116032.076255  130616.053201   \n",
            "min           0.000000    41859.000000       0.000000       0.000000   \n",
            "25%           4.965517    41909.000000  435303.700000  504500.300000   \n",
            "50%           6.800000    41941.000000  540098.600000  561770.300000   \n",
            "75%           7.800000    41963.000000  650012.100000  687095.900000   \n",
            "max          11.000000    41998.000000  734765.400000  844822.300000   \n",
            "\n",
            "           LATITUDE     LONGITUDE           ALT        Period       Flood?  \n",
            "count  20544.000000  20544.000000  20544.000000  20544.000000  4493.000000  \n",
            "mean      23.326647     90.493193     13.357477   1985.397944     0.919653  \n",
            "std        1.155241      1.108720     13.529530     17.610832     0.271860  \n",
            "min       20.870000     88.560000      0.000000   1948.010000     0.000000  \n",
            "25%       22.640000     89.550000      4.000000   1972.050000     1.000000  \n",
            "50%       23.170000     90.410000      7.000000   1987.040000     1.000000  \n",
            "75%       24.290000     91.460000     19.000000   2000.092500     1.000000  \n",
            "max       25.720000     92.260000     63.000000   2013.120000     1.000000  \n",
            "\n",
            "Missing Values:\n",
            "Sl                       0\n",
            "Station_Names            0\n",
            "Year                     0\n",
            "Month                    0\n",
            "Max_Temp                 0\n",
            "Min_Temp                 0\n",
            "Rainfall                 0\n",
            "Relative_Humidity        0\n",
            "Wind_Speed               0\n",
            "Cloud_Coverage           0\n",
            "Bright_Sunshine          0\n",
            "Station_Number           0\n",
            "X_COR                    0\n",
            "Y_COR                    0\n",
            "LATITUDE                 0\n",
            "LONGITUDE                0\n",
            "ALT                      0\n",
            "Period                   0\n",
            "Flood?               16051\n",
            "dtype: int64\n"
          ]
        }
      ],
      "source": [
        "# Summary statistics\n",
        "print(\"\\nStatistical Summary:\")\n",
        "print(rainfall_data.describe())\n",
        "\n",
        "# Check for missing values\n",
        "print(\"\\nMissing Values:\")\n",
        "print(rainfall_data.isnull().sum())"
      ]
    },
    {
      "cell_type": "code",
      "execution_count": 105,
      "id": "1b5ab010",
      "metadata": {
        "id": "1b5ab010"
      },
      "outputs": [],
      "source": [
        "# Value counts for target variable (if applicable)\n",
        "if 'Flood' in rainfall_data.columns:\n",
        "    print(\"\\nFlood value counts:\")\n",
        "    print(rainfall_data['Flood'].value_counts())"
      ]
    },
    {
      "cell_type": "markdown",
      "id": "54ed104c",
      "metadata": {
        "id": "54ed104c"
      },
      "source": [
        "## Data Cleaning and Encoding"
      ]
    },
    {
      "cell_type": "code",
      "execution_count": 106,
      "id": "95471852",
      "metadata": {
        "id": "95471852"
      },
      "outputs": [],
      "source": [
        "# Normalize all column names to lowercase and strip whitespace/punctuation for consistency\n",
        "rainfall_data.columns = [col.lower().strip().replace('?', '') for col in rainfall_data.columns]\n",
        "\n",
        "# Accept both 'flood' and 'flood?' as target column\n",
        "target_col = None\n",
        "if 'flood' in rainfall_data.columns:\n",
        "    target_col = 'flood'\n",
        "elif 'flood?' in [col + '?' for col in rainfall_data.columns]:\n",
        "    target_col = 'flood?'\n",
        "else:\n",
        "    raise ValueError(\"The dataset does not contain a 'Flood' or 'Flood?' column for the target variable.\")\n",
        "\n",
        "# Encode the target column\n",
        "rainfall_data[target_col] = (\n",
        "    rainfall_data[target_col]\n",
        "    .astype(str)\n",
        "    .str.strip()\n",
        "    .str.lower()\n",
        "    .replace({'yes': 1, 'no': 0, '': 0, 'nan': 0})\n",
        "    .astype(float)  # Convert to float first to handle '1.0', '0.0'\n",
        "    .astype(int)    # Then to int\n",
        ")\n",
        "\n",
        "# If you want to always use 'flood' as the column name for the rest of your code:\n",
        "if target_col != 'flood':\n",
        "    rainfall_data.rename(columns={target_col: 'flood'}, inplace=True)\n",
        "    target_col = 'flood'"
      ]
    },
    {
      "cell_type": "code",
      "execution_count": 107,
      "id": "708af030",
      "metadata": {
        "colab": {
          "base_uri": "https://localhost:8080/"
        },
        "id": "708af030",
        "outputId": "0e079559-a787-4a21-ac67-c5a9bad56f77"
      },
      "outputs": [
        {
          "name": "stdout",
          "output_type": "stream",
          "text": [
            "\n",
            "Encoding non-numeric columns: ['station_names']\n"
          ]
        }
      ],
      "source": [
        "# Encode non-numeric features (excluding target)\n",
        "non_numeric_columns = rainfall_data.select_dtypes(include=['object']).columns.drop('flood', errors='ignore')\n",
        "if len(non_numeric_columns) > 0:\n",
        "    print(f\"\\nEncoding non-numeric columns: {non_numeric_columns.tolist()}\")\n",
        "    for column in non_numeric_columns:\n",
        "        rainfall_data[column] = LabelEncoder().fit_transform(rainfall_data[column].astype(str))\n",
        "else:\n",
        "    print(\"\\nNo non-numeric columns to encode.\")"
      ]
    },
    {
      "cell_type": "code",
      "execution_count": 108,
      "id": "e0b57f85",
      "metadata": {
        "id": "e0b57f85"
      },
      "outputs": [],
      "source": [
        "# Fill missing values with median (safer for numeric data)\n",
        "rainfall_data.fillna(rainfall_data.median(numeric_only=True), inplace=True)"
      ]
    },
    {
      "cell_type": "markdown",
      "id": "wCkNdd-RBLzf",
      "metadata": {
        "id": "wCkNdd-RBLzf"
      },
      "source": [
        "### Sort by Station_Names"
      ]
    },
    {
      "cell_type": "code",
      "execution_count": 109,
      "id": "ujXHTwAcA-d6",
      "metadata": {
        "id": "ujXHTwAcA-d6"
      },
      "outputs": [],
      "source": [
        "lag = 1\n",
        "\n",
        "# 1. Sort data by station and date/order\n",
        "rainfall_data = rainfall_data.sort_values(by=['station_names', 'year', 'month', 'sl'])\n",
        "\n",
        "# 2. Group by Station_Names\n",
        "grouped = rainfall_data.groupby('station_names')\n",
        "\n",
        "# 3. Shift the 'flood' column (or other features) within each group\n",
        "# For example, to predict next day's flood based on today's data:\n",
        "rainfall_data['flood_next_day'] = grouped['flood'].shift(-lag)\n",
        "\n",
        "# 4. Drop rows with NaN in 'Flood_next_day' (last row of each station group)\n",
        "rainfall_data = rainfall_data.dropna(subset=['flood_next_day'])\n",
        "\n",
        "# Now, df contains data with the lagged target, correctly aligned within each station"
      ]
    },
    {
      "cell_type": "code",
      "execution_count": 110,
      "id": "Qi-WVWkSFtd6",
      "metadata": {
        "colab": {
          "base_uri": "https://localhost:8080/"
        },
        "id": "Qi-WVWkSFtd6",
        "outputId": "bc1fe02b-e900-4ce2-f382-850eddcefca4"
      },
      "outputs": [
        {
          "data": {
            "text/plain": [
              "((33, 2), (20511, 20))"
            ]
          },
          "execution_count": 110,
          "metadata": {},
          "output_type": "execute_result"
        }
      ],
      "source": [
        "pd.DataFrame(grouped).shape, rainfall_data.shape"
      ]
    },
    {
      "cell_type": "markdown",
      "id": "9eebd77c",
      "metadata": {
        "id": "9eebd77c"
      },
      "source": [
        "## Data Splitting"
      ]
    },
    {
      "cell_type": "code",
      "execution_count": 111,
      "id": "37bad278",
      "metadata": {
        "id": "37bad278"
      },
      "outputs": [],
      "source": [
        "import pandas as pd\n",
        "\n",
        "X = rainfall_data.drop(columns=['sl', 'flood', 'flood_next_day', 'station_names', 'station_number', 'x_cor', 'y_cor', 'period'], axis=1)\n",
        "y = rainfall_data['flood_next_day']\n",
        "\n",
        "from sklearn.model_selection import train_test_split\n",
        "X_train, X_val, y_train, y_val = train_test_split(X, y, test_size=0.2, shuffle=False)"
      ]
    },
    {
      "cell_type": "markdown",
      "id": "162462ad",
      "metadata": {
        "id": "162462ad"
      },
      "source": [
        "## Define Models"
      ]
    },
    {
      "cell_type": "code",
      "execution_count": 112,
      "id": "1a5405d1",
      "metadata": {
        "id": "1a5405d1"
      },
      "outputs": [],
      "source": [
        "# Define pipelines for Logistic Regression\n",
        "logistic_pipeline = ImbPipeline([\n",
        "    ('smote', SMOTE(random_state=42)),\n",
        "    ('scaler', StandardScaler()),\n",
        "    ('clf', LogisticRegression(C=0.5, penalty='l2', solver='liblinear', class_weight='balanced', random_state=42))\n",
        "])\n",
        "\n",
        "# Define pipeline for SVM\n",
        "svm_pipeline = Pipeline([\n",
        "    ('scaler', StandardScaler()),\n",
        "    ('clf', LinearSVC(C=1.0, max_iter=2000, dual=False, class_weight='balanced', random_state=42))\n",
        "])\n",
        "\n",
        "# Define pipeline for Random Forest\n",
        "rf_pipeline = Pipeline([\n",
        "    ('clf', RandomForestClassifier(random_state=42))\n",
        "])\n"
      ]
    },
    {
      "cell_type": "markdown",
      "id": "c4e9e860",
      "metadata": {
        "id": "c4e9e860"
      },
      "source": [
        "## Model Evaluation"
      ]
    },
    {
      "cell_type": "code",
      "execution_count": 113,
      "id": "cd426a4e",
      "metadata": {
        "colab": {
          "base_uri": "https://localhost:8080/"
        },
        "id": "cd426a4e",
        "outputId": "01190813-d58c-40d7-fe18-498a4651795f"
      },
      "outputs": [
        {
          "name": "stdout",
          "output_type": "stream",
          "text": [
            "\n",
            "Logistic Regression Validation Accuracy: 0.7930782354374848\n",
            "\n",
            "Logistic Regression Validation Classification Report:\n",
            "              precision    recall  f1-score   support\n",
            "\n",
            "         0.0       0.96      0.77      0.86      3281\n",
            "         1.0       0.49      0.88      0.63       822\n",
            "\n",
            "    accuracy                           0.79      4103\n",
            "   macro avg       0.73      0.82      0.74      4103\n",
            "weighted avg       0.87      0.79      0.81      4103\n",
            "\n",
            "Logistic Regression Predictions: [1. 1. 1. 0. 0. 0. 0. 0. 0. 0.]\n",
            "Logistic Regression CV Accuracy: 0.791 ± 0.005\n",
            "Logistic Regression CV ROC-AUC: 0.892 ± 0.007\n"
          ]
        }
      ],
      "source": [
        "# Train and evaluate Logistic Regression model\n",
        "try:\n",
        "    logistic_pipeline.fit(X_train, y_train)\n",
        "    y_pred_lr = logistic_pipeline.predict(X_val)\n",
        "    print(\"\\nLogistic Regression Validation Accuracy:\", accuracy_score(y_val, y_pred_lr))\n",
        "    print(\"\\nLogistic Regression Validation Classification Report:\")\n",
        "    print(classification_report(y_val, y_pred_lr))\n",
        "    print(\"Logistic Regression Predictions:\", y_pred_lr[:10])\n",
        "\n",
        "    # Cross-validation\n",
        "    skf = StratifiedKFold(n_splits=5, shuffle=True, random_state=42)\n",
        "\n",
        "    cv_results_lr = cross_validate(logistic_pipeline, X, y, cv=skf, scoring=['accuracy', 'roc_auc'], n_jobs=-1)\n",
        "    cv_scores_lr_acc = cv_results_lr['test_accuracy']\n",
        "    cv_scores_lr_auc = cv_results_lr['test_roc_auc']\n",
        "\n",
        "    print(\"Logistic Regression CV Accuracy: %.3f ± %.3f\" % (cv_scores_lr_acc.mean(), cv_scores_lr_acc.std()))\n",
        "    print(\"Logistic Regression CV ROC-AUC: %.3f ± %.3f\" % (cv_scores_lr_auc.mean(), cv_scores_lr_auc.std()))\n",
        "\n",
        "except Exception as e:\n",
        "    print(f\"Error training the Logistic Regression model: {e}\")\n"
      ]
    },
    {
      "cell_type": "code",
      "execution_count": 114,
      "id": "1d7e2923",
      "metadata": {
        "colab": {
          "base_uri": "https://localhost:8080/"
        },
        "id": "1d7e2923",
        "outputId": "4bdeb366-d480-479d-f5e1-1e67f342332b"
      },
      "outputs": [
        {
          "name": "stdout",
          "output_type": "stream",
          "text": [
            "\n",
            "SVM Validation Accuracy: 0.7655374116500122\n",
            "\n",
            "SVM Validation Classification Report:\n",
            "              precision    recall  f1-score   support\n",
            "\n",
            "         0.0       0.97      0.73      0.83      3281\n",
            "         1.0       0.46      0.91      0.61       822\n",
            "\n",
            "    accuracy                           0.77      4103\n",
            "   macro avg       0.71      0.82      0.72      4103\n",
            "weighted avg       0.87      0.77      0.79      4103\n",
            "\n",
            "SVM Predictions: [1. 1. 1. 1. 0. 0. 0. 0. 0. 0.]\n",
            "SVM Cross-Validation Accuracy: 0.769 ± 0.004\n"
          ]
        }
      ],
      "source": [
        "# Train and evaluate SVM model\n",
        "try:\n",
        "    svm_pipeline.fit(X_train, y_train)\n",
        "    y_pred_svm = svm_pipeline.predict(X_val)\n",
        "    print(\"\\nSVM Validation Accuracy:\", accuracy_score(y_val, y_pred_svm))\n",
        "    print(\"\\nSVM Validation Classification Report:\")\n",
        "    print(classification_report(y_val, y_pred_svm))\n",
        "    print(\"SVM Predictions:\", y_pred_svm[:10])\n",
        "\n",
        "    # Cross-validation\n",
        "    cv_results_svm = cross_validate(svm_pipeline, X, y, cv=skf, scoring=['accuracy'], n_jobs=-1)\n",
        "    cv_scores_svm = cv_results_svm['test_accuracy']\n",
        "\n",
        "    print(\"SVM Cross-Validation Accuracy: %.3f ± %.3f\" % (cv_scores_svm.mean(), cv_scores_svm.std()))\n",
        "\n",
        "except Exception as e:\n",
        "    print(f\"Error training the SVM model: {e}\")\n"
      ]
    },
    {
      "cell_type": "code",
      "execution_count": 115,
      "id": "41117f76",
      "metadata": {
        "colab": {
          "base_uri": "https://localhost:8080/"
        },
        "id": "41117f76",
        "outputId": "40d4ab5f-be99-40de-e227-3f881a28b196"
      },
      "outputs": [
        {
          "name": "stdout",
          "output_type": "stream",
          "text": [
            "\n",
            "Random Forest Validation Accuracy: 0.8720448452351938\n",
            "\n",
            "Random Forest Validation Classification Report:\n",
            "              precision    recall  f1-score   support\n",
            "\n",
            "         0.0       0.90      0.95      0.92      3281\n",
            "         1.0       0.73      0.58      0.65       822\n",
            "\n",
            "    accuracy                           0.87      4103\n",
            "   macro avg       0.81      0.76      0.78      4103\n",
            "weighted avg       0.87      0.87      0.87      4103\n",
            "\n",
            "Random Forest Predictions: [1. 0. 0. 0. 0. 0. 0. 0. 0. 0.]\n",
            "Random Forest Cross-Validation Accuracy: 0.886 ± 0.003\n"
          ]
        }
      ],
      "source": [
        "# Train and evaluate Random Forest model\n",
        "try:\n",
        "    rf_pipeline.fit(X_train, y_train)\n",
        "    y_pred_rf = rf_pipeline.predict(X_val)\n",
        "    print(\"\\nRandom Forest Validation Accuracy:\", accuracy_score(y_val, y_pred_rf))\n",
        "    print(\"\\nRandom Forest Validation Classification Report:\")\n",
        "    print(classification_report(y_val, y_pred_rf))\n",
        "    print(\"Random Forest Predictions:\", y_pred_rf[:10])\n",
        "\n",
        "    # Cross-validation\n",
        "    cv_results_rf = cross_validate(rf_pipeline, X, y, cv=skf, scoring=['accuracy', 'roc_auc'], n_jobs=-1)\n",
        "    cv_scores_rf = cv_results_rf['test_accuracy']\n",
        "\n",
        "    print(\"Random Forest Cross-Validation Accuracy: %.3f ± %.3f\" % (cv_scores_rf.mean(), cv_scores_rf.std()))\n",
        "\n",
        "except Exception as e:\n",
        "    print(f\"Error training the Random Forest model: {e}\")\n"
      ]
    },
    {
      "cell_type": "markdown",
      "id": "e3857185",
      "metadata": {
        "id": "e3857185"
      },
      "source": [
        "## Comparison Summary"
      ]
    },
    {
      "cell_type": "code",
      "execution_count": 116,
      "id": "21dfeb38",
      "metadata": {
        "colab": {
          "base_uri": "https://localhost:8080/"
        },
        "id": "21dfeb38",
        "outputId": "d9916011-f684-4179-e57f-fa037bc794bc"
      },
      "outputs": [
        {
          "name": "stdout",
          "output_type": "stream",
          "text": [
            "\n",
            "=== Model Comparison Summary ===\n",
            "\n",
            "Logistic Regression:\n",
            "  Validation Accuracy: 0.7931\n",
            "  Cross-Validation Accuracy Mean: 0.7909\n",
            "  Cross-Validation Accuracy Std: 0.0049\n",
            "\n",
            "SVM:\n",
            "  Validation Accuracy: 0.7655\n",
            "  Cross-Validation Accuracy Mean: 0.7686\n",
            "  Cross-Validation Accuracy Std: 0.0037\n",
            "\n",
            "Random Forest:\n",
            "  Validation Accuracy: 0.8720\n",
            "  Cross-Validation Accuracy Mean: 0.8862\n",
            "  Cross-Validation Accuracy Std: 0.0030\n"
          ]
        }
      ],
      "source": [
        "# Store model results\n",
        "results = {\n",
        "    \"Logistic Regression\": {\n",
        "        \"Validation Accuracy\": accuracy_score(y_val, y_pred_lr),\n",
        "        \"Cross-Validation Accuracy Mean\": cv_scores_lr_acc.mean(),\n",
        "        \"Cross-Validation Accuracy Std\": cv_scores_lr_acc.std()\n",
        "    },\n",
        "    \"SVM\": {\n",
        "        \"Validation Accuracy\": accuracy_score(y_val, y_pred_svm),\n",
        "        \"Cross-Validation Accuracy Mean\": cv_scores_svm.mean(),\n",
        "        \"Cross-Validation Accuracy Std\": cv_scores_svm.std()\n",
        "    },\n",
        "    \"Random Forest\": {\n",
        "        \"Validation Accuracy\": accuracy_score(y_val, y_pred_rf),\n",
        "        \"Cross-Validation Accuracy Mean\": cv_scores_rf.mean(),\n",
        "        \"Cross-Validation Accuracy Std\": cv_scores_rf.std()\n",
        "    }\n",
        "}\n",
        "\n",
        "# Display comparison results\n",
        "print(\"\\n=== Model Comparison Summary ===\")\n",
        "for model_name, metrics in results.items():\n",
        "    print(f\"\\n{model_name}:\")\n",
        "    for metric_name, value in metrics.items():\n",
        "        print(f\"  {metric_name}: {value:.4f}\")\n",
        "\n",
        "# Determine best model based on average CV accuracy\n",
        "best_model = max(results.items(), key=lambda item: item[1][\"Cross-Validation Accuracy Mean\"])\n",
        "best_model_name = best_model[0]\n"
      ]
    },
    {
      "cell_type": "markdown",
      "id": "e8863862",
      "metadata": {
        "id": "e8863862"
      },
      "source": [
        "## Select Best Model"
      ]
    },
    {
      "cell_type": "code",
      "execution_count": 117,
      "id": "e5df341d",
      "metadata": {
        "colab": {
          "base_uri": "https://localhost:8080/"
        },
        "id": "e5df341d",
        "outputId": "0cb9c842-5b0d-4f32-cabe-47bc3ade45d1"
      },
      "outputs": [
        {
          "name": "stdout",
          "output_type": "stream",
          "text": [
            "\n",
            "Best Model Selected: Random Forest\n"
          ]
        }
      ],
      "source": [
        "best_model_name = max(results.items(), key=lambda m: m[1][\"Cross-Validation Accuracy Mean\"])[0]\n",
        "print(f\"\\nBest Model Selected: {best_model_name}\")"
      ]
    },
    {
      "cell_type": "code",
      "execution_count": 118,
      "id": "848b4634",
      "metadata": {
        "colab": {
          "base_uri": "https://localhost:8080/",
          "height": 115
        },
        "id": "848b4634",
        "outputId": "f8837a9e-9cdd-4f1d-e46d-84e32ee9ca82"
      },
      "outputs": [
        {
          "data": {
            "text/html": [
              "<style>#sk-container-id-6 {\n",
              "  /* Definition of color scheme common for light and dark mode */\n",
              "  --sklearn-color-text: #000;\n",
              "  --sklearn-color-text-muted: #666;\n",
              "  --sklearn-color-line: gray;\n",
              "  /* Definition of color scheme for unfitted estimators */\n",
              "  --sklearn-color-unfitted-level-0: #fff5e6;\n",
              "  --sklearn-color-unfitted-level-1: #f6e4d2;\n",
              "  --sklearn-color-unfitted-level-2: #ffe0b3;\n",
              "  --sklearn-color-unfitted-level-3: chocolate;\n",
              "  /* Definition of color scheme for fitted estimators */\n",
              "  --sklearn-color-fitted-level-0: #f0f8ff;\n",
              "  --sklearn-color-fitted-level-1: #d4ebff;\n",
              "  --sklearn-color-fitted-level-2: #b3dbfd;\n",
              "  --sklearn-color-fitted-level-3: cornflowerblue;\n",
              "\n",
              "  /* Specific color for light theme */\n",
              "  --sklearn-color-text-on-default-background: var(--sg-text-color, var(--theme-code-foreground, var(--jp-content-font-color1, black)));\n",
              "  --sklearn-color-background: var(--sg-background-color, var(--theme-background, var(--jp-layout-color0, white)));\n",
              "  --sklearn-color-border-box: var(--sg-text-color, var(--theme-code-foreground, var(--jp-content-font-color1, black)));\n",
              "  --sklearn-color-icon: #696969;\n",
              "\n",
              "  @media (prefers-color-scheme: dark) {\n",
              "    /* Redefinition of color scheme for dark theme */\n",
              "    --sklearn-color-text-on-default-background: var(--sg-text-color, var(--theme-code-foreground, var(--jp-content-font-color1, white)));\n",
              "    --sklearn-color-background: var(--sg-background-color, var(--theme-background, var(--jp-layout-color0, #111)));\n",
              "    --sklearn-color-border-box: var(--sg-text-color, var(--theme-code-foreground, var(--jp-content-font-color1, white)));\n",
              "    --sklearn-color-icon: #878787;\n",
              "  }\n",
              "}\n",
              "\n",
              "#sk-container-id-6 {\n",
              "  color: var(--sklearn-color-text);\n",
              "}\n",
              "\n",
              "#sk-container-id-6 pre {\n",
              "  padding: 0;\n",
              "}\n",
              "\n",
              "#sk-container-id-6 input.sk-hidden--visually {\n",
              "  border: 0;\n",
              "  clip: rect(1px 1px 1px 1px);\n",
              "  clip: rect(1px, 1px, 1px, 1px);\n",
              "  height: 1px;\n",
              "  margin: -1px;\n",
              "  overflow: hidden;\n",
              "  padding: 0;\n",
              "  position: absolute;\n",
              "  width: 1px;\n",
              "}\n",
              "\n",
              "#sk-container-id-6 div.sk-dashed-wrapped {\n",
              "  border: 1px dashed var(--sklearn-color-line);\n",
              "  margin: 0 0.4em 0.5em 0.4em;\n",
              "  box-sizing: border-box;\n",
              "  padding-bottom: 0.4em;\n",
              "  background-color: var(--sklearn-color-background);\n",
              "}\n",
              "\n",
              "#sk-container-id-6 div.sk-container {\n",
              "  /* jupyter's `normalize.less` sets `[hidden] { display: none; }`\n",
              "     but bootstrap.min.css set `[hidden] { display: none !important; }`\n",
              "     so we also need the `!important` here to be able to override the\n",
              "     default hidden behavior on the sphinx rendered scikit-learn.org.\n",
              "     See: https://github.com/scikit-learn/scikit-learn/issues/21755 */\n",
              "  display: inline-block !important;\n",
              "  position: relative;\n",
              "}\n",
              "\n",
              "#sk-container-id-6 div.sk-text-repr-fallback {\n",
              "  display: none;\n",
              "}\n",
              "\n",
              "div.sk-parallel-item,\n",
              "div.sk-serial,\n",
              "div.sk-item {\n",
              "  /* draw centered vertical line to link estimators */\n",
              "  background-image: linear-gradient(var(--sklearn-color-text-on-default-background), var(--sklearn-color-text-on-default-background));\n",
              "  background-size: 2px 100%;\n",
              "  background-repeat: no-repeat;\n",
              "  background-position: center center;\n",
              "}\n",
              "\n",
              "/* Parallel-specific style estimator block */\n",
              "\n",
              "#sk-container-id-6 div.sk-parallel-item::after {\n",
              "  content: \"\";\n",
              "  width: 100%;\n",
              "  border-bottom: 2px solid var(--sklearn-color-text-on-default-background);\n",
              "  flex-grow: 1;\n",
              "}\n",
              "\n",
              "#sk-container-id-6 div.sk-parallel {\n",
              "  display: flex;\n",
              "  align-items: stretch;\n",
              "  justify-content: center;\n",
              "  background-color: var(--sklearn-color-background);\n",
              "  position: relative;\n",
              "}\n",
              "\n",
              "#sk-container-id-6 div.sk-parallel-item {\n",
              "  display: flex;\n",
              "  flex-direction: column;\n",
              "}\n",
              "\n",
              "#sk-container-id-6 div.sk-parallel-item:first-child::after {\n",
              "  align-self: flex-end;\n",
              "  width: 50%;\n",
              "}\n",
              "\n",
              "#sk-container-id-6 div.sk-parallel-item:last-child::after {\n",
              "  align-self: flex-start;\n",
              "  width: 50%;\n",
              "}\n",
              "\n",
              "#sk-container-id-6 div.sk-parallel-item:only-child::after {\n",
              "  width: 0;\n",
              "}\n",
              "\n",
              "/* Serial-specific style estimator block */\n",
              "\n",
              "#sk-container-id-6 div.sk-serial {\n",
              "  display: flex;\n",
              "  flex-direction: column;\n",
              "  align-items: center;\n",
              "  background-color: var(--sklearn-color-background);\n",
              "  padding-right: 1em;\n",
              "  padding-left: 1em;\n",
              "}\n",
              "\n",
              "\n",
              "/* Toggleable style: style used for estimator/Pipeline/ColumnTransformer box that is\n",
              "clickable and can be expanded/collapsed.\n",
              "- Pipeline and ColumnTransformer use this feature and define the default style\n",
              "- Estimators will overwrite some part of the style using the `sk-estimator` class\n",
              "*/\n",
              "\n",
              "/* Pipeline and ColumnTransformer style (default) */\n",
              "\n",
              "#sk-container-id-6 div.sk-toggleable {\n",
              "  /* Default theme specific background. It is overwritten whether we have a\n",
              "  specific estimator or a Pipeline/ColumnTransformer */\n",
              "  background-color: var(--sklearn-color-background);\n",
              "}\n",
              "\n",
              "/* Toggleable label */\n",
              "#sk-container-id-6 label.sk-toggleable__label {\n",
              "  cursor: pointer;\n",
              "  display: flex;\n",
              "  width: 100%;\n",
              "  margin-bottom: 0;\n",
              "  padding: 0.5em;\n",
              "  box-sizing: border-box;\n",
              "  text-align: center;\n",
              "  align-items: start;\n",
              "  justify-content: space-between;\n",
              "  gap: 0.5em;\n",
              "}\n",
              "\n",
              "#sk-container-id-6 label.sk-toggleable__label .caption {\n",
              "  font-size: 0.6rem;\n",
              "  font-weight: lighter;\n",
              "  color: var(--sklearn-color-text-muted);\n",
              "}\n",
              "\n",
              "#sk-container-id-6 label.sk-toggleable__label-arrow:before {\n",
              "  /* Arrow on the left of the label */\n",
              "  content: \"▸\";\n",
              "  float: left;\n",
              "  margin-right: 0.25em;\n",
              "  color: var(--sklearn-color-icon);\n",
              "}\n",
              "\n",
              "#sk-container-id-6 label.sk-toggleable__label-arrow:hover:before {\n",
              "  color: var(--sklearn-color-text);\n",
              "}\n",
              "\n",
              "/* Toggleable content - dropdown */\n",
              "\n",
              "#sk-container-id-6 div.sk-toggleable__content {\n",
              "  max-height: 0;\n",
              "  max-width: 0;\n",
              "  overflow: hidden;\n",
              "  text-align: left;\n",
              "  /* unfitted */\n",
              "  background-color: var(--sklearn-color-unfitted-level-0);\n",
              "}\n",
              "\n",
              "#sk-container-id-6 div.sk-toggleable__content.fitted {\n",
              "  /* fitted */\n",
              "  background-color: var(--sklearn-color-fitted-level-0);\n",
              "}\n",
              "\n",
              "#sk-container-id-6 div.sk-toggleable__content pre {\n",
              "  margin: 0.2em;\n",
              "  border-radius: 0.25em;\n",
              "  color: var(--sklearn-color-text);\n",
              "  /* unfitted */\n",
              "  background-color: var(--sklearn-color-unfitted-level-0);\n",
              "}\n",
              "\n",
              "#sk-container-id-6 div.sk-toggleable__content.fitted pre {\n",
              "  /* unfitted */\n",
              "  background-color: var(--sklearn-color-fitted-level-0);\n",
              "}\n",
              "\n",
              "#sk-container-id-6 input.sk-toggleable__control:checked~div.sk-toggleable__content {\n",
              "  /* Expand drop-down */\n",
              "  max-height: 200px;\n",
              "  max-width: 100%;\n",
              "  overflow: auto;\n",
              "}\n",
              "\n",
              "#sk-container-id-6 input.sk-toggleable__control:checked~label.sk-toggleable__label-arrow:before {\n",
              "  content: \"▾\";\n",
              "}\n",
              "\n",
              "/* Pipeline/ColumnTransformer-specific style */\n",
              "\n",
              "#sk-container-id-6 div.sk-label input.sk-toggleable__control:checked~label.sk-toggleable__label {\n",
              "  color: var(--sklearn-color-text);\n",
              "  background-color: var(--sklearn-color-unfitted-level-2);\n",
              "}\n",
              "\n",
              "#sk-container-id-6 div.sk-label.fitted input.sk-toggleable__control:checked~label.sk-toggleable__label {\n",
              "  background-color: var(--sklearn-color-fitted-level-2);\n",
              "}\n",
              "\n",
              "/* Estimator-specific style */\n",
              "\n",
              "/* Colorize estimator box */\n",
              "#sk-container-id-6 div.sk-estimator input.sk-toggleable__control:checked~label.sk-toggleable__label {\n",
              "  /* unfitted */\n",
              "  background-color: var(--sklearn-color-unfitted-level-2);\n",
              "}\n",
              "\n",
              "#sk-container-id-6 div.sk-estimator.fitted input.sk-toggleable__control:checked~label.sk-toggleable__label {\n",
              "  /* fitted */\n",
              "  background-color: var(--sklearn-color-fitted-level-2);\n",
              "}\n",
              "\n",
              "#sk-container-id-6 div.sk-label label.sk-toggleable__label,\n",
              "#sk-container-id-6 div.sk-label label {\n",
              "  /* The background is the default theme color */\n",
              "  color: var(--sklearn-color-text-on-default-background);\n",
              "}\n",
              "\n",
              "/* On hover, darken the color of the background */\n",
              "#sk-container-id-6 div.sk-label:hover label.sk-toggleable__label {\n",
              "  color: var(--sklearn-color-text);\n",
              "  background-color: var(--sklearn-color-unfitted-level-2);\n",
              "}\n",
              "\n",
              "/* Label box, darken color on hover, fitted */\n",
              "#sk-container-id-6 div.sk-label.fitted:hover label.sk-toggleable__label.fitted {\n",
              "  color: var(--sklearn-color-text);\n",
              "  background-color: var(--sklearn-color-fitted-level-2);\n",
              "}\n",
              "\n",
              "/* Estimator label */\n",
              "\n",
              "#sk-container-id-6 div.sk-label label {\n",
              "  font-family: monospace;\n",
              "  font-weight: bold;\n",
              "  display: inline-block;\n",
              "  line-height: 1.2em;\n",
              "}\n",
              "\n",
              "#sk-container-id-6 div.sk-label-container {\n",
              "  text-align: center;\n",
              "}\n",
              "\n",
              "/* Estimator-specific */\n",
              "#sk-container-id-6 div.sk-estimator {\n",
              "  font-family: monospace;\n",
              "  border: 1px dotted var(--sklearn-color-border-box);\n",
              "  border-radius: 0.25em;\n",
              "  box-sizing: border-box;\n",
              "  margin-bottom: 0.5em;\n",
              "  /* unfitted */\n",
              "  background-color: var(--sklearn-color-unfitted-level-0);\n",
              "}\n",
              "\n",
              "#sk-container-id-6 div.sk-estimator.fitted {\n",
              "  /* fitted */\n",
              "  background-color: var(--sklearn-color-fitted-level-0);\n",
              "}\n",
              "\n",
              "/* on hover */\n",
              "#sk-container-id-6 div.sk-estimator:hover {\n",
              "  /* unfitted */\n",
              "  background-color: var(--sklearn-color-unfitted-level-2);\n",
              "}\n",
              "\n",
              "#sk-container-id-6 div.sk-estimator.fitted:hover {\n",
              "  /* fitted */\n",
              "  background-color: var(--sklearn-color-fitted-level-2);\n",
              "}\n",
              "\n",
              "/* Specification for estimator info (e.g. \"i\" and \"?\") */\n",
              "\n",
              "/* Common style for \"i\" and \"?\" */\n",
              "\n",
              ".sk-estimator-doc-link,\n",
              "a:link.sk-estimator-doc-link,\n",
              "a:visited.sk-estimator-doc-link {\n",
              "  float: right;\n",
              "  font-size: smaller;\n",
              "  line-height: 1em;\n",
              "  font-family: monospace;\n",
              "  background-color: var(--sklearn-color-background);\n",
              "  border-radius: 1em;\n",
              "  height: 1em;\n",
              "  width: 1em;\n",
              "  text-decoration: none !important;\n",
              "  margin-left: 0.5em;\n",
              "  text-align: center;\n",
              "  /* unfitted */\n",
              "  border: var(--sklearn-color-unfitted-level-1) 1pt solid;\n",
              "  color: var(--sklearn-color-unfitted-level-1);\n",
              "}\n",
              "\n",
              ".sk-estimator-doc-link.fitted,\n",
              "a:link.sk-estimator-doc-link.fitted,\n",
              "a:visited.sk-estimator-doc-link.fitted {\n",
              "  /* fitted */\n",
              "  border: var(--sklearn-color-fitted-level-1) 1pt solid;\n",
              "  color: var(--sklearn-color-fitted-level-1);\n",
              "}\n",
              "\n",
              "/* On hover */\n",
              "div.sk-estimator:hover .sk-estimator-doc-link:hover,\n",
              ".sk-estimator-doc-link:hover,\n",
              "div.sk-label-container:hover .sk-estimator-doc-link:hover,\n",
              ".sk-estimator-doc-link:hover {\n",
              "  /* unfitted */\n",
              "  background-color: var(--sklearn-color-unfitted-level-3);\n",
              "  color: var(--sklearn-color-background);\n",
              "  text-decoration: none;\n",
              "}\n",
              "\n",
              "div.sk-estimator.fitted:hover .sk-estimator-doc-link.fitted:hover,\n",
              ".sk-estimator-doc-link.fitted:hover,\n",
              "div.sk-label-container:hover .sk-estimator-doc-link.fitted:hover,\n",
              ".sk-estimator-doc-link.fitted:hover {\n",
              "  /* fitted */\n",
              "  background-color: var(--sklearn-color-fitted-level-3);\n",
              "  color: var(--sklearn-color-background);\n",
              "  text-decoration: none;\n",
              "}\n",
              "\n",
              "/* Span, style for the box shown on hovering the info icon */\n",
              ".sk-estimator-doc-link span {\n",
              "  display: none;\n",
              "  z-index: 9999;\n",
              "  position: relative;\n",
              "  font-weight: normal;\n",
              "  right: .2ex;\n",
              "  padding: .5ex;\n",
              "  margin: .5ex;\n",
              "  width: min-content;\n",
              "  min-width: 20ex;\n",
              "  max-width: 50ex;\n",
              "  color: var(--sklearn-color-text);\n",
              "  box-shadow: 2pt 2pt 4pt #999;\n",
              "  /* unfitted */\n",
              "  background: var(--sklearn-color-unfitted-level-0);\n",
              "  border: .5pt solid var(--sklearn-color-unfitted-level-3);\n",
              "}\n",
              "\n",
              ".sk-estimator-doc-link.fitted span {\n",
              "  /* fitted */\n",
              "  background: var(--sklearn-color-fitted-level-0);\n",
              "  border: var(--sklearn-color-fitted-level-3);\n",
              "}\n",
              "\n",
              ".sk-estimator-doc-link:hover span {\n",
              "  display: block;\n",
              "}\n",
              "\n",
              "/* \"?\"-specific style due to the `<a>` HTML tag */\n",
              "\n",
              "#sk-container-id-6 a.estimator_doc_link {\n",
              "  float: right;\n",
              "  font-size: 1rem;\n",
              "  line-height: 1em;\n",
              "  font-family: monospace;\n",
              "  background-color: var(--sklearn-color-background);\n",
              "  border-radius: 1rem;\n",
              "  height: 1rem;\n",
              "  width: 1rem;\n",
              "  text-decoration: none;\n",
              "  /* unfitted */\n",
              "  color: var(--sklearn-color-unfitted-level-1);\n",
              "  border: var(--sklearn-color-unfitted-level-1) 1pt solid;\n",
              "}\n",
              "\n",
              "#sk-container-id-6 a.estimator_doc_link.fitted {\n",
              "  /* fitted */\n",
              "  border: var(--sklearn-color-fitted-level-1) 1pt solid;\n",
              "  color: var(--sklearn-color-fitted-level-1);\n",
              "}\n",
              "\n",
              "/* On hover */\n",
              "#sk-container-id-6 a.estimator_doc_link:hover {\n",
              "  /* unfitted */\n",
              "  background-color: var(--sklearn-color-unfitted-level-3);\n",
              "  color: var(--sklearn-color-background);\n",
              "  text-decoration: none;\n",
              "}\n",
              "\n",
              "#sk-container-id-6 a.estimator_doc_link.fitted:hover {\n",
              "  /* fitted */\n",
              "  background-color: var(--sklearn-color-fitted-level-3);\n",
              "}\n",
              "</style><div id=\"sk-container-id-6\" class=\"sk-top-container\"><div class=\"sk-text-repr-fallback\"><pre>Pipeline(steps=[(&#x27;clf&#x27;, RandomForestClassifier(random_state=42))])</pre><b>In a Jupyter environment, please rerun this cell to show the HTML representation or trust the notebook. <br />On GitHub, the HTML representation is unable to render, please try loading this page with nbviewer.org.</b></div><div class=\"sk-container\" hidden><div class=\"sk-item sk-dashed-wrapped\"><div class=\"sk-label-container\"><div class=\"sk-label fitted sk-toggleable\"><input class=\"sk-toggleable__control sk-hidden--visually\" id=\"sk-estimator-id-11\" type=\"checkbox\" ><label for=\"sk-estimator-id-11\" class=\"sk-toggleable__label fitted sk-toggleable__label-arrow\"><div><div>Pipeline</div></div><div><a class=\"sk-estimator-doc-link fitted\" rel=\"noreferrer\" target=\"_blank\" href=\"https://scikit-learn.org/1.6/modules/generated/sklearn.pipeline.Pipeline.html\">?<span>Documentation for Pipeline</span></a><span class=\"sk-estimator-doc-link fitted\">i<span>Fitted</span></span></div></label><div class=\"sk-toggleable__content fitted\"><pre>Pipeline(steps=[(&#x27;clf&#x27;, RandomForestClassifier(random_state=42))])</pre></div> </div></div><div class=\"sk-serial\"><div class=\"sk-item\"><div class=\"sk-estimator fitted sk-toggleable\"><input class=\"sk-toggleable__control sk-hidden--visually\" id=\"sk-estimator-id-12\" type=\"checkbox\" ><label for=\"sk-estimator-id-12\" class=\"sk-toggleable__label fitted sk-toggleable__label-arrow\"><div><div>RandomForestClassifier</div></div><div><a class=\"sk-estimator-doc-link fitted\" rel=\"noreferrer\" target=\"_blank\" href=\"https://scikit-learn.org/1.6/modules/generated/sklearn.ensemble.RandomForestClassifier.html\">?<span>Documentation for RandomForestClassifier</span></a></div></label><div class=\"sk-toggleable__content fitted\"><pre>RandomForestClassifier(random_state=42)</pre></div> </div></div></div></div></div></div>"
            ],
            "text/plain": [
              "Pipeline(steps=[('clf', RandomForestClassifier(random_state=42))])"
            ]
          },
          "execution_count": 118,
          "metadata": {},
          "output_type": "execute_result"
        }
      ],
      "source": [
        "# Retrain the best model on the entire dataset\n",
        "if best_model_name == \"Logistic Regression\":\n",
        "    best_pipeline = logistic_pipeline\n",
        "elif best_model_name == \"SVM\":\n",
        "    best_pipeline = svm_pipeline\n",
        "elif best_model_name == \"Random Forest\":\n",
        "    best_pipeline = rf_pipeline\n",
        "\n",
        "best_pipeline.fit(X, y)"
      ]
    },
    {
      "cell_type": "code",
      "execution_count": 119,
      "id": "N1Y_7gDIICVw",
      "metadata": {
        "colab": {
          "base_uri": "https://localhost:8080/"
        },
        "id": "N1Y_7gDIICVw",
        "outputId": "0cc2e7c5-faec-4e4f-d904-9d04d68405a7"
      },
      "outputs": [
        {
          "data": {
            "text/plain": [
              "['trained_model\\\\ML_verA_trained.pkl']"
            ]
          },
          "execution_count": 119,
          "metadata": {},
          "output_type": "execute_result"
        }
      ],
      "source": [
        "import joblib\n",
        "\n",
        "# Assuming your model is named 'model'\n",
        "model = best_pipeline\n",
        "\n",
        "# Save the model to a file\n",
        "os.makedirs('trained_model', exist_ok=True)  # Create folder if it doesn't exist\n",
        "joblib.dump(model, os.path.join('trained_model', 'ML_verA_trained.pkl'))"
      ]
    },
    {
      "cell_type": "markdown",
      "id": "a1c7ba85",
      "metadata": {
        "id": "a1c7ba85"
      },
      "source": [
        "## Final prediction using latest row (simulate next month)"
      ]
    },
    {
      "cell_type": "code",
      "execution_count": 123,
      "id": "96267e1e",
      "metadata": {},
      "outputs": [
        {
          "data": {
            "text/html": [
              "<div>\n",
              "<style scoped>\n",
              "    .dataframe tbody tr th:only-of-type {\n",
              "        vertical-align: middle;\n",
              "    }\n",
              "\n",
              "    .dataframe tbody tr th {\n",
              "        vertical-align: top;\n",
              "    }\n",
              "\n",
              "    .dataframe thead th {\n",
              "        text-align: right;\n",
              "    }\n",
              "</style>\n",
              "<table border=\"1\" class=\"dataframe\">\n",
              "  <thead>\n",
              "    <tr style=\"text-align: right;\">\n",
              "      <th></th>\n",
              "      <th>year</th>\n",
              "      <th>month</th>\n",
              "      <th>max_temp</th>\n",
              "      <th>min_temp</th>\n",
              "      <th>rainfall</th>\n",
              "      <th>relative_humidity</th>\n",
              "      <th>wind_speed</th>\n",
              "      <th>cloud_coverage</th>\n",
              "      <th>bright_sunshine</th>\n",
              "      <th>latitude</th>\n",
              "      <th>longitude</th>\n",
              "      <th>alt</th>\n",
              "    </tr>\n",
              "  </thead>\n",
              "  <tbody>\n",
              "    <tr>\n",
              "      <th>count</th>\n",
              "      <td>20511.000000</td>\n",
              "      <td>20511.000000</td>\n",
              "      <td>20511.000000</td>\n",
              "      <td>20511.000000</td>\n",
              "      <td>20511.000000</td>\n",
              "      <td>20511.000000</td>\n",
              "      <td>20511.000000</td>\n",
              "      <td>20511.000000</td>\n",
              "      <td>20511.000000</td>\n",
              "      <td>20511.000000</td>\n",
              "      <td>20511.000000</td>\n",
              "      <td>20511.000000</td>\n",
              "    </tr>\n",
              "    <tr>\n",
              "      <th>mean</th>\n",
              "      <td>1985.288431</td>\n",
              "      <td>6.491151</td>\n",
              "      <td>33.456271</td>\n",
              "      <td>21.177647</td>\n",
              "      <td>199.095749</td>\n",
              "      <td>79.497103</td>\n",
              "      <td>1.414556</td>\n",
              "      <td>3.489909</td>\n",
              "      <td>6.420085</td>\n",
              "      <td>23.326847</td>\n",
              "      <td>90.493087</td>\n",
              "      <td>13.359514</td>\n",
              "    </tr>\n",
              "    <tr>\n",
              "      <th>std</th>\n",
              "      <td>17.589930</td>\n",
              "      <td>3.447850</td>\n",
              "      <td>2.955371</td>\n",
              "      <td>4.945990</td>\n",
              "      <td>240.755106</td>\n",
              "      <td>7.673207</td>\n",
              "      <td>1.042613</td>\n",
              "      <td>2.082902</td>\n",
              "      <td>1.748348</td>\n",
              "      <td>1.155257</td>\n",
              "      <td>1.108729</td>\n",
              "      <td>13.530111</td>\n",
              "    </tr>\n",
              "    <tr>\n",
              "      <th>min</th>\n",
              "      <td>1948.000000</td>\n",
              "      <td>1.000000</td>\n",
              "      <td>21.600000</td>\n",
              "      <td>6.200000</td>\n",
              "      <td>0.000000</td>\n",
              "      <td>34.000000</td>\n",
              "      <td>0.000000</td>\n",
              "      <td>0.000000</td>\n",
              "      <td>0.000000</td>\n",
              "      <td>20.870000</td>\n",
              "      <td>88.560000</td>\n",
              "      <td>0.000000</td>\n",
              "    </tr>\n",
              "    <tr>\n",
              "      <th>25%</th>\n",
              "      <td>1972.000000</td>\n",
              "      <td>3.000000</td>\n",
              "      <td>31.700000</td>\n",
              "      <td>17.000000</td>\n",
              "      <td>8.000000</td>\n",
              "      <td>75.000000</td>\n",
              "      <td>0.700000</td>\n",
              "      <td>1.600000</td>\n",
              "      <td>4.965517</td>\n",
              "      <td>22.640000</td>\n",
              "      <td>89.550000</td>\n",
              "      <td>4.000000</td>\n",
              "    </tr>\n",
              "    <tr>\n",
              "      <th>50%</th>\n",
              "      <td>1987.000000</td>\n",
              "      <td>6.000000</td>\n",
              "      <td>33.900000</td>\n",
              "      <td>23.400000</td>\n",
              "      <td>112.000000</td>\n",
              "      <td>81.000000</td>\n",
              "      <td>1.200000</td>\n",
              "      <td>3.300000</td>\n",
              "      <td>6.800000</td>\n",
              "      <td>23.170000</td>\n",
              "      <td>90.410000</td>\n",
              "      <td>7.000000</td>\n",
              "    </tr>\n",
              "    <tr>\n",
              "      <th>75%</th>\n",
              "      <td>2000.000000</td>\n",
              "      <td>9.000000</td>\n",
              "      <td>35.400000</td>\n",
              "      <td>25.400000</td>\n",
              "      <td>312.000000</td>\n",
              "      <td>85.000000</td>\n",
              "      <td>1.900000</td>\n",
              "      <td>5.500000</td>\n",
              "      <td>7.800000</td>\n",
              "      <td>24.290000</td>\n",
              "      <td>91.460000</td>\n",
              "      <td>19.000000</td>\n",
              "    </tr>\n",
              "    <tr>\n",
              "      <th>max</th>\n",
              "      <td>2013.000000</td>\n",
              "      <td>12.000000</td>\n",
              "      <td>44.000000</td>\n",
              "      <td>28.100000</td>\n",
              "      <td>2072.000000</td>\n",
              "      <td>97.000000</td>\n",
              "      <td>11.200000</td>\n",
              "      <td>7.900000</td>\n",
              "      <td>11.000000</td>\n",
              "      <td>25.720000</td>\n",
              "      <td>92.260000</td>\n",
              "      <td>63.000000</td>\n",
              "    </tr>\n",
              "  </tbody>\n",
              "</table>\n",
              "</div>"
            ],
            "text/plain": [
              "               year         month      max_temp      min_temp      rainfall  \\\n",
              "count  20511.000000  20511.000000  20511.000000  20511.000000  20511.000000   \n",
              "mean    1985.288431      6.491151     33.456271     21.177647    199.095749   \n",
              "std       17.589930      3.447850      2.955371      4.945990    240.755106   \n",
              "min     1948.000000      1.000000     21.600000      6.200000      0.000000   \n",
              "25%     1972.000000      3.000000     31.700000     17.000000      8.000000   \n",
              "50%     1987.000000      6.000000     33.900000     23.400000    112.000000   \n",
              "75%     2000.000000      9.000000     35.400000     25.400000    312.000000   \n",
              "max     2013.000000     12.000000     44.000000     28.100000   2072.000000   \n",
              "\n",
              "       relative_humidity    wind_speed  cloud_coverage  bright_sunshine  \\\n",
              "count       20511.000000  20511.000000    20511.000000     20511.000000   \n",
              "mean           79.497103      1.414556        3.489909         6.420085   \n",
              "std             7.673207      1.042613        2.082902         1.748348   \n",
              "min            34.000000      0.000000        0.000000         0.000000   \n",
              "25%            75.000000      0.700000        1.600000         4.965517   \n",
              "50%            81.000000      1.200000        3.300000         6.800000   \n",
              "75%            85.000000      1.900000        5.500000         7.800000   \n",
              "max            97.000000     11.200000        7.900000        11.000000   \n",
              "\n",
              "           latitude     longitude           alt  \n",
              "count  20511.000000  20511.000000  20511.000000  \n",
              "mean      23.326847     90.493087     13.359514  \n",
              "std        1.155257      1.108729     13.530111  \n",
              "min       20.870000     88.560000      0.000000  \n",
              "25%       22.640000     89.550000      4.000000  \n",
              "50%       23.170000     90.410000      7.000000  \n",
              "75%       24.290000     91.460000     19.000000  \n",
              "max       25.720000     92.260000     63.000000  "
            ]
          },
          "execution_count": 123,
          "metadata": {},
          "output_type": "execute_result"
        }
      ],
      "source": [
        "X.describe()"
      ]
    },
    {
      "cell_type": "code",
      "execution_count": 125,
      "id": "EMurbvci_Ngd",
      "metadata": {
        "colab": {
          "base_uri": "https://localhost:8080/",
          "height": 196
        },
        "id": "EMurbvci_Ngd",
        "outputId": "17edb7e9-05d9-4fac-eb2f-d42c38fa3f6c"
      },
      "outputs": [
        {
          "name": "stdout",
          "output_type": "stream",
          "text": [
            "\n",
            "Prediction for the next month's flood status (0: No Flood, 1: Flood):\n",
            "0.0\n",
            "\n",
            "Input features used for next month prediction:\n"
          ]
        },
        {
          "data": {
            "text/html": [
              "<div>\n",
              "<style scoped>\n",
              "    .dataframe tbody tr th:only-of-type {\n",
              "        vertical-align: middle;\n",
              "    }\n",
              "\n",
              "    .dataframe tbody tr th {\n",
              "        vertical-align: top;\n",
              "    }\n",
              "\n",
              "    .dataframe thead th {\n",
              "        text-align: right;\n",
              "    }\n",
              "</style>\n",
              "<table border=\"1\" class=\"dataframe\">\n",
              "  <thead>\n",
              "    <tr style=\"text-align: right;\">\n",
              "      <th></th>\n",
              "      <th>year</th>\n",
              "      <th>month</th>\n",
              "      <th>max_temp</th>\n",
              "      <th>min_temp</th>\n",
              "      <th>rainfall</th>\n",
              "      <th>relative_humidity</th>\n",
              "      <th>wind_speed</th>\n",
              "      <th>cloud_coverage</th>\n",
              "      <th>bright_sunshine</th>\n",
              "      <th>latitude</th>\n",
              "      <th>longitude</th>\n",
              "      <th>alt</th>\n",
              "    </tr>\n",
              "  </thead>\n",
              "  <tbody>\n",
              "    <tr>\n",
              "      <th>0</th>\n",
              "      <td>2013.0</td>\n",
              "      <td>12.0</td>\n",
              "      <td>35.0</td>\n",
              "      <td>22.0</td>\n",
              "      <td>400.0</td>\n",
              "      <td>85.0</td>\n",
              "      <td>1.5</td>\n",
              "      <td>2.0</td>\n",
              "      <td>4.0</td>\n",
              "      <td>20.87</td>\n",
              "      <td>92.26</td>\n",
              "      <td>4.0</td>\n",
              "    </tr>\n",
              "  </tbody>\n",
              "</table>\n",
              "</div>"
            ],
            "text/plain": [
              "     year  month  max_temp  min_temp  rainfall  relative_humidity  wind_speed  \\\n",
              "0  2013.0   12.0      35.0      22.0     400.0               85.0         1.5   \n",
              "\n",
              "   cloud_coverage  bright_sunshine  latitude  longitude  alt  \n",
              "0             2.0              4.0     20.87      92.26  4.0  "
            ]
          },
          "execution_count": 125,
          "metadata": {},
          "output_type": "execute_result"
        }
      ],
      "source": [
        "# Assuming the last row of the original dataframe represents the latest available data\n",
        "latest_data_point = X.iloc[-1].copy()\n",
        "\n",
        "# You need to provide hypothetical feature values for the next month.\n",
        "# These values should be in the same order as the columns in X.\n",
        "# Replace these example values with the values you want to use for prediction.\n",
        "# Example values - you should adjust these based on your understanding of the data and future forecasts\n",
        "next_month_features = {\n",
        "    'year': latest_data_point['year'], # Assuming same year for simplicity, or increment if at end of year\n",
        "    'month': (latest_data_point['month'] % 12) + 1, # Increment month, wrapping around\n",
        "    'max_temp': 35.0,  # Example: Slightly higher max temp\n",
        "    'min_temp': 22.0,  # Example: Slightly higher min temp\n",
        "    'rainfall': 400.0, # Example: Higher rainfall\n",
        "    'relative_humidity': 85.0, # Example: Higher humidity\n",
        "    'wind_speed': 1.5,  # Example: Slightly higher wind speed\n",
        "    'cloud_coverage': 2.0, # Example: Slightly more cloud coverage\n",
        "    'bright_sunshine': 4.0, # Example: Slightly less bright sunshine\n",
        "    'latitude': latest_data_point['latitude'],\n",
        "    'longitude': latest_data_point['longitude'],\n",
        "    'alt': latest_data_point['alt'], # Assuming same altitude\n",
        "}\n",
        "\n",
        "# Convert the dictionary to a pandas DataFrame with a single row\n",
        "next_month_data = pd.DataFrame([next_month_features])\n",
        "\n",
        "# Ensure the columns are in the same order as the training data\n",
        "next_month_data = next_month_data[X.columns]\n",
        "\n",
        "# Predict the flood status for the next month using the best model\n",
        "# 'best_pipeline' was determined and trained on the full data previously\n",
        "next_month_flood_prediction = best_pipeline.predict(next_month_data)\n",
        "\n",
        "# Print the prediction\n",
        "print(\"\\nPrediction for the next month's flood status (0: No Flood, 1: Flood):\")\n",
        "print(next_month_flood_prediction[0])\n",
        "\n",
        "# You can optionally print the input data used for prediction\n",
        "print(\"\\nInput features used for next month prediction:\")\n",
        "next_month_data\n"
      ]
    }
  ],
  "metadata": {
    "colab": {
      "provenance": []
    },
    "kernelspec": {
      "display_name": ".venv",
      "language": "python",
      "name": "python3"
    },
    "language_info": {
      "codemirror_mode": {
        "name": "ipython",
        "version": 3
      },
      "file_extension": ".py",
      "mimetype": "text/x-python",
      "name": "python",
      "nbconvert_exporter": "python",
      "pygments_lexer": "ipython3",
      "version": "3.11.9"
    }
  },
  "nbformat": 4,
  "nbformat_minor": 5
}
