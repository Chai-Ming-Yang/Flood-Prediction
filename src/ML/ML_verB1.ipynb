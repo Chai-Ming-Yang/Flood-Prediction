{
  "cells": [
    {
      "cell_type": "markdown",
      "id": "610f5e5e",
      "metadata": {
        "id": "610f5e5e"
      },
      "source": [
        "# Machine Learning Using Logistic Regression, SVM and Random Forest Models"
      ]
    },
    {
      "cell_type": "markdown",
      "id": "fc0f5248",
      "metadata": {
        "id": "fc0f5248"
      },
      "source": [
        "## Import necessary libraries"
      ]
    },
    {
      "cell_type": "code",
      "execution_count": 39,
      "id": "5be99e0c",
      "metadata": {
        "id": "5be99e0c"
      },
      "outputs": [],
      "source": [
        "import numpy as np\n",
        "import pandas as pd\n",
        "import seaborn as sns\n",
        "import matplotlib.pyplot as plt\n",
        "\n",
        "from datetime import datetime\n",
        "from sklearn.model_selection import train_test_split, cross_validate, StratifiedKFold\n",
        "from sklearn.preprocessing import LabelEncoder, StandardScaler\n",
        "from sklearn.metrics import accuracy_score, classification_report\n",
        "from sklearn.linear_model import LogisticRegression\n",
        "from sklearn.svm import LinearSVC\n",
        "from sklearn.pipeline import Pipeline\n",
        "from imblearn.pipeline import Pipeline as ImbPipeline\n",
        "from imblearn.over_sampling import SMOTE\n",
        "from sklearn.ensemble import RandomForestClassifier"
      ]
    },
    {
      "cell_type": "markdown",
      "id": "cd6f634c",
      "metadata": {
        "id": "cd6f634c"
      },
      "source": [
        "## Load Dataset"
      ]
    },
    {
      "cell_type": "code",
      "execution_count": 40,
      "id": "abe6ee7b",
      "metadata": {
        "id": "abe6ee7b"
      },
      "outputs": [],
      "source": [
        "import os\n",
        "# Load dataset\n",
        "dataset_path = r'..\\..\\datasets\\B1_Monthly_Rainfall.csv'\n",
        "rainfall_data = pd.read_csv(dataset_path)"
      ]
    },
    {
      "cell_type": "code",
      "execution_count": 41,
      "id": "15dc7e80",
      "metadata": {
        "colab": {
          "base_uri": "https://localhost:8080/"
        },
        "id": "15dc7e80",
        "outputId": "58af0c77-b679-43f5-eba8-fcadfe09edb5"
      },
      "outputs": [
        {
          "name": "stdout",
          "output_type": "stream",
          "text": [
            "Dataset Preview:\n",
            "                 SUBDIVISION  YEAR   JAN    FEB   MAR    APR    MAY    JUN  \\\n",
            "0  ANDAMAN & NICOBAR ISLANDS  1901  49.2   87.1  29.2    2.3  528.8  517.5   \n",
            "1  ANDAMAN & NICOBAR ISLANDS  1902   0.0  159.8  12.2    0.0  446.1  537.1   \n",
            "2  ANDAMAN & NICOBAR ISLANDS  1903  12.7  144.0   0.0    1.0  235.1  479.9   \n",
            "3  ANDAMAN & NICOBAR ISLANDS  1904   9.4   14.7   0.0  202.4  304.5  495.1   \n",
            "4  ANDAMAN & NICOBAR ISLANDS  1905   1.3    0.0   3.3   26.9  279.5  628.7   \n",
            "\n",
            "     JUL    AUG    SEP    OCT    NOV    DEC  ANNUAL Flood  \n",
            "0  365.1  481.1  332.6  388.5  558.2   33.6  3373.2   Yes  \n",
            "1  228.9  753.7  666.2  197.2  359.0  160.5  3520.7   Yes  \n",
            "2  728.4  326.7  339.0  181.2  284.4  225.0  2957.4    No  \n",
            "3  502.0  160.1  820.4  222.2  308.7   40.1  3079.6   Yes  \n",
            "4  368.7  330.5  297.0  260.7   25.4  344.7  2566.7    No  \n"
          ]
        }
      ],
      "source": [
        "#Display the first few rows of the dataset\n",
        "print(\"Dataset Preview:\")\n",
        "print(rainfall_data.head())"
      ]
    },
    {
      "cell_type": "code",
      "execution_count": 42,
      "id": "57d75a92",
      "metadata": {
        "colab": {
          "base_uri": "https://localhost:8080/"
        },
        "id": "57d75a92",
        "outputId": "e8e8bbda-c48c-45d2-8087-151de43ecb92"
      },
      "outputs": [
        {
          "name": "stdout",
          "output_type": "stream",
          "text": [
            "\n",
            "Dataset Info:\n",
            "<class 'pandas.core.frame.DataFrame'>\n",
            "RangeIndex: 4090 entries, 0 to 4089\n",
            "Data columns (total 16 columns):\n",
            " #   Column       Non-Null Count  Dtype  \n",
            "---  ------       --------------  -----  \n",
            " 0   SUBDIVISION  4090 non-null   object \n",
            " 1   YEAR         4090 non-null   int64  \n",
            " 2   JAN          4090 non-null   float64\n",
            " 3   FEB          4090 non-null   float64\n",
            " 4   MAR          4090 non-null   float64\n",
            " 5   APR          4090 non-null   float64\n",
            " 6   MAY          4090 non-null   float64\n",
            " 7   JUN          4090 non-null   float64\n",
            " 8   JUL          4090 non-null   float64\n",
            " 9   AUG          4090 non-null   float64\n",
            " 10  SEP          4090 non-null   float64\n",
            " 11  OCT          4090 non-null   float64\n",
            " 12  NOV          4090 non-null   float64\n",
            " 13  DEC          4090 non-null   float64\n",
            " 14  ANNUAL       4090 non-null   float64\n",
            " 15  Flood        4090 non-null   object \n",
            "dtypes: float64(13), int64(1), object(2)\n",
            "memory usage: 511.4+ KB\n",
            "None\n"
          ]
        }
      ],
      "source": [
        "# Basic information\n",
        "print(\"\\nDataset Info:\")\n",
        "print(rainfall_data.info())"
      ]
    },
    {
      "cell_type": "code",
      "execution_count": 43,
      "id": "95410c1e",
      "metadata": {
        "colab": {
          "base_uri": "https://localhost:8080/"
        },
        "id": "95410c1e",
        "outputId": "3e1ba3ce-898e-45cc-b92f-e77c40237ee2"
      },
      "outputs": [
        {
          "name": "stdout",
          "output_type": "stream",
          "text": [
            "\n",
            "Statistical Summary:\n",
            "              YEAR          JAN          FEB          MAR          APR  \\\n",
            "count  4090.000000  4090.000000  4090.000000  4090.000000  4090.000000   \n",
            "mean   1958.321271    18.818484    21.644792    27.252494    42.714548   \n",
            "std      33.148944    33.521719    35.762010    46.829179    67.264863   \n",
            "min    1901.000000     0.000000     0.000000     0.000000     0.000000   \n",
            "25%    1930.000000     0.600000     0.600000     1.000000     3.000000   \n",
            "50%    1959.000000     5.900000     6.600000     7.800000    15.500000   \n",
            "75%    1987.000000    21.950000    26.600000    31.100000    49.375000   \n",
            "max    2015.000000   583.700000   403.500000   605.600000   595.100000   \n",
            "\n",
            "               MAY          JUN          JUL          AUG          SEP  \\\n",
            "count  4090.000000  4090.000000  4090.000000  4090.000000  4090.000000   \n",
            "mean     84.868044   228.928020   346.496968   289.897506   197.003056   \n",
            "std     122.556801   233.535693   269.352685   187.702293   135.266708   \n",
            "min       0.000000     0.400000     0.000000     0.000000     0.100000   \n",
            "25%       8.500000    70.000000   175.225000   155.925000   100.400000   \n",
            "50%      36.050000   138.450000   284.300000   259.500000   173.600000   \n",
            "75%      94.975000   302.250000   416.700000   377.775000   265.600000   \n",
            "max    1168.600000  1609.900000  2362.800000  1664.600000  1222.000000   \n",
            "\n",
            "               OCT          NOV          DEC       ANNUAL  \n",
            "count  4090.000000  4090.000000  4090.000000  4090.000000  \n",
            "mean     95.139022    39.548191    18.695575  1411.008900  \n",
            "std      99.325638    68.275513    42.185553   903.846565  \n",
            "min       0.000000     0.000000     0.000000    62.300000  \n",
            "25%      14.600000     0.700000     0.100000   804.500000  \n",
            "50%      64.650000     9.500000     3.000000  1121.300000  \n",
            "75%     148.100000    45.475000    17.300000  1644.775000  \n",
            "max     948.300000   648.900000   617.500000  6331.100000  \n",
            "\n",
            "Missing Values:\n",
            "SUBDIVISION    0\n",
            "YEAR           0\n",
            "JAN            0\n",
            "FEB            0\n",
            "MAR            0\n",
            "APR            0\n",
            "MAY            0\n",
            "JUN            0\n",
            "JUL            0\n",
            "AUG            0\n",
            "SEP            0\n",
            "OCT            0\n",
            "NOV            0\n",
            "DEC            0\n",
            "ANNUAL         0\n",
            "Flood          0\n",
            "dtype: int64\n"
          ]
        }
      ],
      "source": [
        "# Summary statistics\n",
        "print(\"\\nStatistical Summary:\")\n",
        "print(rainfall_data.describe())\n",
        "\n",
        "# Check for missing values\n",
        "print(\"\\nMissing Values:\")\n",
        "print(rainfall_data.isnull().sum())"
      ]
    },
    {
      "cell_type": "code",
      "execution_count": 44,
      "id": "1b5ab010",
      "metadata": {
        "colab": {
          "base_uri": "https://localhost:8080/"
        },
        "id": "1b5ab010",
        "outputId": "0a9dc177-eaf3-4e82-abbd-ab2740b7d368"
      },
      "outputs": [
        {
          "name": "stdout",
          "output_type": "stream",
          "text": [
            "\n",
            "Flood value counts:\n",
            "Flood\n",
            "No     3756\n",
            "Yes     334\n",
            "Name: count, dtype: int64\n"
          ]
        }
      ],
      "source": [
        "# Value counts for target variable (if applicable)\n",
        "if 'Flood' in rainfall_data.columns:\n",
        "    print(\"\\nFlood value counts:\")\n",
        "    print(rainfall_data['Flood'].value_counts())"
      ]
    },
    {
      "cell_type": "markdown",
      "id": "54ed104c",
      "metadata": {
        "id": "54ed104c"
      },
      "source": [
        "## Data Cleaning and Encoding"
      ]
    },
    {
      "cell_type": "code",
      "execution_count": 45,
      "id": "95471852",
      "metadata": {
        "colab": {
          "base_uri": "https://localhost:8080/"
        },
        "id": "95471852",
        "outputId": "cf147070-4d9f-4600-943c-cb95370665c4"
      },
      "outputs": [
        {
          "name": "stderr",
          "output_type": "stream",
          "text": [
            "C:\\Users\\User\\AppData\\Local\\Temp\\ipykernel_10648\\661896504.py:19: FutureWarning: Downcasting behavior in `replace` is deprecated and will be removed in a future version. To retain the old behavior, explicitly call `result.infer_objects(copy=False)`. To opt-in to the future behavior, set `pd.set_option('future.no_silent_downcasting', True)`\n",
            "  .replace({'yes': 1, 'no': 0, '': 0, 'nan': 0})\n"
          ]
        }
      ],
      "source": [
        "# Normalize all column names to lowercase and strip whitespace/punctuation for consistency\n",
        "rainfall_data.columns = [col.lower().strip().replace('?', '') for col in rainfall_data.columns]\n",
        "\n",
        "# Accept both 'flood' and 'flood?' as target column\n",
        "target_col = None\n",
        "if 'flood' in rainfall_data.columns:\n",
        "    target_col = 'flood'\n",
        "elif 'flood?' in [col + '?' for col in rainfall_data.columns]:\n",
        "    target_col = 'flood?'\n",
        "else:\n",
        "    raise ValueError(\"The dataset does not contain a 'Flood' or 'Flood?' column for the target variable.\")\n",
        "\n",
        "# Encode the target column\n",
        "rainfall_data[target_col] = (\n",
        "    rainfall_data[target_col]\n",
        "    .astype(str)\n",
        "    .str.strip()\n",
        "    .str.lower()\n",
        "    .replace({'yes': 1, 'no': 0, '': 0, 'nan': 0})\n",
        "    .astype(float)  # Convert to float first to handle '1.0', '0.0'\n",
        "    .astype(int)    # Then to int\n",
        ")\n",
        "\n",
        "# If you want to always use 'flood' as the column name for the rest of your code:\n",
        "if target_col != 'flood':\n",
        "    rainfall_data.rename(columns={target_col: 'flood'}, inplace=True)\n",
        "    target_col = 'flood'"
      ]
    },
    {
      "cell_type": "code",
      "execution_count": 46,
      "id": "708af030",
      "metadata": {
        "colab": {
          "base_uri": "https://localhost:8080/"
        },
        "id": "708af030",
        "outputId": "3921b6a6-9a23-4efd-ef25-1494f281c245"
      },
      "outputs": [
        {
          "name": "stdout",
          "output_type": "stream",
          "text": [
            "\n",
            "Encoding non-numeric columns: ['subdivision']\n"
          ]
        }
      ],
      "source": [
        "# Encode non-numeric features (excluding target)\n",
        "non_numeric_columns = rainfall_data.select_dtypes(include=['object']).columns.drop('flood', errors='ignore')\n",
        "if len(non_numeric_columns) > 0:\n",
        "    print(f\"\\nEncoding non-numeric columns: {non_numeric_columns.tolist()}\")\n",
        "    for column in non_numeric_columns:\n",
        "        rainfall_data[column] = LabelEncoder().fit_transform(rainfall_data[column].astype(str))\n",
        "else:\n",
        "    print(\"\\nNo non-numeric columns to encode.\")"
      ]
    },
    {
      "cell_type": "code",
      "execution_count": 47,
      "id": "e0b57f85",
      "metadata": {
        "id": "e0b57f85"
      },
      "outputs": [],
      "source": [
        "# Fill missing values with median (safer for numeric data)\n",
        "rainfall_data.fillna(rainfall_data.median(numeric_only=True), inplace=True)"
      ]
    },
    {
      "cell_type": "markdown",
      "id": "wCkNdd-RBLzf",
      "metadata": {
        "id": "wCkNdd-RBLzf"
      },
      "source": [
        "### Sort by Station_Names"
      ]
    },
    {
      "cell_type": "code",
      "execution_count": 48,
      "id": "ujXHTwAcA-d6",
      "metadata": {
        "id": "ujXHTwAcA-d6"
      },
      "outputs": [],
      "source": [
        "lag = 1\n",
        "\n",
        "# 1. Sort data by station and date/order\n",
        "rainfall_data = rainfall_data.sort_values(by=['subdivision', 'year'])\n",
        "\n",
        "# 2. Group by Station_Names\n",
        "grouped = rainfall_data.groupby('subdivision')\n",
        "\n",
        "# 3. Shift the 'flood' column (or other features) within each group\n",
        "# For example, to predict next day's flood based on today's data:\n",
        "rainfall_data['flood_next_day'] = grouped['flood'].shift(-lag)\n",
        "\n",
        "# 4. Drop rows with NaN in 'Flood_next_day' (last row of each station group)\n",
        "rainfall_data = rainfall_data.dropna(subset=['flood_next_day'])\n",
        "\n",
        "# Now, df contains data with the lagged target, correctly aligned within each station"
      ]
    },
    {
      "cell_type": "code",
      "execution_count": 49,
      "id": "Qi-WVWkSFtd6",
      "metadata": {
        "colab": {
          "base_uri": "https://localhost:8080/"
        },
        "id": "Qi-WVWkSFtd6",
        "outputId": "e93b93a9-8e88-4ec7-85b0-d733252cbbec"
      },
      "outputs": [
        {
          "data": {
            "text/plain": [
              "((36, 2), (4054, 17))"
            ]
          },
          "execution_count": 49,
          "metadata": {},
          "output_type": "execute_result"
        }
      ],
      "source": [
        "pd.DataFrame(grouped).shape, rainfall_data.shape"
      ]
    },
    {
      "cell_type": "markdown",
      "id": "9eebd77c",
      "metadata": {
        "id": "9eebd77c"
      },
      "source": [
        "## Data Splitting"
      ]
    },
    {
      "cell_type": "code",
      "execution_count": 50,
      "id": "37bad278",
      "metadata": {
        "id": "37bad278"
      },
      "outputs": [],
      "source": [
        "import pandas as pd\n",
        "\n",
        "X = rainfall_data.drop(columns=['flood', 'flood_next_day'], axis=1)\n",
        "y = rainfall_data['flood_next_day']\n",
        "\n",
        "from sklearn.model_selection import train_test_split\n",
        "X_train, X_val, y_train, y_val = train_test_split(X, y, test_size=0.2, shuffle=False)"
      ]
    },
    {
      "cell_type": "markdown",
      "id": "162462ad",
      "metadata": {
        "id": "162462ad"
      },
      "source": [
        "## Define Models"
      ]
    },
    {
      "cell_type": "code",
      "execution_count": 51,
      "id": "1a5405d1",
      "metadata": {
        "id": "1a5405d1"
      },
      "outputs": [],
      "source": [
        "# Define pipelines for Logistic Regression\n",
        "logistic_pipeline = ImbPipeline([\n",
        "    ('smote', SMOTE(random_state=42)),\n",
        "    ('scaler', StandardScaler()),\n",
        "    ('clf', LogisticRegression(C=0.5, penalty='l2', solver='liblinear', class_weight='balanced', random_state=42))\n",
        "])\n",
        "\n",
        "# Define pipeline for SVM\n",
        "svm_pipeline = Pipeline([\n",
        "    ('scaler', StandardScaler()),\n",
        "    ('clf', LinearSVC(C=1.0, max_iter=2000, dual=False, class_weight='balanced', random_state=42))\n",
        "])\n",
        "\n",
        "# Define pipeline for Random Forest\n",
        "rf_pipeline = Pipeline([\n",
        "    ('clf', RandomForestClassifier(random_state=42))\n",
        "])\n"
      ]
    },
    {
      "cell_type": "markdown",
      "id": "c4e9e860",
      "metadata": {
        "id": "c4e9e860"
      },
      "source": [
        "## Model Evaluation"
      ]
    },
    {
      "cell_type": "code",
      "execution_count": 52,
      "id": "cd426a4e",
      "metadata": {
        "colab": {
          "base_uri": "https://localhost:8080/"
        },
        "id": "cd426a4e",
        "outputId": "022e0ffa-fb72-41da-91c4-2a384bf65b52"
      },
      "outputs": [
        {
          "name": "stdout",
          "output_type": "stream",
          "text": [
            "\n",
            "Logistic Regression Validation Accuracy: 0.9901356350184957\n",
            "\n",
            "Logistic Regression Validation Classification Report:\n",
            "              precision    recall  f1-score   support\n",
            "\n",
            "         0.0       1.00      0.99      1.00       811\n",
            "         1.0       0.00      0.00      0.00         0\n",
            "\n",
            "    accuracy                           0.99       811\n",
            "   macro avg       0.50      0.50      0.50       811\n",
            "weighted avg       1.00      0.99      1.00       811\n",
            "\n",
            "Logistic Regression Predictions: [0. 1. 1. 1. 1. 0. 1. 1. 0. 1.]\n"
          ]
        },
        {
          "name": "stderr",
          "output_type": "stream",
          "text": [
            "c:\\Users\\User\\Desktop\\CSL_src\\.venv\\Lib\\site-packages\\sklearn\\metrics\\_classification.py:1565: UndefinedMetricWarning: Recall is ill-defined and being set to 0.0 in labels with no true samples. Use `zero_division` parameter to control this behavior.\n",
            "  _warn_prf(average, modifier, f\"{metric.capitalize()} is\", len(result))\n",
            "c:\\Users\\User\\Desktop\\CSL_src\\.venv\\Lib\\site-packages\\sklearn\\metrics\\_classification.py:1565: UndefinedMetricWarning: Recall is ill-defined and being set to 0.0 in labels with no true samples. Use `zero_division` parameter to control this behavior.\n",
            "  _warn_prf(average, modifier, f\"{metric.capitalize()} is\", len(result))\n",
            "c:\\Users\\User\\Desktop\\CSL_src\\.venv\\Lib\\site-packages\\sklearn\\metrics\\_classification.py:1565: UndefinedMetricWarning: Recall is ill-defined and being set to 0.0 in labels with no true samples. Use `zero_division` parameter to control this behavior.\n",
            "  _warn_prf(average, modifier, f\"{metric.capitalize()} is\", len(result))\n"
          ]
        },
        {
          "name": "stdout",
          "output_type": "stream",
          "text": [
            "Logistic Regression CV Accuracy: 0.893 ± 0.006\n",
            "Logistic Regression CV ROC-AUC: 0.966 ± 0.004\n"
          ]
        }
      ],
      "source": [
        "# Train and evaluate Logistic Regression model\n",
        "try:\n",
        "    logistic_pipeline.fit(X_train, y_train)\n",
        "    y_pred_lr = logistic_pipeline.predict(X_val)\n",
        "    print(\"\\nLogistic Regression Validation Accuracy:\", accuracy_score(y_val, y_pred_lr))\n",
        "    print(\"\\nLogistic Regression Validation Classification Report:\")\n",
        "    print(classification_report(y_val, y_pred_lr))\n",
        "    print(\"Logistic Regression Predictions:\", y_pred_lr[:10])\n",
        "\n",
        "    # Cross-validation\n",
        "    skf = StratifiedKFold(n_splits=5, shuffle=True, random_state=42)\n",
        "\n",
        "    cv_results_lr = cross_validate(logistic_pipeline, X, y, cv=skf, scoring=['accuracy', 'roc_auc'], n_jobs=-1)\n",
        "    cv_scores_lr_acc = cv_results_lr['test_accuracy']\n",
        "    cv_scores_lr_auc = cv_results_lr['test_roc_auc']\n",
        "\n",
        "    print(\"Logistic Regression CV Accuracy: %.3f ± %.3f\" % (cv_scores_lr_acc.mean(), cv_scores_lr_acc.std()))\n",
        "    print(\"Logistic Regression CV ROC-AUC: %.3f ± %.3f\" % (cv_scores_lr_auc.mean(), cv_scores_lr_auc.std()))\n",
        "\n",
        "except Exception as e:\n",
        "    print(f\"Error training the Logistic Regression model: {e}\")\n"
      ]
    },
    {
      "cell_type": "code",
      "execution_count": 53,
      "id": "1d7e2923",
      "metadata": {
        "colab": {
          "base_uri": "https://localhost:8080/"
        },
        "id": "1d7e2923",
        "outputId": "e464f122-c6db-4fb1-9f20-5e8a366ef449"
      },
      "outputs": [
        {
          "name": "stdout",
          "output_type": "stream",
          "text": [
            "\n",
            "SVM Validation Accuracy: 0.9889025893958077\n",
            "\n",
            "SVM Validation Classification Report:\n",
            "              precision    recall  f1-score   support\n",
            "\n",
            "         0.0       1.00      0.99      0.99       811\n",
            "         1.0       0.00      0.00      0.00         0\n",
            "\n",
            "    accuracy                           0.99       811\n",
            "   macro avg       0.50      0.49      0.50       811\n",
            "weighted avg       1.00      0.99      0.99       811\n",
            "\n",
            "SVM Predictions: [1. 1. 1. 1. 1. 0. 1. 1. 0. 1.]\n"
          ]
        },
        {
          "name": "stderr",
          "output_type": "stream",
          "text": [
            "c:\\Users\\User\\Desktop\\CSL_src\\.venv\\Lib\\site-packages\\sklearn\\metrics\\_classification.py:1565: UndefinedMetricWarning: Recall is ill-defined and being set to 0.0 in labels with no true samples. Use `zero_division` parameter to control this behavior.\n",
            "  _warn_prf(average, modifier, f\"{metric.capitalize()} is\", len(result))\n",
            "c:\\Users\\User\\Desktop\\CSL_src\\.venv\\Lib\\site-packages\\sklearn\\metrics\\_classification.py:1565: UndefinedMetricWarning: Recall is ill-defined and being set to 0.0 in labels with no true samples. Use `zero_division` parameter to control this behavior.\n",
            "  _warn_prf(average, modifier, f\"{metric.capitalize()} is\", len(result))\n",
            "c:\\Users\\User\\Desktop\\CSL_src\\.venv\\Lib\\site-packages\\sklearn\\metrics\\_classification.py:1565: UndefinedMetricWarning: Recall is ill-defined and being set to 0.0 in labels with no true samples. Use `zero_division` parameter to control this behavior.\n",
            "  _warn_prf(average, modifier, f\"{metric.capitalize()} is\", len(result))\n"
          ]
        },
        {
          "name": "stdout",
          "output_type": "stream",
          "text": [
            "SVM Cross-Validation Accuracy: 0.889 ± 0.006\n"
          ]
        }
      ],
      "source": [
        "# Train and evaluate SVM model\n",
        "try:\n",
        "    svm_pipeline.fit(X_train, y_train)\n",
        "    y_pred_svm = svm_pipeline.predict(X_val)\n",
        "    print(\"\\nSVM Validation Accuracy:\", accuracy_score(y_val, y_pred_svm))\n",
        "    print(\"\\nSVM Validation Classification Report:\")\n",
        "    print(classification_report(y_val, y_pred_svm))\n",
        "    print(\"SVM Predictions:\", y_pred_svm[:10])\n",
        "\n",
        "    # Cross-validation\n",
        "    cv_results_svm = cross_validate(svm_pipeline, X, y, cv=skf, scoring=['accuracy'], n_jobs=-1)\n",
        "    cv_scores_svm = cv_results_svm['test_accuracy']\n",
        "\n",
        "    print(\"SVM Cross-Validation Accuracy: %.3f ± %.3f\" % (cv_scores_svm.mean(), cv_scores_svm.std()))\n",
        "\n",
        "except Exception as e:\n",
        "    print(f\"Error training the SVM model: {e}\")\n"
      ]
    },
    {
      "cell_type": "code",
      "execution_count": 54,
      "id": "41117f76",
      "metadata": {
        "colab": {
          "base_uri": "https://localhost:8080/"
        },
        "id": "41117f76",
        "outputId": "7a2ef2be-fbfd-44a7-8ff2-2f8d132b8866"
      },
      "outputs": [
        {
          "name": "stdout",
          "output_type": "stream",
          "text": [
            "\n",
            "Random Forest Validation Accuracy: 1.0\n",
            "\n",
            "Random Forest Validation Classification Report:\n",
            "              precision    recall  f1-score   support\n",
            "\n",
            "         0.0       1.00      1.00      1.00       811\n",
            "\n",
            "    accuracy                           1.00       811\n",
            "   macro avg       1.00      1.00      1.00       811\n",
            "weighted avg       1.00      1.00      1.00       811\n",
            "\n",
            "Random Forest Predictions: [0. 0. 0. 0. 0. 0. 0. 0. 0. 0.]\n",
            "Random Forest Cross-Validation Accuracy: 0.942 ± 0.009\n"
          ]
        }
      ],
      "source": [
        "# Train and evaluate Random Forest model\n",
        "try:\n",
        "    rf_pipeline.fit(X_train, y_train)\n",
        "    y_pred_rf = rf_pipeline.predict(X_val)\n",
        "    print(\"\\nRandom Forest Validation Accuracy:\", accuracy_score(y_val, y_pred_rf))\n",
        "    print(\"\\nRandom Forest Validation Classification Report:\")\n",
        "    print(classification_report(y_val, y_pred_rf))\n",
        "    print(\"Random Forest Predictions:\", y_pred_rf[:10])\n",
        "\n",
        "    # Cross-validation\n",
        "    cv_results_rf = cross_validate(rf_pipeline, X, y, cv=skf, scoring=['accuracy', 'roc_auc'], n_jobs=-1)\n",
        "    cv_scores_rf = cv_results_rf['test_accuracy']\n",
        "\n",
        "    print(\"Random Forest Cross-Validation Accuracy: %.3f ± %.3f\" % (cv_scores_rf.mean(), cv_scores_rf.std()))\n",
        "\n",
        "except Exception as e:\n",
        "    print(f\"Error training the Random Forest model: {e}\")\n"
      ]
    },
    {
      "cell_type": "markdown",
      "id": "e3857185",
      "metadata": {
        "id": "e3857185"
      },
      "source": [
        "## Comparison Summary"
      ]
    },
    {
      "cell_type": "code",
      "execution_count": 55,
      "id": "21dfeb38",
      "metadata": {
        "colab": {
          "base_uri": "https://localhost:8080/"
        },
        "id": "21dfeb38",
        "outputId": "5d3a6921-8f74-4d82-d95c-b48283f8b9fe"
      },
      "outputs": [
        {
          "name": "stdout",
          "output_type": "stream",
          "text": [
            "\n",
            "=== Model Comparison Summary ===\n",
            "\n",
            "Logistic Regression:\n",
            "  Validation Accuracy: 0.9901\n",
            "  Cross-Validation Accuracy Mean: 0.8934\n",
            "  Cross-Validation Accuracy Std: 0.0058\n",
            "\n",
            "SVM:\n",
            "  Validation Accuracy: 0.9889\n",
            "  Cross-Validation Accuracy Mean: 0.8890\n",
            "  Cross-Validation Accuracy Std: 0.0063\n",
            "\n",
            "Random Forest:\n",
            "  Validation Accuracy: 1.0000\n",
            "  Cross-Validation Accuracy Mean: 0.9418\n",
            "  Cross-Validation Accuracy Std: 0.0089\n"
          ]
        }
      ],
      "source": [
        "# Store model results\n",
        "results = {\n",
        "    \"Logistic Regression\": {\n",
        "        \"Validation Accuracy\": accuracy_score(y_val, y_pred_lr),\n",
        "        \"Cross-Validation Accuracy Mean\": cv_scores_lr_acc.mean(),\n",
        "        \"Cross-Validation Accuracy Std\": cv_scores_lr_acc.std()\n",
        "    },\n",
        "    \"SVM\": {\n",
        "        \"Validation Accuracy\": accuracy_score(y_val, y_pred_svm),\n",
        "        \"Cross-Validation Accuracy Mean\": cv_scores_svm.mean(),\n",
        "        \"Cross-Validation Accuracy Std\": cv_scores_svm.std()\n",
        "    },\n",
        "    \"Random Forest\": {\n",
        "        \"Validation Accuracy\": accuracy_score(y_val, y_pred_rf),\n",
        "        \"Cross-Validation Accuracy Mean\": cv_scores_rf.mean(),\n",
        "        \"Cross-Validation Accuracy Std\": cv_scores_rf.std()\n",
        "    }\n",
        "}\n",
        "\n",
        "# Display comparison results\n",
        "print(\"\\n=== Model Comparison Summary ===\")\n",
        "for model_name, metrics in results.items():\n",
        "    print(f\"\\n{model_name}:\")\n",
        "    for metric_name, value in metrics.items():\n",
        "        print(f\"  {metric_name}: {value:.4f}\")\n",
        "\n",
        "# Determine best model based on average CV accuracy\n",
        "best_model = max(results.items(), key=lambda item: item[1][\"Cross-Validation Accuracy Mean\"])\n",
        "best_model_name = best_model[0]\n"
      ]
    },
    {
      "cell_type": "markdown",
      "id": "e8863862",
      "metadata": {
        "id": "e8863862"
      },
      "source": [
        "## Select Best Model"
      ]
    },
    {
      "cell_type": "code",
      "execution_count": 56,
      "id": "e5df341d",
      "metadata": {
        "colab": {
          "base_uri": "https://localhost:8080/"
        },
        "id": "e5df341d",
        "outputId": "95e9f071-7aa7-4a6d-f7e4-917395f2fe75"
      },
      "outputs": [
        {
          "name": "stdout",
          "output_type": "stream",
          "text": [
            "\n",
            "Best Model Selected: Random Forest\n"
          ]
        }
      ],
      "source": [
        "best_model_name = max(results.items(), key=lambda m: m[1][\"Cross-Validation Accuracy Mean\"])[0]\n",
        "print(f\"\\nBest Model Selected: {best_model_name}\")"
      ]
    },
    {
      "cell_type": "code",
      "execution_count": 57,
      "id": "848b4634",
      "metadata": {
        "colab": {
          "base_uri": "https://localhost:8080/",
          "height": 115
        },
        "id": "848b4634",
        "outputId": "1c3b23a5-f370-45e9-bb04-bae4e6d844e3"
      },
      "outputs": [
        {
          "data": {
            "text/html": [
              "<style>#sk-container-id-2 {\n",
              "  /* Definition of color scheme common for light and dark mode */\n",
              "  --sklearn-color-text: #000;\n",
              "  --sklearn-color-text-muted: #666;\n",
              "  --sklearn-color-line: gray;\n",
              "  /* Definition of color scheme for unfitted estimators */\n",
              "  --sklearn-color-unfitted-level-0: #fff5e6;\n",
              "  --sklearn-color-unfitted-level-1: #f6e4d2;\n",
              "  --sklearn-color-unfitted-level-2: #ffe0b3;\n",
              "  --sklearn-color-unfitted-level-3: chocolate;\n",
              "  /* Definition of color scheme for fitted estimators */\n",
              "  --sklearn-color-fitted-level-0: #f0f8ff;\n",
              "  --sklearn-color-fitted-level-1: #d4ebff;\n",
              "  --sklearn-color-fitted-level-2: #b3dbfd;\n",
              "  --sklearn-color-fitted-level-3: cornflowerblue;\n",
              "\n",
              "  /* Specific color for light theme */\n",
              "  --sklearn-color-text-on-default-background: var(--sg-text-color, var(--theme-code-foreground, var(--jp-content-font-color1, black)));\n",
              "  --sklearn-color-background: var(--sg-background-color, var(--theme-background, var(--jp-layout-color0, white)));\n",
              "  --sklearn-color-border-box: var(--sg-text-color, var(--theme-code-foreground, var(--jp-content-font-color1, black)));\n",
              "  --sklearn-color-icon: #696969;\n",
              "\n",
              "  @media (prefers-color-scheme: dark) {\n",
              "    /* Redefinition of color scheme for dark theme */\n",
              "    --sklearn-color-text-on-default-background: var(--sg-text-color, var(--theme-code-foreground, var(--jp-content-font-color1, white)));\n",
              "    --sklearn-color-background: var(--sg-background-color, var(--theme-background, var(--jp-layout-color0, #111)));\n",
              "    --sklearn-color-border-box: var(--sg-text-color, var(--theme-code-foreground, var(--jp-content-font-color1, white)));\n",
              "    --sklearn-color-icon: #878787;\n",
              "  }\n",
              "}\n",
              "\n",
              "#sk-container-id-2 {\n",
              "  color: var(--sklearn-color-text);\n",
              "}\n",
              "\n",
              "#sk-container-id-2 pre {\n",
              "  padding: 0;\n",
              "}\n",
              "\n",
              "#sk-container-id-2 input.sk-hidden--visually {\n",
              "  border: 0;\n",
              "  clip: rect(1px 1px 1px 1px);\n",
              "  clip: rect(1px, 1px, 1px, 1px);\n",
              "  height: 1px;\n",
              "  margin: -1px;\n",
              "  overflow: hidden;\n",
              "  padding: 0;\n",
              "  position: absolute;\n",
              "  width: 1px;\n",
              "}\n",
              "\n",
              "#sk-container-id-2 div.sk-dashed-wrapped {\n",
              "  border: 1px dashed var(--sklearn-color-line);\n",
              "  margin: 0 0.4em 0.5em 0.4em;\n",
              "  box-sizing: border-box;\n",
              "  padding-bottom: 0.4em;\n",
              "  background-color: var(--sklearn-color-background);\n",
              "}\n",
              "\n",
              "#sk-container-id-2 div.sk-container {\n",
              "  /* jupyter's `normalize.less` sets `[hidden] { display: none; }`\n",
              "     but bootstrap.min.css set `[hidden] { display: none !important; }`\n",
              "     so we also need the `!important` here to be able to override the\n",
              "     default hidden behavior on the sphinx rendered scikit-learn.org.\n",
              "     See: https://github.com/scikit-learn/scikit-learn/issues/21755 */\n",
              "  display: inline-block !important;\n",
              "  position: relative;\n",
              "}\n",
              "\n",
              "#sk-container-id-2 div.sk-text-repr-fallback {\n",
              "  display: none;\n",
              "}\n",
              "\n",
              "div.sk-parallel-item,\n",
              "div.sk-serial,\n",
              "div.sk-item {\n",
              "  /* draw centered vertical line to link estimators */\n",
              "  background-image: linear-gradient(var(--sklearn-color-text-on-default-background), var(--sklearn-color-text-on-default-background));\n",
              "  background-size: 2px 100%;\n",
              "  background-repeat: no-repeat;\n",
              "  background-position: center center;\n",
              "}\n",
              "\n",
              "/* Parallel-specific style estimator block */\n",
              "\n",
              "#sk-container-id-2 div.sk-parallel-item::after {\n",
              "  content: \"\";\n",
              "  width: 100%;\n",
              "  border-bottom: 2px solid var(--sklearn-color-text-on-default-background);\n",
              "  flex-grow: 1;\n",
              "}\n",
              "\n",
              "#sk-container-id-2 div.sk-parallel {\n",
              "  display: flex;\n",
              "  align-items: stretch;\n",
              "  justify-content: center;\n",
              "  background-color: var(--sklearn-color-background);\n",
              "  position: relative;\n",
              "}\n",
              "\n",
              "#sk-container-id-2 div.sk-parallel-item {\n",
              "  display: flex;\n",
              "  flex-direction: column;\n",
              "}\n",
              "\n",
              "#sk-container-id-2 div.sk-parallel-item:first-child::after {\n",
              "  align-self: flex-end;\n",
              "  width: 50%;\n",
              "}\n",
              "\n",
              "#sk-container-id-2 div.sk-parallel-item:last-child::after {\n",
              "  align-self: flex-start;\n",
              "  width: 50%;\n",
              "}\n",
              "\n",
              "#sk-container-id-2 div.sk-parallel-item:only-child::after {\n",
              "  width: 0;\n",
              "}\n",
              "\n",
              "/* Serial-specific style estimator block */\n",
              "\n",
              "#sk-container-id-2 div.sk-serial {\n",
              "  display: flex;\n",
              "  flex-direction: column;\n",
              "  align-items: center;\n",
              "  background-color: var(--sklearn-color-background);\n",
              "  padding-right: 1em;\n",
              "  padding-left: 1em;\n",
              "}\n",
              "\n",
              "\n",
              "/* Toggleable style: style used for estimator/Pipeline/ColumnTransformer box that is\n",
              "clickable and can be expanded/collapsed.\n",
              "- Pipeline and ColumnTransformer use this feature and define the default style\n",
              "- Estimators will overwrite some part of the style using the `sk-estimator` class\n",
              "*/\n",
              "\n",
              "/* Pipeline and ColumnTransformer style (default) */\n",
              "\n",
              "#sk-container-id-2 div.sk-toggleable {\n",
              "  /* Default theme specific background. It is overwritten whether we have a\n",
              "  specific estimator or a Pipeline/ColumnTransformer */\n",
              "  background-color: var(--sklearn-color-background);\n",
              "}\n",
              "\n",
              "/* Toggleable label */\n",
              "#sk-container-id-2 label.sk-toggleable__label {\n",
              "  cursor: pointer;\n",
              "  display: flex;\n",
              "  width: 100%;\n",
              "  margin-bottom: 0;\n",
              "  padding: 0.5em;\n",
              "  box-sizing: border-box;\n",
              "  text-align: center;\n",
              "  align-items: start;\n",
              "  justify-content: space-between;\n",
              "  gap: 0.5em;\n",
              "}\n",
              "\n",
              "#sk-container-id-2 label.sk-toggleable__label .caption {\n",
              "  font-size: 0.6rem;\n",
              "  font-weight: lighter;\n",
              "  color: var(--sklearn-color-text-muted);\n",
              "}\n",
              "\n",
              "#sk-container-id-2 label.sk-toggleable__label-arrow:before {\n",
              "  /* Arrow on the left of the label */\n",
              "  content: \"▸\";\n",
              "  float: left;\n",
              "  margin-right: 0.25em;\n",
              "  color: var(--sklearn-color-icon);\n",
              "}\n",
              "\n",
              "#sk-container-id-2 label.sk-toggleable__label-arrow:hover:before {\n",
              "  color: var(--sklearn-color-text);\n",
              "}\n",
              "\n",
              "/* Toggleable content - dropdown */\n",
              "\n",
              "#sk-container-id-2 div.sk-toggleable__content {\n",
              "  max-height: 0;\n",
              "  max-width: 0;\n",
              "  overflow: hidden;\n",
              "  text-align: left;\n",
              "  /* unfitted */\n",
              "  background-color: var(--sklearn-color-unfitted-level-0);\n",
              "}\n",
              "\n",
              "#sk-container-id-2 div.sk-toggleable__content.fitted {\n",
              "  /* fitted */\n",
              "  background-color: var(--sklearn-color-fitted-level-0);\n",
              "}\n",
              "\n",
              "#sk-container-id-2 div.sk-toggleable__content pre {\n",
              "  margin: 0.2em;\n",
              "  border-radius: 0.25em;\n",
              "  color: var(--sklearn-color-text);\n",
              "  /* unfitted */\n",
              "  background-color: var(--sklearn-color-unfitted-level-0);\n",
              "}\n",
              "\n",
              "#sk-container-id-2 div.sk-toggleable__content.fitted pre {\n",
              "  /* unfitted */\n",
              "  background-color: var(--sklearn-color-fitted-level-0);\n",
              "}\n",
              "\n",
              "#sk-container-id-2 input.sk-toggleable__control:checked~div.sk-toggleable__content {\n",
              "  /* Expand drop-down */\n",
              "  max-height: 200px;\n",
              "  max-width: 100%;\n",
              "  overflow: auto;\n",
              "}\n",
              "\n",
              "#sk-container-id-2 input.sk-toggleable__control:checked~label.sk-toggleable__label-arrow:before {\n",
              "  content: \"▾\";\n",
              "}\n",
              "\n",
              "/* Pipeline/ColumnTransformer-specific style */\n",
              "\n",
              "#sk-container-id-2 div.sk-label input.sk-toggleable__control:checked~label.sk-toggleable__label {\n",
              "  color: var(--sklearn-color-text);\n",
              "  background-color: var(--sklearn-color-unfitted-level-2);\n",
              "}\n",
              "\n",
              "#sk-container-id-2 div.sk-label.fitted input.sk-toggleable__control:checked~label.sk-toggleable__label {\n",
              "  background-color: var(--sklearn-color-fitted-level-2);\n",
              "}\n",
              "\n",
              "/* Estimator-specific style */\n",
              "\n",
              "/* Colorize estimator box */\n",
              "#sk-container-id-2 div.sk-estimator input.sk-toggleable__control:checked~label.sk-toggleable__label {\n",
              "  /* unfitted */\n",
              "  background-color: var(--sklearn-color-unfitted-level-2);\n",
              "}\n",
              "\n",
              "#sk-container-id-2 div.sk-estimator.fitted input.sk-toggleable__control:checked~label.sk-toggleable__label {\n",
              "  /* fitted */\n",
              "  background-color: var(--sklearn-color-fitted-level-2);\n",
              "}\n",
              "\n",
              "#sk-container-id-2 div.sk-label label.sk-toggleable__label,\n",
              "#sk-container-id-2 div.sk-label label {\n",
              "  /* The background is the default theme color */\n",
              "  color: var(--sklearn-color-text-on-default-background);\n",
              "}\n",
              "\n",
              "/* On hover, darken the color of the background */\n",
              "#sk-container-id-2 div.sk-label:hover label.sk-toggleable__label {\n",
              "  color: var(--sklearn-color-text);\n",
              "  background-color: var(--sklearn-color-unfitted-level-2);\n",
              "}\n",
              "\n",
              "/* Label box, darken color on hover, fitted */\n",
              "#sk-container-id-2 div.sk-label.fitted:hover label.sk-toggleable__label.fitted {\n",
              "  color: var(--sklearn-color-text);\n",
              "  background-color: var(--sklearn-color-fitted-level-2);\n",
              "}\n",
              "\n",
              "/* Estimator label */\n",
              "\n",
              "#sk-container-id-2 div.sk-label label {\n",
              "  font-family: monospace;\n",
              "  font-weight: bold;\n",
              "  display: inline-block;\n",
              "  line-height: 1.2em;\n",
              "}\n",
              "\n",
              "#sk-container-id-2 div.sk-label-container {\n",
              "  text-align: center;\n",
              "}\n",
              "\n",
              "/* Estimator-specific */\n",
              "#sk-container-id-2 div.sk-estimator {\n",
              "  font-family: monospace;\n",
              "  border: 1px dotted var(--sklearn-color-border-box);\n",
              "  border-radius: 0.25em;\n",
              "  box-sizing: border-box;\n",
              "  margin-bottom: 0.5em;\n",
              "  /* unfitted */\n",
              "  background-color: var(--sklearn-color-unfitted-level-0);\n",
              "}\n",
              "\n",
              "#sk-container-id-2 div.sk-estimator.fitted {\n",
              "  /* fitted */\n",
              "  background-color: var(--sklearn-color-fitted-level-0);\n",
              "}\n",
              "\n",
              "/* on hover */\n",
              "#sk-container-id-2 div.sk-estimator:hover {\n",
              "  /* unfitted */\n",
              "  background-color: var(--sklearn-color-unfitted-level-2);\n",
              "}\n",
              "\n",
              "#sk-container-id-2 div.sk-estimator.fitted:hover {\n",
              "  /* fitted */\n",
              "  background-color: var(--sklearn-color-fitted-level-2);\n",
              "}\n",
              "\n",
              "/* Specification for estimator info (e.g. \"i\" and \"?\") */\n",
              "\n",
              "/* Common style for \"i\" and \"?\" */\n",
              "\n",
              ".sk-estimator-doc-link,\n",
              "a:link.sk-estimator-doc-link,\n",
              "a:visited.sk-estimator-doc-link {\n",
              "  float: right;\n",
              "  font-size: smaller;\n",
              "  line-height: 1em;\n",
              "  font-family: monospace;\n",
              "  background-color: var(--sklearn-color-background);\n",
              "  border-radius: 1em;\n",
              "  height: 1em;\n",
              "  width: 1em;\n",
              "  text-decoration: none !important;\n",
              "  margin-left: 0.5em;\n",
              "  text-align: center;\n",
              "  /* unfitted */\n",
              "  border: var(--sklearn-color-unfitted-level-1) 1pt solid;\n",
              "  color: var(--sklearn-color-unfitted-level-1);\n",
              "}\n",
              "\n",
              ".sk-estimator-doc-link.fitted,\n",
              "a:link.sk-estimator-doc-link.fitted,\n",
              "a:visited.sk-estimator-doc-link.fitted {\n",
              "  /* fitted */\n",
              "  border: var(--sklearn-color-fitted-level-1) 1pt solid;\n",
              "  color: var(--sklearn-color-fitted-level-1);\n",
              "}\n",
              "\n",
              "/* On hover */\n",
              "div.sk-estimator:hover .sk-estimator-doc-link:hover,\n",
              ".sk-estimator-doc-link:hover,\n",
              "div.sk-label-container:hover .sk-estimator-doc-link:hover,\n",
              ".sk-estimator-doc-link:hover {\n",
              "  /* unfitted */\n",
              "  background-color: var(--sklearn-color-unfitted-level-3);\n",
              "  color: var(--sklearn-color-background);\n",
              "  text-decoration: none;\n",
              "}\n",
              "\n",
              "div.sk-estimator.fitted:hover .sk-estimator-doc-link.fitted:hover,\n",
              ".sk-estimator-doc-link.fitted:hover,\n",
              "div.sk-label-container:hover .sk-estimator-doc-link.fitted:hover,\n",
              ".sk-estimator-doc-link.fitted:hover {\n",
              "  /* fitted */\n",
              "  background-color: var(--sklearn-color-fitted-level-3);\n",
              "  color: var(--sklearn-color-background);\n",
              "  text-decoration: none;\n",
              "}\n",
              "\n",
              "/* Span, style for the box shown on hovering the info icon */\n",
              ".sk-estimator-doc-link span {\n",
              "  display: none;\n",
              "  z-index: 9999;\n",
              "  position: relative;\n",
              "  font-weight: normal;\n",
              "  right: .2ex;\n",
              "  padding: .5ex;\n",
              "  margin: .5ex;\n",
              "  width: min-content;\n",
              "  min-width: 20ex;\n",
              "  max-width: 50ex;\n",
              "  color: var(--sklearn-color-text);\n",
              "  box-shadow: 2pt 2pt 4pt #999;\n",
              "  /* unfitted */\n",
              "  background: var(--sklearn-color-unfitted-level-0);\n",
              "  border: .5pt solid var(--sklearn-color-unfitted-level-3);\n",
              "}\n",
              "\n",
              ".sk-estimator-doc-link.fitted span {\n",
              "  /* fitted */\n",
              "  background: var(--sklearn-color-fitted-level-0);\n",
              "  border: var(--sklearn-color-fitted-level-3);\n",
              "}\n",
              "\n",
              ".sk-estimator-doc-link:hover span {\n",
              "  display: block;\n",
              "}\n",
              "\n",
              "/* \"?\"-specific style due to the `<a>` HTML tag */\n",
              "\n",
              "#sk-container-id-2 a.estimator_doc_link {\n",
              "  float: right;\n",
              "  font-size: 1rem;\n",
              "  line-height: 1em;\n",
              "  font-family: monospace;\n",
              "  background-color: var(--sklearn-color-background);\n",
              "  border-radius: 1rem;\n",
              "  height: 1rem;\n",
              "  width: 1rem;\n",
              "  text-decoration: none;\n",
              "  /* unfitted */\n",
              "  color: var(--sklearn-color-unfitted-level-1);\n",
              "  border: var(--sklearn-color-unfitted-level-1) 1pt solid;\n",
              "}\n",
              "\n",
              "#sk-container-id-2 a.estimator_doc_link.fitted {\n",
              "  /* fitted */\n",
              "  border: var(--sklearn-color-fitted-level-1) 1pt solid;\n",
              "  color: var(--sklearn-color-fitted-level-1);\n",
              "}\n",
              "\n",
              "/* On hover */\n",
              "#sk-container-id-2 a.estimator_doc_link:hover {\n",
              "  /* unfitted */\n",
              "  background-color: var(--sklearn-color-unfitted-level-3);\n",
              "  color: var(--sklearn-color-background);\n",
              "  text-decoration: none;\n",
              "}\n",
              "\n",
              "#sk-container-id-2 a.estimator_doc_link.fitted:hover {\n",
              "  /* fitted */\n",
              "  background-color: var(--sklearn-color-fitted-level-3);\n",
              "}\n",
              "</style><div id=\"sk-container-id-2\" class=\"sk-top-container\"><div class=\"sk-text-repr-fallback\"><pre>Pipeline(steps=[(&#x27;clf&#x27;, RandomForestClassifier(random_state=42))])</pre><b>In a Jupyter environment, please rerun this cell to show the HTML representation or trust the notebook. <br />On GitHub, the HTML representation is unable to render, please try loading this page with nbviewer.org.</b></div><div class=\"sk-container\" hidden><div class=\"sk-item sk-dashed-wrapped\"><div class=\"sk-label-container\"><div class=\"sk-label fitted sk-toggleable\"><input class=\"sk-toggleable__control sk-hidden--visually\" id=\"sk-estimator-id-3\" type=\"checkbox\" ><label for=\"sk-estimator-id-3\" class=\"sk-toggleable__label fitted sk-toggleable__label-arrow\"><div><div>Pipeline</div></div><div><a class=\"sk-estimator-doc-link fitted\" rel=\"noreferrer\" target=\"_blank\" href=\"https://scikit-learn.org/1.6/modules/generated/sklearn.pipeline.Pipeline.html\">?<span>Documentation for Pipeline</span></a><span class=\"sk-estimator-doc-link fitted\">i<span>Fitted</span></span></div></label><div class=\"sk-toggleable__content fitted\"><pre>Pipeline(steps=[(&#x27;clf&#x27;, RandomForestClassifier(random_state=42))])</pre></div> </div></div><div class=\"sk-serial\"><div class=\"sk-item\"><div class=\"sk-estimator fitted sk-toggleable\"><input class=\"sk-toggleable__control sk-hidden--visually\" id=\"sk-estimator-id-4\" type=\"checkbox\" ><label for=\"sk-estimator-id-4\" class=\"sk-toggleable__label fitted sk-toggleable__label-arrow\"><div><div>RandomForestClassifier</div></div><div><a class=\"sk-estimator-doc-link fitted\" rel=\"noreferrer\" target=\"_blank\" href=\"https://scikit-learn.org/1.6/modules/generated/sklearn.ensemble.RandomForestClassifier.html\">?<span>Documentation for RandomForestClassifier</span></a></div></label><div class=\"sk-toggleable__content fitted\"><pre>RandomForestClassifier(random_state=42)</pre></div> </div></div></div></div></div></div>"
            ],
            "text/plain": [
              "Pipeline(steps=[('clf', RandomForestClassifier(random_state=42))])"
            ]
          },
          "execution_count": 57,
          "metadata": {},
          "output_type": "execute_result"
        }
      ],
      "source": [
        "# Retrain the best model on the entire dataset\n",
        "if best_model_name == \"Logistic Regression\":\n",
        "    best_pipeline = logistic_pipeline\n",
        "elif best_model_name == \"SVM\":\n",
        "    best_pipeline = svm_pipeline\n",
        "elif best_model_name == \"Random Forest\":\n",
        "    best_pipeline = rf_pipeline\n",
        "\n",
        "best_pipeline.fit(X, y)"
      ]
    },
    {
      "cell_type": "code",
      "execution_count": 58,
      "id": "N1Y_7gDIICVw",
      "metadata": {
        "colab": {
          "base_uri": "https://localhost:8080/"
        },
        "id": "N1Y_7gDIICVw",
        "outputId": "6b019eb0-edea-4c9d-f74b-ddf20b50f791"
      },
      "outputs": [
        {
          "data": {
            "text/plain": [
              "['trained_model\\\\ML_verB1_trained.pkl']"
            ]
          },
          "execution_count": 58,
          "metadata": {},
          "output_type": "execute_result"
        }
      ],
      "source": [
        "import joblib\n",
        "\n",
        "# Assuming your model is named 'model'\n",
        "model = best_pipeline\n",
        "\n",
        "# Save the model to a file\n",
        "os.makedirs('trained_model', exist_ok=True)  # Create folder if it doesn't exist\n",
        "joblib.dump(model, os.path.join('trained_model', 'ML_verB1_trained.pkl'))"
      ]
    },
    {
      "cell_type": "markdown",
      "id": "a1c7ba85",
      "metadata": {
        "id": "a1c7ba85"
      },
      "source": [
        "## Final prediction using latest row (simulate next month)"
      ]
    },
    {
      "cell_type": "code",
      "execution_count": 59,
      "id": "e8CTbGCLb_WZ",
      "metadata": {
        "colab": {
          "base_uri": "https://localhost:8080/",
          "height": 176
        },
        "id": "e8CTbGCLb_WZ",
        "outputId": "36bb507a-6e11-44db-e15d-82e81e9a7ae8"
      },
      "outputs": [
        {
          "name": "stdout",
          "output_type": "stream",
          "text": [
            "\n",
            "Prediction for the next month's flood status (0: No Flood, 1: Flood):\n",
            "0.0\n",
            "\n",
            "Input features used for next month prediction:\n"
          ]
        },
        {
          "data": {
            "text/html": [
              "<div>\n",
              "<style scoped>\n",
              "    .dataframe tbody tr th:only-of-type {\n",
              "        vertical-align: middle;\n",
              "    }\n",
              "\n",
              "    .dataframe tbody tr th {\n",
              "        vertical-align: top;\n",
              "    }\n",
              "\n",
              "    .dataframe thead th {\n",
              "        text-align: right;\n",
              "    }\n",
              "</style>\n",
              "<table border=\"1\" class=\"dataframe\">\n",
              "  <thead>\n",
              "    <tr style=\"text-align: right;\">\n",
              "      <th></th>\n",
              "      <th>subdivision</th>\n",
              "      <th>year</th>\n",
              "      <th>jan</th>\n",
              "      <th>feb</th>\n",
              "      <th>mar</th>\n",
              "      <th>apr</th>\n",
              "      <th>may</th>\n",
              "      <th>jun</th>\n",
              "      <th>jul</th>\n",
              "      <th>aug</th>\n",
              "      <th>sep</th>\n",
              "      <th>oct</th>\n",
              "      <th>nov</th>\n",
              "      <th>dec</th>\n",
              "      <th>annual</th>\n",
              "    </tr>\n",
              "  </thead>\n",
              "  <tbody>\n",
              "    <tr>\n",
              "      <th>0</th>\n",
              "      <td>35.0</td>\n",
              "      <td>2015.0</td>\n",
              "      <td>48.3</td>\n",
              "      <td>29.4</td>\n",
              "      <td>22.6</td>\n",
              "      <td>5.3</td>\n",
              "      <td>11.0</td>\n",
              "      <td>22.0</td>\n",
              "      <td>151.6</td>\n",
              "      <td>81.0</td>\n",
              "      <td>84.7</td>\n",
              "      <td>14.6</td>\n",
              "      <td>0.0</td>\n",
              "      <td>16.3</td>\n",
              "      <td>486.9</td>\n",
              "    </tr>\n",
              "  </tbody>\n",
              "</table>\n",
              "</div>"
            ],
            "text/plain": [
              "   subdivision    year   jan   feb   mar  apr   may   jun    jul   aug   sep  \\\n",
              "0         35.0  2015.0  48.3  29.4  22.6  5.3  11.0  22.0  151.6  81.0  84.7   \n",
              "\n",
              "    oct  nov   dec  annual  \n",
              "0  14.6  0.0  16.3   486.9  "
            ]
          },
          "execution_count": 59,
          "metadata": {},
          "output_type": "execute_result"
        }
      ],
      "source": [
        "# Assuming the last row of the original dataframe represents the latest available data\n",
        "latest_data_point = rainfall_data.iloc[-1].copy()\n",
        "\n",
        "# Create a dictionary for the next entry based on the required columns\n",
        "next_entry_features = {\n",
        "    'subdivision': latest_data_point['subdivision'],\n",
        "    'year': latest_data_point['year'] + 1,\n",
        "    'jan': latest_data_point['jan'],\n",
        "    'feb': latest_data_point['feb'],\n",
        "    'mar': latest_data_point['mar'],\n",
        "    'apr': latest_data_point['apr'],\n",
        "    'may': latest_data_point['may'],\n",
        "    'jun': latest_data_point['jun'],\n",
        "    'jul': latest_data_point['jul'],\n",
        "    'aug': latest_data_point['aug'],\n",
        "    'sep': latest_data_point['sep'],\n",
        "    'oct': latest_data_point['oct'],\n",
        "    'nov': latest_data_point['nov'],\n",
        "    'dec': latest_data_point['dec'],\n",
        "    'annual': latest_data_point['annual']\n",
        "}\n",
        "\n",
        "# Convert the dictionary to a pandas DataFrame with a single row\n",
        "next_year_data = pd.DataFrame([next_entry_features])\n",
        "\n",
        "# Ensure the columns are in the same order as the training data\n",
        "next_year_data = next_year_data[X.columns]\n",
        "\n",
        "# Predict the flood status for the next month using the best model\n",
        "# 'best_pipeline' was determined and trained on the full data previously\n",
        "next_year_flood_prediction = best_pipeline.predict(next_year_data)\n",
        "\n",
        "# Print the prediction\n",
        "print(\"\\nPrediction for the next month's flood status (0: No Flood, 1: Flood):\")\n",
        "print(next_year_flood_prediction[0])\n",
        "\n",
        "# You can optionally print the input data used for prediction\n",
        "print(\"\\nInput features used for next month prediction:\")\n",
        "next_year_data\n"
      ]
    }
  ],
  "metadata": {
    "colab": {
      "provenance": []
    },
    "kernelspec": {
      "display_name": ".venv",
      "language": "python",
      "name": "python3"
    },
    "language_info": {
      "codemirror_mode": {
        "name": "ipython",
        "version": 3
      },
      "file_extension": ".py",
      "mimetype": "text/x-python",
      "name": "python",
      "nbconvert_exporter": "python",
      "pygments_lexer": "ipython3",
      "version": "3.11.9"
    }
  },
  "nbformat": 4,
  "nbformat_minor": 5
}
