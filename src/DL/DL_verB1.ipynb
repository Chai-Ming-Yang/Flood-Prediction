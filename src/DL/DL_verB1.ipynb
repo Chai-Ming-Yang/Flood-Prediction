{
  "cells": [
    {
      "cell_type": "code",
      "execution_count": 34,
      "metadata": {
        "id": "UGq7APZYhHGP"
      },
      "outputs": [],
      "source": [
        "import matplotlib as mpl\n",
        "import matplotlib.pyplot as plt\n",
        "import pandas as pd\n",
        "import numpy as np\n",
        "\n",
        "import tensorflow as tf\n",
        "from tensorflow import keras\n",
        "from tensorflow.keras import layers\n",
        "\n",
        "mpl.rcParams['figure.figsize'] = (8,6)\n",
        "mpl.rcParams['axes.grid'] = False"
      ]
    },
    {
      "cell_type": "markdown",
      "metadata": {
        "id": "lcG-tvu5zA0y"
      },
      "source": [
        "# Loading Data"
      ]
    },
    {
      "cell_type": "code",
      "execution_count": 35,
      "metadata": {
        "colab": {
          "base_uri": "https://localhost:8080/",
          "height": 206
        },
        "id": "H-MzuWewr8tR",
        "outputId": "4d55e39c-af51-46a1-a14c-4e224d50ad2d"
      },
      "outputs": [
        {
          "data": {
            "text/html": [
              "<div>\n",
              "<style scoped>\n",
              "    .dataframe tbody tr th:only-of-type {\n",
              "        vertical-align: middle;\n",
              "    }\n",
              "\n",
              "    .dataframe tbody tr th {\n",
              "        vertical-align: top;\n",
              "    }\n",
              "\n",
              "    .dataframe thead th {\n",
              "        text-align: right;\n",
              "    }\n",
              "</style>\n",
              "<table border=\"1\" class=\"dataframe\">\n",
              "  <thead>\n",
              "    <tr style=\"text-align: right;\">\n",
              "      <th></th>\n",
              "      <th>SUBDIVISION</th>\n",
              "      <th>YEAR</th>\n",
              "      <th>JAN</th>\n",
              "      <th>FEB</th>\n",
              "      <th>MAR</th>\n",
              "      <th>APR</th>\n",
              "      <th>MAY</th>\n",
              "      <th>JUN</th>\n",
              "      <th>JUL</th>\n",
              "      <th>AUG</th>\n",
              "      <th>SEP</th>\n",
              "      <th>OCT</th>\n",
              "      <th>NOV</th>\n",
              "      <th>DEC</th>\n",
              "      <th>ANNUAL</th>\n",
              "      <th>Flood</th>\n",
              "    </tr>\n",
              "  </thead>\n",
              "  <tbody>\n",
              "    <tr>\n",
              "      <th>0</th>\n",
              "      <td>ANDAMAN &amp; NICOBAR ISLANDS</td>\n",
              "      <td>1901</td>\n",
              "      <td>49.2</td>\n",
              "      <td>87.1</td>\n",
              "      <td>29.2</td>\n",
              "      <td>2.3</td>\n",
              "      <td>528.8</td>\n",
              "      <td>517.5</td>\n",
              "      <td>365.1</td>\n",
              "      <td>481.1</td>\n",
              "      <td>332.6</td>\n",
              "      <td>388.5</td>\n",
              "      <td>558.2</td>\n",
              "      <td>33.6</td>\n",
              "      <td>3373.2</td>\n",
              "      <td>Yes</td>\n",
              "    </tr>\n",
              "    <tr>\n",
              "      <th>1</th>\n",
              "      <td>ANDAMAN &amp; NICOBAR ISLANDS</td>\n",
              "      <td>1902</td>\n",
              "      <td>0.0</td>\n",
              "      <td>159.8</td>\n",
              "      <td>12.2</td>\n",
              "      <td>0.0</td>\n",
              "      <td>446.1</td>\n",
              "      <td>537.1</td>\n",
              "      <td>228.9</td>\n",
              "      <td>753.7</td>\n",
              "      <td>666.2</td>\n",
              "      <td>197.2</td>\n",
              "      <td>359.0</td>\n",
              "      <td>160.5</td>\n",
              "      <td>3520.7</td>\n",
              "      <td>Yes</td>\n",
              "    </tr>\n",
              "    <tr>\n",
              "      <th>2</th>\n",
              "      <td>ANDAMAN &amp; NICOBAR ISLANDS</td>\n",
              "      <td>1903</td>\n",
              "      <td>12.7</td>\n",
              "      <td>144.0</td>\n",
              "      <td>0.0</td>\n",
              "      <td>1.0</td>\n",
              "      <td>235.1</td>\n",
              "      <td>479.9</td>\n",
              "      <td>728.4</td>\n",
              "      <td>326.7</td>\n",
              "      <td>339.0</td>\n",
              "      <td>181.2</td>\n",
              "      <td>284.4</td>\n",
              "      <td>225.0</td>\n",
              "      <td>2957.4</td>\n",
              "      <td>No</td>\n",
              "    </tr>\n",
              "    <tr>\n",
              "      <th>3</th>\n",
              "      <td>ANDAMAN &amp; NICOBAR ISLANDS</td>\n",
              "      <td>1904</td>\n",
              "      <td>9.4</td>\n",
              "      <td>14.7</td>\n",
              "      <td>0.0</td>\n",
              "      <td>202.4</td>\n",
              "      <td>304.5</td>\n",
              "      <td>495.1</td>\n",
              "      <td>502.0</td>\n",
              "      <td>160.1</td>\n",
              "      <td>820.4</td>\n",
              "      <td>222.2</td>\n",
              "      <td>308.7</td>\n",
              "      <td>40.1</td>\n",
              "      <td>3079.6</td>\n",
              "      <td>Yes</td>\n",
              "    </tr>\n",
              "    <tr>\n",
              "      <th>4</th>\n",
              "      <td>ANDAMAN &amp; NICOBAR ISLANDS</td>\n",
              "      <td>1905</td>\n",
              "      <td>1.3</td>\n",
              "      <td>0.0</td>\n",
              "      <td>3.3</td>\n",
              "      <td>26.9</td>\n",
              "      <td>279.5</td>\n",
              "      <td>628.7</td>\n",
              "      <td>368.7</td>\n",
              "      <td>330.5</td>\n",
              "      <td>297.0</td>\n",
              "      <td>260.7</td>\n",
              "      <td>25.4</td>\n",
              "      <td>344.7</td>\n",
              "      <td>2566.7</td>\n",
              "      <td>No</td>\n",
              "    </tr>\n",
              "  </tbody>\n",
              "</table>\n",
              "</div>"
            ],
            "text/plain": [
              "                 SUBDIVISION  YEAR   JAN    FEB   MAR    APR    MAY    JUN  \\\n",
              "0  ANDAMAN & NICOBAR ISLANDS  1901  49.2   87.1  29.2    2.3  528.8  517.5   \n",
              "1  ANDAMAN & NICOBAR ISLANDS  1902   0.0  159.8  12.2    0.0  446.1  537.1   \n",
              "2  ANDAMAN & NICOBAR ISLANDS  1903  12.7  144.0   0.0    1.0  235.1  479.9   \n",
              "3  ANDAMAN & NICOBAR ISLANDS  1904   9.4   14.7   0.0  202.4  304.5  495.1   \n",
              "4  ANDAMAN & NICOBAR ISLANDS  1905   1.3    0.0   3.3   26.9  279.5  628.7   \n",
              "\n",
              "     JUL    AUG    SEP    OCT    NOV    DEC  ANNUAL Flood  \n",
              "0  365.1  481.1  332.6  388.5  558.2   33.6  3373.2   Yes  \n",
              "1  228.9  753.7  666.2  197.2  359.0  160.5  3520.7   Yes  \n",
              "2  728.4  326.7  339.0  181.2  284.4  225.0  2957.4    No  \n",
              "3  502.0  160.1  820.4  222.2  308.7   40.1  3079.6   Yes  \n",
              "4  368.7  330.5  297.0  260.7   25.4  344.7  2566.7    No  "
            ]
          },
          "execution_count": 35,
          "metadata": {},
          "output_type": "execute_result"
        }
      ],
      "source": [
        "data = pd.read_csv('..\\..\\datasets\\B1_Monthly_Rainfall.csv')\n",
        "data.head()"
      ]
    },
    {
      "cell_type": "code",
      "execution_count": 36,
      "metadata": {
        "colab": {
          "base_uri": "https://localhost:8080/"
        },
        "id": "QrZSeKLQsL5p",
        "outputId": "5285ba52-15a5-4390-91e1-4fcdb0625659"
      },
      "outputs": [
        {
          "name": "stderr",
          "output_type": "stream",
          "text": [
            "C:\\Users\\User\\AppData\\Local\\Temp\\ipykernel_8064\\1873832825.py:2: FutureWarning: Downcasting behavior in `replace` is deprecated and will be removed in a future version. To retain the old behavior, explicitly call `result.infer_objects(copy=False)`. To opt-in to the future behavior, set `pd.set_option('future.no_silent_downcasting', True)`\n",
            "  df['Flood'] = df['Flood'].replace({'Yes': 1, 'No': 0})\n"
          ]
        }
      ],
      "source": [
        "df = data.copy()\n",
        "df['Flood'] = df['Flood'].replace({'Yes': 1, 'No': 0})\n",
        "df['Flood'] = df['Flood'].fillna(0).astype(int)\n",
        "df.sort_values(by=['YEAR'], inplace=True)"
      ]
    },
    {
      "cell_type": "code",
      "execution_count": 37,
      "metadata": {
        "colab": {
          "base_uri": "https://localhost:8080/"
        },
        "id": "Y48C_YEWsMXi",
        "outputId": "2089cac3-2ad1-4d4f-f2cf-107287776180"
      },
      "outputs": [
        {
          "name": "stdout",
          "output_type": "stream",
          "text": [
            "df shape : (4090, 16) \n",
            "\n",
            "<class 'pandas.core.frame.DataFrame'>\n",
            "Index: 4090 entries, 0 to 103\n",
            "Data columns (total 16 columns):\n",
            " #   Column       Non-Null Count  Dtype  \n",
            "---  ------       --------------  -----  \n",
            " 0   SUBDIVISION  4090 non-null   object \n",
            " 1   YEAR         4090 non-null   int64  \n",
            " 2   JAN          4090 non-null   float64\n",
            " 3   FEB          4090 non-null   float64\n",
            " 4   MAR          4090 non-null   float64\n",
            " 5   APR          4090 non-null   float64\n",
            " 6   MAY          4090 non-null   float64\n",
            " 7   JUN          4090 non-null   float64\n",
            " 8   JUL          4090 non-null   float64\n",
            " 9   AUG          4090 non-null   float64\n",
            " 10  SEP          4090 non-null   float64\n",
            " 11  OCT          4090 non-null   float64\n",
            " 12  NOV          4090 non-null   float64\n",
            " 13  DEC          4090 non-null   float64\n",
            " 14  ANNUAL       4090 non-null   float64\n",
            " 15  Flood        4090 non-null   int64  \n",
            "dtypes: float64(13), int64(2), object(1)\n",
            "memory usage: 543.2+ KB\n"
          ]
        }
      ],
      "source": [
        "print(\"df shape :\", df.shape, \"\\n\")\n",
        "df.info()\n",
        "# df.describe()"
      ]
    },
    {
      "cell_type": "markdown",
      "metadata": {
        "id": "l-HeOZMcs_PN"
      },
      "source": [
        "# Data Splitting & Window Sliding"
      ]
    },
    {
      "cell_type": "code",
      "execution_count": 38,
      "metadata": {
        "id": "1jRPcRAtsMhz"
      },
      "outputs": [],
      "source": [
        "X = df.drop(columns=['YEAR', 'Flood', 'SUBDIVISION'])\n",
        "Y = df['Flood']"
      ]
    },
    {
      "cell_type": "code",
      "execution_count": 39,
      "metadata": {
        "id": "tKh1tJ-2a0d_"
      },
      "outputs": [],
      "source": [
        "\"\"\" SLIDING WINDOW \"\"\"\n",
        "WINDOW_SIZE = 5\n",
        "def create_dataset(X, Y):\n",
        "    Xs, ys = [], []\n",
        "    for i in range(len(X) - WINDOW_SIZE):\n",
        "        v = X[i:(i + WINDOW_SIZE)]\n",
        "        Xs.append(v)\n",
        "        ys.append(Y.iloc[i + WINDOW_SIZE])\n",
        "    return np.array(Xs), np.array(ys)\n",
        "\n",
        "X_seq, Y_seq = create_dataset(X, Y)"
      ]
    },
    {
      "cell_type": "code",
      "execution_count": 40,
      "metadata": {
        "colab": {
          "base_uri": "https://localhost:8080/"
        },
        "id": "8jRtLlZAnxh8",
        "outputId": "389d41af-bb77-43c6-e96a-30e6dc8a5e7a"
      },
      "outputs": [
        {
          "data": {
            "text/plain": [
              "((4085, 5, 13), (4085,))"
            ]
          },
          "execution_count": 40,
          "metadata": {},
          "output_type": "execute_result"
        }
      ],
      "source": [
        "X_seq.shape, Y_seq.shape"
      ]
    },
    {
      "cell_type": "code",
      "execution_count": 41,
      "metadata": {
        "id": "Y9tXkWOyuDed"
      },
      "outputs": [],
      "source": [
        "from sklearn.model_selection import train_test_split\n",
        "X_train, X_test, y_train, y_test = train_test_split(X_seq, Y_seq, test_size=0.2, shuffle=False)\n",
        "X_train, X_val, y_train, y_val = train_test_split(X_train, y_train, test_size=0.1, shuffle=False)"
      ]
    },
    {
      "cell_type": "code",
      "execution_count": 42,
      "metadata": {
        "id": "gctLZSLqsMrO"
      },
      "outputs": [],
      "source": [
        "from sklearn.preprocessing import MinMaxScaler\n",
        "\n",
        "# --- Reshape for scaling ---\n",
        "X_train_reshaped = X_train.reshape(-1, X_train.shape[-1])\n",
        "X_val_reshaped = X_val.reshape(-1, X_val.shape[-1])\n",
        "X_test_reshaped = X_test.reshape(-1, X_test.shape[-1])\n",
        "\n",
        "# --- Initialize and fit scaler ---\n",
        "scaler = MinMaxScaler()\n",
        "X_train_scaled = scaler.fit_transform(X_train_reshaped)\n",
        "\n",
        "# --- Transform validation and test data ---\n",
        "X_val_scaled = scaler.transform(X_val_reshaped)\n",
        "X_test_scaled = scaler.transform(X_test_reshaped)\n",
        "\n",
        "# --- Reshape back to original 3D shape ---\n",
        "X_train_seq = X_train_scaled.reshape(X_train.shape)\n",
        "X_val_seq = X_val_scaled.reshape(X_val.shape)\n",
        "X_test_seq = X_test_scaled.reshape(X_test.shape)"
      ]
    },
    {
      "cell_type": "code",
      "execution_count": 43,
      "metadata": {
        "colab": {
          "base_uri": "https://localhost:8080/"
        },
        "id": "C9IhosYQsMwx",
        "outputId": "1a0bab70-fd01-4f60-c256-88cd49c5fc53"
      },
      "outputs": [
        {
          "data": {
            "text/plain": [
              "(None, 5, 13)"
            ]
          },
          "execution_count": 43,
          "metadata": {},
          "output_type": "execute_result"
        }
      ],
      "source": [
        "from keras.models import Sequential\n",
        "from keras.layers import Input\n",
        "from keras.layers import LSTM, Dense, Dropout, BatchNormalization\n",
        "from tensorflow.keras.optimizers import Adam\n",
        "from tensorflow.keras.losses import BinaryCrossentropy\n",
        "from tensorflow.keras.callbacks import ReduceLROnPlateau\n",
        "\n",
        "def build_lstm_model(learning_rate=0.0001):\n",
        "  model = Sequential()\n",
        "  model.add(Input(shape=(WINDOW_SIZE, X.shape[1])))\n",
        "  model.add(LSTM(64, return_sequences=True))\n",
        "  model.add(Dropout(0.5))\n",
        "  model.add(BatchNormalization())\n",
        "\n",
        "  model.add(LSTM(32, return_sequences=True))\n",
        "  model.add(Dropout(0.2))\n",
        "  model.add(BatchNormalization())\n",
        "\n",
        "  model.add(LSTM(16, return_sequences=False))\n",
        "  model.add(Dropout(0.2))\n",
        "  model.add(Dense(1, activation='sigmoid'))\n",
        "\n",
        "  optimizer = Adam(learning_rate=learning_rate, clipvalue=1.0)\n",
        "  loss = BinaryCrossentropy()\n",
        "  model.compile(loss=loss, optimizer=optimizer, metrics=['accuracy'])\n",
        "\n",
        "  return model\n",
        "\n",
        "model = build_lstm_model()\n",
        "lr_scheduler = ReduceLROnPlateau(\n",
        "  monitor='val_loss',\n",
        "  factor=0.5,\n",
        "  patience=5,\n",
        "  min_lr=1e-5,\n",
        "  verbose=1\n",
        ")\n",
        "model.input_shape"
      ]
    },
    {
      "cell_type": "code",
      "execution_count": 44,
      "metadata": {
        "colab": {
          "base_uri": "https://localhost:8080/"
        },
        "id": "O8Sf__wtsNDf",
        "outputId": "8b7b6622-9a07-4678-c929-2c3d2ecf0904"
      },
      "outputs": [
        {
          "name": "stdout",
          "output_type": "stream",
          "text": [
            "Epoch 1/100\n",
            "\u001b[1m46/46\u001b[0m \u001b[32m━━━━━━━━━━━━━━━━━━━━\u001b[0m\u001b[37m\u001b[0m \u001b[1m5s\u001b[0m 20ms/step - accuracy: 0.4856 - loss: 0.7185 - val_accuracy: 0.9205 - val_loss: 0.6563 - learning_rate: 1.0000e-04\n",
            "Epoch 2/100\n",
            "\u001b[1m46/46\u001b[0m \u001b[32m━━━━━━━━━━━━━━━━━━━━\u001b[0m\u001b[37m\u001b[0m \u001b[1m0s\u001b[0m 10ms/step - accuracy: 0.6021 - loss: 0.6450 - val_accuracy: 0.9205 - val_loss: 0.6219 - learning_rate: 1.0000e-04\n",
            "Epoch 3/100\n",
            "\u001b[1m46/46\u001b[0m \u001b[32m━━━━━━━━━━━━━━━━━━━━\u001b[0m\u001b[37m\u001b[0m \u001b[1m0s\u001b[0m 10ms/step - accuracy: 0.6868 - loss: 0.5945 - val_accuracy: 0.9205 - val_loss: 0.5790 - learning_rate: 1.0000e-04\n",
            "Epoch 4/100\n",
            "\u001b[1m46/46\u001b[0m \u001b[32m━━━━━━━━━━━━━━━━━━━━\u001b[0m\u001b[37m\u001b[0m \u001b[1m0s\u001b[0m 9ms/step - accuracy: 0.7814 - loss: 0.5409 - val_accuracy: 0.9205 - val_loss: 0.5278 - learning_rate: 1.0000e-04\n",
            "Epoch 5/100\n",
            "\u001b[1m46/46\u001b[0m \u001b[32m━━━━━━━━━━━━━━━━━━━━\u001b[0m\u001b[37m\u001b[0m \u001b[1m0s\u001b[0m 9ms/step - accuracy: 0.8333 - loss: 0.4976 - val_accuracy: 0.9205 - val_loss: 0.4681 - learning_rate: 1.0000e-04\n",
            "Epoch 6/100\n",
            "\u001b[1m46/46\u001b[0m \u001b[32m━━━━━━━━━━━━━━━━━━━━\u001b[0m\u001b[37m\u001b[0m \u001b[1m0s\u001b[0m 8ms/step - accuracy: 0.8786 - loss: 0.4533 - val_accuracy: 0.9205 - val_loss: 0.4082 - learning_rate: 1.0000e-04\n",
            "Epoch 7/100\n",
            "\u001b[1m46/46\u001b[0m \u001b[32m━━━━━━━━━━━━━━━━━━━━\u001b[0m\u001b[37m\u001b[0m \u001b[1m0s\u001b[0m 9ms/step - accuracy: 0.9046 - loss: 0.4157 - val_accuracy: 0.9205 - val_loss: 0.3545 - learning_rate: 1.0000e-04\n",
            "Epoch 8/100\n",
            "\u001b[1m46/46\u001b[0m \u001b[32m━━━━━━━━━━━━━━━━━━━━\u001b[0m\u001b[37m\u001b[0m \u001b[1m0s\u001b[0m 9ms/step - accuracy: 0.9068 - loss: 0.3791 - val_accuracy: 0.9205 - val_loss: 0.3120 - learning_rate: 1.0000e-04\n",
            "Epoch 9/100\n",
            "\u001b[1m46/46\u001b[0m \u001b[32m━━━━━━━━━━━━━━━━━━━━\u001b[0m\u001b[37m\u001b[0m \u001b[1m0s\u001b[0m 10ms/step - accuracy: 0.9131 - loss: 0.3626 - val_accuracy: 0.9205 - val_loss: 0.2890 - learning_rate: 1.0000e-04\n",
            "Epoch 10/100\n",
            "\u001b[1m46/46\u001b[0m \u001b[32m━━━━━━━━━━━━━━━━━━━━\u001b[0m\u001b[37m\u001b[0m \u001b[1m0s\u001b[0m 8ms/step - accuracy: 0.9158 - loss: 0.3397 - val_accuracy: 0.9205 - val_loss: 0.2786 - learning_rate: 1.0000e-04\n",
            "Epoch 11/100\n",
            "\u001b[1m46/46\u001b[0m \u001b[32m━━━━━━━━━━━━━━━━━━━━\u001b[0m\u001b[37m\u001b[0m \u001b[1m0s\u001b[0m 9ms/step - accuracy: 0.9168 - loss: 0.3262 - val_accuracy: 0.9205 - val_loss: 0.2753 - learning_rate: 1.0000e-04\n",
            "Epoch 12/100\n",
            "\u001b[1m46/46\u001b[0m \u001b[32m━━━━━━━━━━━━━━━━━━━━\u001b[0m\u001b[37m\u001b[0m \u001b[1m0s\u001b[0m 9ms/step - accuracy: 0.9169 - loss: 0.3161 - val_accuracy: 0.9205 - val_loss: 0.2751 - learning_rate: 1.0000e-04\n",
            "Epoch 13/100\n",
            "\u001b[1m46/46\u001b[0m \u001b[32m━━━━━━━━━━━━━━━━━━━━\u001b[0m\u001b[37m\u001b[0m \u001b[1m1s\u001b[0m 11ms/step - accuracy: 0.9175 - loss: 0.3187 - val_accuracy: 0.9205 - val_loss: 0.2761 - learning_rate: 1.0000e-04\n",
            "Epoch 14/100\n",
            "\u001b[1m46/46\u001b[0m \u001b[32m━━━━━━━━━━━━━━━━━━━━\u001b[0m\u001b[37m\u001b[0m \u001b[1m0s\u001b[0m 9ms/step - accuracy: 0.9185 - loss: 0.3018 - val_accuracy: 0.9205 - val_loss: 0.2780 - learning_rate: 1.0000e-04\n",
            "Epoch 15/100\n",
            "\u001b[1m46/46\u001b[0m \u001b[32m━━━━━━━━━━━━━━━━━━━━\u001b[0m\u001b[37m\u001b[0m \u001b[1m0s\u001b[0m 8ms/step - accuracy: 0.9173 - loss: 0.2911 - val_accuracy: 0.9205 - val_loss: 0.2782 - learning_rate: 1.0000e-04\n",
            "Epoch 16/100\n",
            "\u001b[1m46/46\u001b[0m \u001b[32m━━━━━━━━━━━━━━━━━━━━\u001b[0m\u001b[37m\u001b[0m \u001b[1m0s\u001b[0m 8ms/step - accuracy: 0.9175 - loss: 0.2966 - val_accuracy: 0.9205 - val_loss: 0.2787 - learning_rate: 1.0000e-04\n",
            "Epoch 17/100\n",
            "\u001b[1m43/46\u001b[0m \u001b[32m━━━━━━━━━━━━━━━━━━\u001b[0m\u001b[37m━━\u001b[0m \u001b[1m0s\u001b[0m 6ms/step - accuracy: 0.9176 - loss: 0.2997\n",
            "Epoch 17: ReduceLROnPlateau reducing learning rate to 4.999999873689376e-05.\n",
            "\u001b[1m46/46\u001b[0m \u001b[32m━━━━━━━━━━━━━━━━━━━━\u001b[0m\u001b[37m\u001b[0m \u001b[1m0s\u001b[0m 8ms/step - accuracy: 0.9175 - loss: 0.2996 - val_accuracy: 0.9205 - val_loss: 0.2785 - learning_rate: 1.0000e-04\n",
            "Epoch 18/100\n",
            "\u001b[1m46/46\u001b[0m \u001b[32m━━━━━━━━━━━━━━━━━━━━\u001b[0m\u001b[37m\u001b[0m \u001b[1m0s\u001b[0m 9ms/step - accuracy: 0.9175 - loss: 0.3006 - val_accuracy: 0.9205 - val_loss: 0.2779 - learning_rate: 5.0000e-05\n",
            "Epoch 19/100\n",
            "\u001b[1m46/46\u001b[0m \u001b[32m━━━━━━━━━━━━━━━━━━━━\u001b[0m\u001b[37m\u001b[0m \u001b[1m0s\u001b[0m 8ms/step - accuracy: 0.9175 - loss: 0.3010 - val_accuracy: 0.9205 - val_loss: 0.2777 - learning_rate: 5.0000e-05\n",
            "Epoch 20/100\n",
            "\u001b[1m46/46\u001b[0m \u001b[32m━━━━━━━━━━━━━━━━━━━━\u001b[0m\u001b[37m\u001b[0m \u001b[1m0s\u001b[0m 8ms/step - accuracy: 0.9175 - loss: 0.2964 - val_accuracy: 0.9205 - val_loss: 0.2777 - learning_rate: 5.0000e-05\n",
            "Epoch 21/100\n",
            "\u001b[1m46/46\u001b[0m \u001b[32m━━━━━━━━━━━━━━━━━━━━\u001b[0m\u001b[37m\u001b[0m \u001b[1m0s\u001b[0m 9ms/step - accuracy: 0.9175 - loss: 0.2966 - val_accuracy: 0.9205 - val_loss: 0.2776 - learning_rate: 5.0000e-05\n",
            "Epoch 22/100\n",
            "\u001b[1m42/46\u001b[0m \u001b[32m━━━━━━━━━━━━━━━━━━\u001b[0m\u001b[37m━━\u001b[0m \u001b[1m0s\u001b[0m 6ms/step - accuracy: 0.9175 - loss: 0.2967\n",
            "Epoch 22: ReduceLROnPlateau reducing learning rate to 2.499999936844688e-05.\n",
            "\u001b[1m46/46\u001b[0m \u001b[32m━━━━━━━━━━━━━━━━━━━━\u001b[0m\u001b[37m\u001b[0m \u001b[1m0s\u001b[0m 9ms/step - accuracy: 0.9175 - loss: 0.2969 - val_accuracy: 0.9205 - val_loss: 0.2776 - learning_rate: 5.0000e-05\n"
          ]
        }
      ],
      "source": [
        "from keras.callbacks import EarlyStopping\n",
        "early_stopping = EarlyStopping(\n",
        "    monitor='val_loss',\n",
        "    patience=10,\n",
        "    restore_best_weights=True\n",
        ")\n",
        "\n",
        "tf.random.set_seed(42)\n",
        "history = model.fit(\n",
        "    X_train_seq, y_train,\n",
        "    validation_data=(X_val_seq, y_val),\n",
        "    epochs=100,\n",
        "    batch_size=64,\n",
        "    callbacks=[early_stopping, lr_scheduler]\n",
        ")"
      ]
    },
    {
      "cell_type": "code",
      "execution_count": 45,
      "metadata": {
        "colab": {
          "base_uri": "https://localhost:8080/",
          "height": 564
        },
        "id": "fKW4deeLv6aN",
        "outputId": "595ad30f-a2c2-4ec9-f486-4b74e1332646"
      },
      "outputs": [
        {
          "data": {
            "image/png": "[encoded data removed]",
            "text/plain": [
              "<Figure size 800x600 with 1 Axes>"
            ]
          },
          "metadata": {},
          "output_type": "display_data"
        }
      ],
      "source": [
        "def plot_history(history, key):\n",
        "  plt.figure()\n",
        "  plt.plot(history.history[key], label=key)\n",
        "  plt.xlabel('Epochs')\n",
        "  plt.ylabel(key)\n",
        "  plt.legend([key, 'val_'+key])\n",
        "  plt.title(f\"Training and Validation {key}\")\n",
        "  plt.show()\n",
        "\n",
        "plot_history(history, 'val_loss')"
      ]
    },
    {
      "cell_type": "code",
      "execution_count": 46,
      "metadata": {
        "colab": {
          "base_uri": "https://localhost:8080/"
        },
        "id": "WB-JZXgiv6gG",
        "outputId": "0b116ba4-8efb-4de9-c5f8-517e43f652f8"
      },
      "outputs": [
        {
          "name": "stdout",
          "output_type": "stream",
          "text": [
            "\u001b[1m26/26\u001b[0m \u001b[32m━━━━━━━━━━━━━━━━━━━━\u001b[0m\u001b[37m\u001b[0m \u001b[1m1s\u001b[0m 17ms/step\n",
            "Accuracy :  0.9265605875152999\n",
            "Classification Report:\n",
            "               precision    recall  f1-score   support\n",
            "\n",
            "           0       0.93      1.00      0.96       757\n",
            "           1       0.00      0.00      0.00        60\n",
            "\n",
            "    accuracy                           0.93       817\n",
            "   macro avg       0.46      0.50      0.48       817\n",
            "weighted avg       0.86      0.93      0.89       817\n",
            "\n"
          ]
        }
      ],
      "source": [
        "from sklearn.metrics import accuracy_score, classification_report\n",
        "\n",
        "y_pred = model.predict(X_test_seq)\n",
        "y_pred = (y_pred >= 0.5).astype(int)\n",
        "\n",
        "print(\"Accuracy : \", accuracy_score(y_test, y_pred))\n",
        "print(\"Classification Report:\\n\", classification_report(y_test, y_pred, zero_division=0))"
      ]
    },
    {
      "cell_type": "code",
      "execution_count": 47,
      "metadata": {
        "colab": {
          "base_uri": "https://localhost:8080/",
          "height": 112
        },
        "id": "ws0FLP6g3GkU",
        "outputId": "863f03f1-ca30-429b-b8ab-d9d906cd864c"
      },
      "outputs": [
        {
          "data": {
            "text/html": [
              "<div>\n",
              "<style scoped>\n",
              "    .dataframe tbody tr th:only-of-type {\n",
              "        vertical-align: middle;\n",
              "    }\n",
              "\n",
              "    .dataframe tbody tr th {\n",
              "        vertical-align: top;\n",
              "    }\n",
              "\n",
              "    .dataframe thead th {\n",
              "        text-align: right;\n",
              "    }\n",
              "</style>\n",
              "<table border=\"1\" class=\"dataframe\">\n",
              "  <thead>\n",
              "    <tr style=\"text-align: right;\">\n",
              "      <th></th>\n",
              "      <th>Value</th>\n",
              "      <th>y_pred_count</th>\n",
              "      <th>y_test_count</th>\n",
              "    </tr>\n",
              "  </thead>\n",
              "  <tbody>\n",
              "    <tr>\n",
              "      <th>0</th>\n",
              "      <td>0</td>\n",
              "      <td>817.0</td>\n",
              "      <td>757</td>\n",
              "    </tr>\n",
              "    <tr>\n",
              "      <th>1</th>\n",
              "      <td>1</td>\n",
              "      <td>NaN</td>\n",
              "      <td>60</td>\n",
              "    </tr>\n",
              "  </tbody>\n",
              "</table>\n",
              "</div>"
            ],
            "text/plain": [
              "   Value  y_pred_count  y_test_count\n",
              "0      0         817.0           757\n",
              "1      1           NaN            60"
            ]
          },
          "execution_count": 47,
          "metadata": {},
          "output_type": "execute_result"
        }
      ],
      "source": [
        "import pandas as pd\n",
        "\n",
        "# Flatten the arrays before creating Series\n",
        "y_pred_flat = y_pred.ravel()  # or use y_pred.flatten()\n",
        "y_test_flat = y_test.ravel()  # or use y_test.flatten()\n",
        "\n",
        "# Create DataFrames and get value counts in one step\n",
        "y_pred_counts = pd.Series(y_pred_flat).value_counts().reset_index(name='y_pred_count')\n",
        "y_test_counts = pd.Series(y_test_flat).value_counts().reset_index(name='y_test_count')\n",
        "\n",
        "# Rename 'index' to 'Value' for both DataFrames before merging\n",
        "y_pred_counts.rename(columns={'index': 'Value'}, inplace=True)\n",
        "y_test_counts.rename(columns={'index': 'Value'}, inplace=True)\n",
        "\n",
        "# Merge the counts and align them by 'Value'\n",
        "merged_counts = pd.merge(y_pred_counts, y_test_counts, on='Value', how='outer')\n",
        "\n",
        "# Display the result\n",
        "merged_counts.head()\n"
      ]
    },
    {
      "cell_type": "code",
      "execution_count": 48,
      "metadata": {
        "id": "UaasiIYCv6wX"
      },
      "outputs": [],
      "source": [
        "import os\n",
        "os.makedirs('trained_model', exist_ok=True)\n",
        "model.save(os.path.join('trained_model', 'DL_verB1_trained.keras'))"
      ]
    },
    {
      "cell_type": "markdown",
      "metadata": {
        "id": "sHmQLHu_QwI9"
      },
      "source": [
        "## Cross Validation"
      ]
    },
    {
      "cell_type": "code",
      "execution_count": 49,
      "metadata": {
        "colab": {
          "base_uri": "https://localhost:8080/"
        },
        "id": "rUQ7HWCzLApD",
        "outputId": "fc57d799-ac9f-4b02-e918-7b8ca2a92858"
      },
      "outputs": [
        {
          "name": "stdout",
          "output_type": "stream",
          "text": [
            "Processing Fold 1...\n",
            "\u001b[1m22/22\u001b[0m \u001b[32m━━━━━━━━━━━━━━━━━━━━\u001b[0m\u001b[37m\u001b[0m \u001b[1m2s\u001b[0m 45ms/step\n",
            "--- Fold 1 Results ---\n",
            "Accuracy :  0.9058823529411765\n",
            "Classification Report:\n",
            "               precision    recall  f1-score   support\n",
            "\n",
            "           0       0.91      1.00      0.95       616\n",
            "           1       0.00      0.00      0.00        64\n",
            "\n",
            "    accuracy                           0.91       680\n",
            "   macro avg       0.45      0.50      0.48       680\n",
            "weighted avg       0.82      0.91      0.86       680\n",
            "\n",
            "--------------------\n",
            "Processing Fold 2...\n",
            "\u001b[1m22/22\u001b[0m \u001b[32m━━━━━━━━━━━━━━━━━━━━\u001b[0m\u001b[37m\u001b[0m \u001b[1m2s\u001b[0m 59ms/step\n",
            "--- Fold 2 Results ---\n",
            "Accuracy :  0.9029411764705882\n",
            "Classification Report:\n",
            "               precision    recall  f1-score   support\n",
            "\n",
            "           0       0.90      1.00      0.95       614\n",
            "           1       0.00      0.00      0.00        66\n",
            "\n",
            "    accuracy                           0.90       680\n",
            "   macro avg       0.45      0.50      0.47       680\n",
            "weighted avg       0.82      0.90      0.86       680\n",
            "\n",
            "--------------------\n",
            "Processing Fold 3...\n",
            "\u001b[1m22/22\u001b[0m \u001b[32m━━━━━━━━━━━━━━━━━━━━\u001b[0m\u001b[37m\u001b[0m \u001b[1m2s\u001b[0m 55ms/step\n",
            "--- Fold 3 Results ---\n",
            "Accuracy :  0.9088235294117647\n",
            "Classification Report:\n",
            "               precision    recall  f1-score   support\n",
            "\n",
            "           0       0.91      1.00      0.95       618\n",
            "           1       0.00      0.00      0.00        62\n",
            "\n",
            "    accuracy                           0.91       680\n",
            "   macro avg       0.45      0.50      0.48       680\n",
            "weighted avg       0.83      0.91      0.87       680\n",
            "\n",
            "--------------------\n",
            "Processing Fold 4...\n",
            "\u001b[1m22/22\u001b[0m \u001b[32m━━━━━━━━━━━━━━━━━━━━\u001b[0m\u001b[37m\u001b[0m \u001b[1m2s\u001b[0m 56ms/step\n",
            "--- Fold 4 Results ---\n",
            "Accuracy :  0.925\n",
            "Classification Report:\n",
            "               precision    recall  f1-score   support\n",
            "\n",
            "           0       0.93      1.00      0.96       629\n",
            "           1       0.00      0.00      0.00        51\n",
            "\n",
            "    accuracy                           0.93       680\n",
            "   macro avg       0.46      0.50      0.48       680\n",
            "weighted avg       0.86      0.93      0.89       680\n",
            "\n",
            "--------------------\n",
            "Processing Fold 5...\n",
            "\u001b[1m22/22\u001b[0m \u001b[32m━━━━━━━━━━━━━━━━━━━━\u001b[0m\u001b[37m\u001b[0m \u001b[1m2s\u001b[0m 52ms/step\n",
            "--- Fold 5 Results ---\n",
            "Accuracy :  0.9294117647058824\n",
            "Classification Report:\n",
            "               precision    recall  f1-score   support\n",
            "\n",
            "           0       0.93      1.00      0.96       632\n",
            "           1       0.00      0.00      0.00        48\n",
            "\n",
            "    accuracy                           0.93       680\n",
            "   macro avg       0.46      0.50      0.48       680\n",
            "weighted avg       0.86      0.93      0.90       680\n",
            "\n",
            "--------------------\n"
          ]
        }
      ],
      "source": [
        "from sklearn.model_selection import TimeSeriesSplit\n",
        "\n",
        "tscv = TimeSeriesSplit(n_splits=5) # You can adjust the number of splits\n",
        "\n",
        "fold_accuracies = []\n",
        "fold_classification_reports = []\n",
        "fold = 0\n",
        "for train_index, test_index in tscv.split(X_seq):\n",
        "    fold += 1\n",
        "    print(f\"Processing Fold {fold}...\")\n",
        "\n",
        "    # Split data into train and test for this fold\n",
        "    X_train_fold, X_test_fold = X_seq[train_index], X_seq[test_index]\n",
        "    y_train_fold, y_test_fold = Y_seq[train_index], Y_seq[test_index]\n",
        "\n",
        "    # Further split the training fold into train and validation\n",
        "    # We maintain the time series nature, so no shuffling\n",
        "    # Split size for validation can be adjusted\n",
        "    val_size = int(len(X_train_fold) * 0.1)\n",
        "    X_train_inner, X_val_fold = X_train_fold[:-val_size], X_train_fold[-val_size:]\n",
        "    y_train_inner, y_val_fold = y_train_fold[:-val_size], y_train_fold[-val_size:]\n",
        "\n",
        "\n",
        "    # Reshape for scaling\n",
        "    X_train_inner_reshaped = X_train_inner.reshape(-1, X_train_inner.shape[-1])\n",
        "    X_val_fold_reshaped = X_val_fold.reshape(-1, X_val_fold.shape[-1])\n",
        "    X_test_fold_reshaped = X_test_fold.reshape(-1, X_test_fold.shape[-1])\n",
        "\n",
        "    # Initialize and fit scaler on the training data of this fold\n",
        "    scaler_fold = MinMaxScaler()\n",
        "    X_train_inner_scaled = scaler_fold.fit_transform(X_train_inner_reshaped)\n",
        "\n",
        "    # Transform validation and test data using the scaler fitted on the training data\n",
        "    X_val_fold_scaled = scaler_fold.transform(X_val_fold_reshaped)\n",
        "    X_test_fold_scaled = scaler_fold.transform(X_test_fold_reshaped)\n",
        "\n",
        "    # Reshape back to original 3D shape\n",
        "    X_train_inner_seq = X_train_inner_scaled.reshape(X_train_inner.shape)\n",
        "    X_val_fold_seq = X_val_fold_scaled.reshape(X_val_fold.shape)\n",
        "    X_test_fold_seq = X_test_fold_scaled.reshape(X_test_fold.shape)\n",
        "\n",
        "\n",
        "    # Build and compile a fresh model for each fold\n",
        "    model_fold = build_lstm_model()\n",
        "\n",
        "    # Define callbacks\n",
        "    lr_scheduler_fold = ReduceLROnPlateau(\n",
        "        monitor='val_loss',\n",
        "        factor=0.5,\n",
        "        patience=5,\n",
        "        min_lr=1e-5,\n",
        "        verbose=0 # Set verbose to 0 for cleaner output\n",
        "    )\n",
        "    early_stopping_fold = EarlyStopping(\n",
        "        monitor='val_loss',\n",
        "        patience=10,\n",
        "        restore_best_weights=True\n",
        "    )\n",
        "\n",
        "    # Train the model\n",
        "    history_fold = model_fold.fit(\n",
        "        X_train_inner_seq, y_train_inner,\n",
        "        validation_data=(X_val_fold_seq, y_val_fold),\n",
        "        epochs=100,\n",
        "        batch_size=64,\n",
        "        callbacks=[early_stopping_fold, lr_scheduler_fold],\n",
        "        verbose=0 # Set verbose to 0 for cleaner output\n",
        "    )\n",
        "\n",
        "    # Evaluate the model on the test set of this fold\n",
        "    y_pred_fold = model_fold.predict(X_test_fold_seq)\n",
        "    y_pred_fold = (y_pred_fold >= 0.5).astype(int)\n",
        "\n",
        "    # Store accuracy & classification Report\n",
        "    accuracy = accuracy_score(y_test_fold, y_pred_fold)\n",
        "    fold_accuracies.append(accuracy)\n",
        "    report_dict = classification_report(y_test_fold, y_pred_fold, zero_division=0, output_dict=True)\n",
        "    fold_classification_reports.append(report_dict)\n",
        "\n",
        "    # Print evaluation metrics for the fold\n",
        "    print(f\"--- Fold {fold} Results ---\")\n",
        "    print(\"Accuracy : \", accuracy)\n",
        "    print(\"Classification Report:\\n\", classification_report(y_test_fold, y_pred_fold, zero_division=0))\n",
        "    print(\"-\" * 20)"
      ]
    },
    {
      "cell_type": "code",
      "execution_count": 50,
      "metadata": {
        "colab": {
          "base_uri": "https://localhost:8080/"
        },
        "id": "5ns-UYq1UBfd",
        "outputId": "a8d7744c-2626-4f1e-cece-44ef43f0414c"
      },
      "outputs": [
        {
          "name": "stdout",
          "output_type": "stream",
          "text": [
            "\n",
            "--- Cross-Validation Summary ---\n",
            "Average Accuracy  : 0.9144\n",
            "Standard Deviation: 0.0107\n",
            "\n",
            "Average Classification Report:\n",
            "              precision    recall  f1-score     support\n",
            "0              0.914412  1.000000  0.955260  621.800000\n",
            "1              0.000000  0.000000  0.000000   58.200000\n",
            "accuracy       0.914412  0.914412  0.914412    0.914412\n",
            "macro avg      0.457206  0.500000  0.477630  680.000000\n",
            "weighted avg   0.836263  0.914412  0.873563  680.000000\n"
          ]
        }
      ],
      "source": [
        "print(\"\\n--- Cross-Validation Summary ---\")\n",
        "print(f\"Average Accuracy  : {np.mean(fold_accuracies):.4f}\")\n",
        "print(f\"Standard Deviation: {np.std(fold_accuracies):.4f}\")\n",
        "\n",
        "# Convert each report dict into a DataFrame\n",
        "reports_dfs = [pd.DataFrame(report).transpose() for report in fold_classification_reports]\n",
        "# Concatenate all DataFrames into one with a MultiIndex (fold index, class label)\n",
        "all_reports_df = pd.concat(reports_dfs, keys=range(len(reports_dfs)), axis=0)\n",
        "# Group by class label (level=1) and compute mean of metrics\n",
        "mean_report_df = all_reports_df.groupby(level=1).mean()\n",
        "\n",
        "print(\"\\nAverage Classification Report:\")\n",
        "print(mean_report_df)"
      ]
    }
  ],
  "metadata": {
    "colab": {
      "provenance": []
    },
    "kernelspec": {
      "display_name": ".venv",
      "language": "python",
      "name": "python3"
    },
    "language_info": {
      "codemirror_mode": {
        "name": "ipython",
        "version": 3
      },
      "file_extension": ".py",
      "mimetype": "text/x-python",
      "name": "python",
      "nbconvert_exporter": "python",
      "pygments_lexer": "ipython3",
      "version": "3.11.9"
    }
  },
  "nbformat": 4,
  "nbformat_minor": 0
}
