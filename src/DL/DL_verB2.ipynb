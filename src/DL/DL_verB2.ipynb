{
  "cells": [
    {
      "cell_type": "code",
      "execution_count": 1,
      "metadata": {
        "id": "UGq7APZYhHGP"
      },
      "outputs": [],
      "source": [
        "import matplotlib as mpl\n",
        "import matplotlib.pyplot as plt\n",
        "import pandas as pd\n",
        "import numpy as np\n",
        "\n",
        "import tensorflow as tf\n",
        "from tensorflow import keras\n",
        "from tensorflow.keras import layers\n",
        "\n",
        "mpl.rcParams['figure.figsize'] = (8,6)\n",
        "mpl.rcParams['axes.grid'] = False"
      ]
    },
    {
      "cell_type": "markdown",
      "metadata": {
        "id": "lcG-tvu5zA0y"
      },
      "source": [
        "# Loading Data"
      ]
    },
    {
      "cell_type": "code",
      "execution_count": 2,
      "metadata": {
        "colab": {
          "base_uri": "https://localhost:8080/",
          "height": 206
        },
        "id": "H-MzuWewr8tR",
        "outputId": "bf0a8042-2b33-46f9-b6fc-64b915dff9e8"
      },
      "outputs": [
        {
          "data": {
            "text/html": [
              "<div>\n",
              "<style scoped>\n",
              "    .dataframe tbody tr th:only-of-type {\n",
              "        vertical-align: middle;\n",
              "    }\n",
              "\n",
              "    .dataframe tbody tr th {\n",
              "        vertical-align: top;\n",
              "    }\n",
              "\n",
              "    .dataframe thead th {\n",
              "        text-align: right;\n",
              "    }\n",
              "</style>\n",
              "<table border=\"1\" class=\"dataframe\">\n",
              "  <thead>\n",
              "    <tr style=\"text-align: right;\">\n",
              "      <th></th>\n",
              "      <th>SUBDIVISIONS</th>\n",
              "      <th>YEAR</th>\n",
              "      <th>JAN</th>\n",
              "      <th>FEB</th>\n",
              "      <th>MAR</th>\n",
              "      <th>APR</th>\n",
              "      <th>MAY</th>\n",
              "      <th>JUN</th>\n",
              "      <th>JUL</th>\n",
              "      <th>AUG</th>\n",
              "      <th>SEP</th>\n",
              "      <th>OCT</th>\n",
              "      <th>NOV</th>\n",
              "      <th>DEC</th>\n",
              "      <th>ANNUAL</th>\n",
              "      <th>FLOOD</th>\n",
              "    </tr>\n",
              "  </thead>\n",
              "  <tbody>\n",
              "    <tr>\n",
              "      <th>0</th>\n",
              "      <td>ANDAMAN &amp; NICOBAR ISLANDS</td>\n",
              "      <td>2019</td>\n",
              "      <td>173.8</td>\n",
              "      <td>5.8</td>\n",
              "      <td>15.8</td>\n",
              "      <td>35.3</td>\n",
              "      <td>230.9</td>\n",
              "      <td>662.2</td>\n",
              "      <td>212.0</td>\n",
              "      <td>860.4</td>\n",
              "      <td>596.8</td>\n",
              "      <td>136.6</td>\n",
              "      <td>131.9</td>\n",
              "      <td>24.5</td>\n",
              "      <td>3086.0</td>\n",
              "      <td>YES</td>\n",
              "    </tr>\n",
              "    <tr>\n",
              "      <th>1</th>\n",
              "      <td>ANDAMAN &amp; NICOBAR ISLANDS</td>\n",
              "      <td>2021</td>\n",
              "      <td>42.7</td>\n",
              "      <td>48.8</td>\n",
              "      <td>38.3</td>\n",
              "      <td>150.2</td>\n",
              "      <td>414.1</td>\n",
              "      <td>315.9</td>\n",
              "      <td>535.3</td>\n",
              "      <td>506.5</td>\n",
              "      <td>667.3</td>\n",
              "      <td>413.1</td>\n",
              "      <td>265.7</td>\n",
              "      <td>95.5</td>\n",
              "      <td>3493.4</td>\n",
              "      <td>YES</td>\n",
              "    </tr>\n",
              "    <tr>\n",
              "      <th>2</th>\n",
              "      <td>ANDAMAN &amp; NICOBAR ISLANDS</td>\n",
              "      <td>2016</td>\n",
              "      <td>72.0</td>\n",
              "      <td>15.8</td>\n",
              "      <td>5.4</td>\n",
              "      <td>2.4</td>\n",
              "      <td>191.1</td>\n",
              "      <td>429.4</td>\n",
              "      <td>301.2</td>\n",
              "      <td>227.7</td>\n",
              "      <td>604.3</td>\n",
              "      <td>287.2</td>\n",
              "      <td>181.7</td>\n",
              "      <td>533.7</td>\n",
              "      <td>2851.9</td>\n",
              "      <td>NO</td>\n",
              "    </tr>\n",
              "    <tr>\n",
              "      <th>3</th>\n",
              "      <td>ANDAMAN &amp; NICOBAR ISLANDS</td>\n",
              "      <td>2017</td>\n",
              "      <td>228.7</td>\n",
              "      <td>5.6</td>\n",
              "      <td>33.0</td>\n",
              "      <td>108.3</td>\n",
              "      <td>275.8</td>\n",
              "      <td>349.1</td>\n",
              "      <td>389.4</td>\n",
              "      <td>414.7</td>\n",
              "      <td>372.8</td>\n",
              "      <td>263.0</td>\n",
              "      <td>205.9</td>\n",
              "      <td>243.7</td>\n",
              "      <td>2890.0</td>\n",
              "      <td>NO</td>\n",
              "    </tr>\n",
              "    <tr>\n",
              "      <th>4</th>\n",
              "      <td>ANDAMAN &amp; NICOBAR ISLANDS</td>\n",
              "      <td>2018</td>\n",
              "      <td>167.3</td>\n",
              "      <td>36.2</td>\n",
              "      <td>21.5</td>\n",
              "      <td>90.0</td>\n",
              "      <td>372.5</td>\n",
              "      <td>518.4</td>\n",
              "      <td>239.1</td>\n",
              "      <td>415.7</td>\n",
              "      <td>395.9</td>\n",
              "      <td>298.9</td>\n",
              "      <td>239.6</td>\n",
              "      <td>318.4</td>\n",
              "      <td>3113.5</td>\n",
              "      <td>YES</td>\n",
              "    </tr>\n",
              "  </tbody>\n",
              "</table>\n",
              "</div>"
            ],
            "text/plain": [
              "                SUBDIVISIONS  YEAR    JAN   FEB   MAR    APR    MAY    JUN  \\\n",
              "0  ANDAMAN & NICOBAR ISLANDS  2019  173.8   5.8  15.8   35.3  230.9  662.2   \n",
              "1  ANDAMAN & NICOBAR ISLANDS  2021   42.7  48.8  38.3  150.2  414.1  315.9   \n",
              "2  ANDAMAN & NICOBAR ISLANDS  2016   72.0  15.8   5.4    2.4  191.1  429.4   \n",
              "3  ANDAMAN & NICOBAR ISLANDS  2017  228.7   5.6  33.0  108.3  275.8  349.1   \n",
              "4  ANDAMAN & NICOBAR ISLANDS  2018  167.3  36.2  21.5   90.0  372.5  518.4   \n",
              "\n",
              "     JUL    AUG    SEP    OCT    NOV    DEC  ANNUAL FLOOD  \n",
              "0  212.0  860.4  596.8  136.6  131.9   24.5  3086.0   YES  \n",
              "1  535.3  506.5  667.3  413.1  265.7   95.5  3493.4   YES  \n",
              "2  301.2  227.7  604.3  287.2  181.7  533.7  2851.9    NO  \n",
              "3  389.4  414.7  372.8  263.0  205.9  243.7  2890.0    NO  \n",
              "4  239.1  415.7  395.9  298.9  239.6  318.4  3113.5   YES  "
            ]
          },
          "execution_count": 2,
          "metadata": {},
          "output_type": "execute_result"
        }
      ],
      "source": [
        "data = pd.read_csv('..\\..\\datasets\\B2_Monthly_Rainfall.csv')\n",
        "data.head()"
      ]
    },
    {
      "cell_type": "code",
      "execution_count": 3,
      "metadata": {
        "colab": {
          "base_uri": "https://localhost:8080/"
        },
        "id": "QrZSeKLQsL5p",
        "outputId": "c8b7bed7-9af6-430b-c1e8-ac52fb3e950a"
      },
      "outputs": [
        {
          "name": "stderr",
          "output_type": "stream",
          "text": [
            "C:\\Users\\User\\AppData\\Local\\Temp\\ipykernel_14380\\112302960.py:2: FutureWarning: Downcasting behavior in `replace` is deprecated and will be removed in a future version. To retain the old behavior, explicitly call `result.infer_objects(copy=False)`. To opt-in to the future behavior, set `pd.set_option('future.no_silent_downcasting', True)`\n",
            "  df['FLOOD'] = df['FLOOD'].replace({'YES': 1, 'NO': 0})\n"
          ]
        }
      ],
      "source": [
        "df = data.copy()\n",
        "df['FLOOD'] = df['FLOOD'].replace({'YES': 1, 'NO': 0})\n",
        "df['FLOOD'] = df['FLOOD'].fillna(0).astype(int)\n",
        "df.sort_values(by=['YEAR'], inplace=True)"
      ]
    },
    {
      "cell_type": "code",
      "execution_count": 4,
      "metadata": {
        "colab": {
          "base_uri": "https://localhost:8080/"
        },
        "id": "Y48C_YEWsMXi",
        "outputId": "5cc418ca-a53c-434a-e183-f42d7cb6a565"
      },
      "outputs": [
        {
          "name": "stdout",
          "output_type": "stream",
          "text": [
            "df shape : (230, 16) \n",
            "\n",
            "<class 'pandas.core.frame.DataFrame'>\n",
            "Index: 230 entries, 2 to 174\n",
            "Data columns (total 16 columns):\n",
            " #   Column        Non-Null Count  Dtype  \n",
            "---  ------        --------------  -----  \n",
            " 0   SUBDIVISIONS  230 non-null    object \n",
            " 1   YEAR          230 non-null    int64  \n",
            " 2   JAN           230 non-null    float64\n",
            " 3   FEB           230 non-null    float64\n",
            " 4   MAR           230 non-null    float64\n",
            " 5   APR           230 non-null    float64\n",
            " 6   MAY           230 non-null    float64\n",
            " 7   JUN           230 non-null    float64\n",
            " 8   JUL           230 non-null    float64\n",
            " 9   AUG           230 non-null    float64\n",
            " 10  SEP           230 non-null    float64\n",
            " 11  OCT           230 non-null    float64\n",
            " 12  NOV           230 non-null    float64\n",
            " 13  DEC           230 non-null    float64\n",
            " 14  ANNUAL        230 non-null    float64\n",
            " 15  FLOOD         230 non-null    int64  \n",
            "dtypes: float64(13), int64(2), object(1)\n",
            "memory usage: 30.5+ KB\n"
          ]
        }
      ],
      "source": [
        "print(\"df shape :\", df.shape, \"\\n\")\n",
        "df.info()\n",
        "# df.describe()"
      ]
    },
    {
      "cell_type": "markdown",
      "metadata": {
        "id": "l-HeOZMcs_PN"
      },
      "source": [
        "# Data Splitting & Window Sliding"
      ]
    },
    {
      "cell_type": "code",
      "execution_count": 5,
      "metadata": {
        "id": "1jRPcRAtsMhz"
      },
      "outputs": [],
      "source": [
        "X = df.drop(columns=['YEAR', 'FLOOD', 'SUBDIVISIONS'])\n",
        "Y = df['FLOOD']"
      ]
    },
    {
      "cell_type": "code",
      "execution_count": 6,
      "metadata": {
        "id": "tKh1tJ-2a0d_"
      },
      "outputs": [],
      "source": [
        "\"\"\" SLIDING WINDOW \"\"\"\n",
        "WINDOW_SIZE = 5\n",
        "def create_dataset(X, Y):\n",
        "    Xs, ys = [], []\n",
        "    for i in range(len(X) - WINDOW_SIZE):\n",
        "        v = X[i:(i + WINDOW_SIZE)]\n",
        "        Xs.append(v)\n",
        "        ys.append(Y.iloc[i + WINDOW_SIZE])\n",
        "    return np.array(Xs), np.array(ys)\n",
        "\n",
        "X_seq, Y_seq = create_dataset(X, Y)"
      ]
    },
    {
      "cell_type": "code",
      "execution_count": 7,
      "metadata": {
        "id": "Y9tXkWOyuDed"
      },
      "outputs": [],
      "source": [
        "from sklearn.model_selection import train_test_split\n",
        "X_train, X_test, y_train, y_test = train_test_split(X_seq, Y_seq, test_size=0.2, shuffle=False)\n",
        "X_train, X_val, y_train, y_val = train_test_split(X_train, y_train, test_size=0.1, shuffle=False)"
      ]
    },
    {
      "cell_type": "code",
      "execution_count": 8,
      "metadata": {
        "id": "gctLZSLqsMrO"
      },
      "outputs": [],
      "source": [
        "from sklearn.preprocessing import MinMaxScaler\n",
        "\n",
        "# --- Reshape for scaling ---\n",
        "X_train_reshaped = X_train.reshape(-1, X_train.shape[-1])\n",
        "X_val_reshaped = X_val.reshape(-1, X_val.shape[-1])\n",
        "X_test_reshaped = X_test.reshape(-1, X_test.shape[-1])\n",
        "\n",
        "# --- Initialize and fit scaler ---\n",
        "scaler = MinMaxScaler()\n",
        "X_train_scaled = scaler.fit_transform(X_train_reshaped)\n",
        "\n",
        "# --- Transform validation and test data ---\n",
        "X_val_scaled = scaler.transform(X_val_reshaped)\n",
        "X_test_scaled = scaler.transform(X_test_reshaped)\n",
        "\n",
        "# --- Reshape back to original 3D shape ---\n",
        "X_train_seq = X_train_scaled.reshape(X_train.shape)\n",
        "X_val_seq = X_val_scaled.reshape(X_val.shape)\n",
        "X_test_seq = X_test_scaled.reshape(X_test.shape)"
      ]
    },
    {
      "cell_type": "code",
      "execution_count": 9,
      "metadata": {
        "colab": {
          "base_uri": "https://localhost:8080/"
        },
        "id": "C9IhosYQsMwx",
        "outputId": "04e528a9-c5f3-46ad-d855-2dee52943033"
      },
      "outputs": [
        {
          "data": {
            "text/plain": [
              "(None, 5, 13)"
            ]
          },
          "execution_count": 9,
          "metadata": {},
          "output_type": "execute_result"
        }
      ],
      "source": [
        "from keras.models import Sequential\n",
        "from keras.layers import Input\n",
        "from keras.layers import LSTM, Dense, Dropout, BatchNormalization\n",
        "from tensorflow.keras.optimizers import Adam\n",
        "from tensorflow.keras.losses import BinaryCrossentropy\n",
        "from tensorflow.keras.callbacks import ReduceLROnPlateau\n",
        "\n",
        "def build_lstm_model(learning_rate=0.0001):\n",
        "  model = Sequential()\n",
        "  model.add(Input(shape=(WINDOW_SIZE, X.shape[1])))\n",
        "  model.add(LSTM(64, return_sequences=True))\n",
        "  model.add(Dropout(0.5))\n",
        "  model.add(BatchNormalization())\n",
        "\n",
        "  model.add(LSTM(32, return_sequences=True))\n",
        "  model.add(Dropout(0.2))\n",
        "  model.add(BatchNormalization())\n",
        "\n",
        "  model.add(LSTM(16, return_sequences=False))\n",
        "  model.add(Dropout(0.2))\n",
        "  model.add(Dense(1, activation='sigmoid'))\n",
        "\n",
        "  optimizer = Adam(learning_rate=learning_rate, clipvalue=1.0)\n",
        "  loss = BinaryCrossentropy()\n",
        "  model.compile(loss=loss, optimizer=optimizer, metrics=['accuracy'])\n",
        "\n",
        "  return model\n",
        "\n",
        "model = build_lstm_model()\n",
        "lr_scheduler = ReduceLROnPlateau(\n",
        "  monitor='val_loss',\n",
        "  factor=0.5,\n",
        "  patience=5,\n",
        "  min_lr=1e-5,\n",
        "  verbose=1\n",
        ")\n",
        "model.input_shape"
      ]
    },
    {
      "cell_type": "code",
      "execution_count": 10,
      "metadata": {
        "colab": {
          "base_uri": "https://localhost:8080/"
        },
        "id": "O8Sf__wtsNDf",
        "outputId": "de367442-4063-4c4e-f623-881985931252"
      },
      "outputs": [
        {
          "name": "stdout",
          "output_type": "stream",
          "text": [
            "Epoch 1/100\n",
            "\u001b[1m3/3\u001b[0m \u001b[32m━━━━━━━━━━━━━━━━━━━━\u001b[0m\u001b[37m\u001b[0m \u001b[1m5s\u001b[0m 297ms/step - accuracy: 0.5377 - loss: 0.6957 - val_accuracy: 0.9444 - val_loss: 0.6861 - learning_rate: 1.0000e-04\n",
            "Epoch 2/100\n",
            "\u001b[1m3/3\u001b[0m \u001b[32m━━━━━━━━━━━━━━━━━━━━\u001b[0m\u001b[37m\u001b[0m \u001b[1m0s\u001b[0m 51ms/step - accuracy: 0.5238 - loss: 0.7239 - val_accuracy: 0.9444 - val_loss: 0.6842 - learning_rate: 1.0000e-04\n",
            "Epoch 3/100\n",
            "\u001b[1m3/3\u001b[0m \u001b[32m━━━━━━━━━━━━━━━━━━━━\u001b[0m\u001b[37m\u001b[0m \u001b[1m0s\u001b[0m 45ms/step - accuracy: 0.6091 - loss: 0.6770 - val_accuracy: 0.9444 - val_loss: 0.6823 - learning_rate: 1.0000e-04\n",
            "Epoch 4/100\n",
            "\u001b[1m3/3\u001b[0m \u001b[32m━━━━━━━━━━━━━━━━━━━━\u001b[0m\u001b[37m\u001b[0m \u001b[1m0s\u001b[0m 39ms/step - accuracy: 0.5353 - loss: 0.6878 - val_accuracy: 0.9444 - val_loss: 0.6803 - learning_rate: 1.0000e-04\n",
            "Epoch 5/100\n",
            "\u001b[1m3/3\u001b[0m \u001b[32m━━━━━━━━━━━━━━━━━━━━\u001b[0m\u001b[37m\u001b[0m \u001b[1m0s\u001b[0m 39ms/step - accuracy: 0.5806 - loss: 0.6821 - val_accuracy: 0.9444 - val_loss: 0.6782 - learning_rate: 1.0000e-04\n",
            "Epoch 6/100\n",
            "\u001b[1m3/3\u001b[0m \u001b[32m━━━━━━━━━━━━━━━━━━━━\u001b[0m\u001b[37m\u001b[0m \u001b[1m0s\u001b[0m 43ms/step - accuracy: 0.5408 - loss: 0.7016 - val_accuracy: 0.9444 - val_loss: 0.6765 - learning_rate: 1.0000e-04\n",
            "Epoch 7/100\n",
            "\u001b[1m3/3\u001b[0m \u001b[32m━━━━━━━━━━━━━━━━━━━━\u001b[0m\u001b[37m\u001b[0m \u001b[1m0s\u001b[0m 37ms/step - accuracy: 0.5322 - loss: 0.6756 - val_accuracy: 0.9444 - val_loss: 0.6745 - learning_rate: 1.0000e-04\n",
            "Epoch 8/100\n",
            "\u001b[1m3/3\u001b[0m \u001b[32m━━━━━━━━━━━━━━━━━━━━\u001b[0m\u001b[37m\u001b[0m \u001b[1m0s\u001b[0m 41ms/step - accuracy: 0.5826 - loss: 0.6799 - val_accuracy: 0.9444 - val_loss: 0.6724 - learning_rate: 1.0000e-04\n",
            "Epoch 9/100\n",
            "\u001b[1m3/3\u001b[0m \u001b[32m━━━━━━━━━━━━━━━━━━━━\u001b[0m\u001b[37m\u001b[0m \u001b[1m0s\u001b[0m 37ms/step - accuracy: 0.4967 - loss: 0.7086 - val_accuracy: 0.9444 - val_loss: 0.6705 - learning_rate: 1.0000e-04\n",
            "Epoch 10/100\n",
            "\u001b[1m3/3\u001b[0m \u001b[32m━━━━━━━━━━━━━━━━━━━━\u001b[0m\u001b[37m\u001b[0m \u001b[1m0s\u001b[0m 44ms/step - accuracy: 0.5850 - loss: 0.6705 - val_accuracy: 0.9444 - val_loss: 0.6684 - learning_rate: 1.0000e-04\n",
            "Epoch 11/100\n",
            "\u001b[1m3/3\u001b[0m \u001b[32m━━━━━━━━━━━━━━━━━━━━\u001b[0m\u001b[37m\u001b[0m \u001b[1m0s\u001b[0m 49ms/step - accuracy: 0.5481 - loss: 0.6973 - val_accuracy: 0.9444 - val_loss: 0.6664 - learning_rate: 1.0000e-04\n",
            "Epoch 12/100\n",
            "\u001b[1m3/3\u001b[0m \u001b[32m━━━━━━━━━━━━━━━━━━━━\u001b[0m\u001b[37m\u001b[0m \u001b[1m0s\u001b[0m 47ms/step - accuracy: 0.5938 - loss: 0.6656 - val_accuracy: 0.9444 - val_loss: 0.6640 - learning_rate: 1.0000e-04\n",
            "Epoch 13/100\n",
            "\u001b[1m3/3\u001b[0m \u001b[32m━━━━━━━━━━━━━━━━━━━━\u001b[0m\u001b[37m\u001b[0m \u001b[1m0s\u001b[0m 52ms/step - accuracy: 0.6309 - loss: 0.6555 - val_accuracy: 0.9444 - val_loss: 0.6619 - learning_rate: 1.0000e-04\n",
            "Epoch 14/100\n",
            "\u001b[1m3/3\u001b[0m \u001b[32m━━━━━━━━━━━━━━━━━━━━\u001b[0m\u001b[37m\u001b[0m \u001b[1m0s\u001b[0m 42ms/step - accuracy: 0.6374 - loss: 0.6481 - val_accuracy: 0.9444 - val_loss: 0.6597 - learning_rate: 1.0000e-04\n",
            "Epoch 15/100\n",
            "\u001b[1m3/3\u001b[0m \u001b[32m━━━━━━━━━━━━━━━━━━━━\u001b[0m\u001b[37m\u001b[0m \u001b[1m0s\u001b[0m 41ms/step - accuracy: 0.6472 - loss: 0.6421 - val_accuracy: 0.9444 - val_loss: 0.6576 - learning_rate: 1.0000e-04\n",
            "Epoch 16/100\n",
            "\u001b[1m3/3\u001b[0m \u001b[32m━━━━━━━━━━━━━━━━━━━━\u001b[0m\u001b[37m\u001b[0m \u001b[1m0s\u001b[0m 42ms/step - accuracy: 0.6681 - loss: 0.6431 - val_accuracy: 0.9444 - val_loss: 0.6553 - learning_rate: 1.0000e-04\n",
            "Epoch 17/100\n",
            "\u001b[1m3/3\u001b[0m \u001b[32m━━━━━━━━━━━━━━━━━━━━\u001b[0m\u001b[37m\u001b[0m \u001b[1m0s\u001b[0m 47ms/step - accuracy: 0.5938 - loss: 0.6292 - val_accuracy: 0.9444 - val_loss: 0.6531 - learning_rate: 1.0000e-04\n",
            "Epoch 18/100\n",
            "\u001b[1m3/3\u001b[0m \u001b[32m━━━━━━━━━━━━━━━━━━━━\u001b[0m\u001b[37m\u001b[0m \u001b[1m0s\u001b[0m 44ms/step - accuracy: 0.6010 - loss: 0.6512 - val_accuracy: 0.9444 - val_loss: 0.6511 - learning_rate: 1.0000e-04\n",
            "Epoch 19/100\n",
            "\u001b[1m3/3\u001b[0m \u001b[32m━━━━━━━━━━━━━━━━━━━━\u001b[0m\u001b[37m\u001b[0m \u001b[1m0s\u001b[0m 39ms/step - accuracy: 0.6536 - loss: 0.6465 - val_accuracy: 0.9444 - val_loss: 0.6488 - learning_rate: 1.0000e-04\n",
            "Epoch 20/100\n",
            "\u001b[1m3/3\u001b[0m \u001b[32m━━━━━━━━━━━━━━━━━━━━\u001b[0m\u001b[37m\u001b[0m \u001b[1m0s\u001b[0m 38ms/step - accuracy: 0.6397 - loss: 0.6282 - val_accuracy: 0.9444 - val_loss: 0.6466 - learning_rate: 1.0000e-04\n",
            "Epoch 21/100\n",
            "\u001b[1m3/3\u001b[0m \u001b[32m━━━━━━━━━━━━━━━━━━━━\u001b[0m\u001b[37m\u001b[0m \u001b[1m0s\u001b[0m 45ms/step - accuracy: 0.6681 - loss: 0.6245 - val_accuracy: 0.9444 - val_loss: 0.6443 - learning_rate: 1.0000e-04\n",
            "Epoch 22/100\n",
            "\u001b[1m3/3\u001b[0m \u001b[32m━━━━━━━━━━━━━━━━━━━━\u001b[0m\u001b[37m\u001b[0m \u001b[1m0s\u001b[0m 39ms/step - accuracy: 0.6463 - loss: 0.6262 - val_accuracy: 0.9444 - val_loss: 0.6423 - learning_rate: 1.0000e-04\n",
            "Epoch 23/100\n",
            "\u001b[1m3/3\u001b[0m \u001b[32m━━━━━━━━━━━━━━━━━━━━\u001b[0m\u001b[37m\u001b[0m \u001b[1m0s\u001b[0m 46ms/step - accuracy: 0.6676 - loss: 0.6152 - val_accuracy: 0.9444 - val_loss: 0.6401 - learning_rate: 1.0000e-04\n",
            "Epoch 24/100\n",
            "\u001b[1m3/3\u001b[0m \u001b[32m━━━━━━━━━━━━━━━━━━━━\u001b[0m\u001b[37m\u001b[0m \u001b[1m0s\u001b[0m 43ms/step - accuracy: 0.6569 - loss: 0.6138 - val_accuracy: 0.9444 - val_loss: 0.6379 - learning_rate: 1.0000e-04\n",
            "Epoch 25/100\n",
            "\u001b[1m3/3\u001b[0m \u001b[32m━━━━━━━━━━━━━━━━━━━━\u001b[0m\u001b[37m\u001b[0m \u001b[1m0s\u001b[0m 44ms/step - accuracy: 0.7049 - loss: 0.6104 - val_accuracy: 0.9444 - val_loss: 0.6357 - learning_rate: 1.0000e-04\n",
            "Epoch 26/100\n",
            "\u001b[1m3/3\u001b[0m \u001b[32m━━━━━━━━━━━━━━━━━━━━\u001b[0m\u001b[37m\u001b[0m \u001b[1m0s\u001b[0m 39ms/step - accuracy: 0.6948 - loss: 0.6245 - val_accuracy: 0.9444 - val_loss: 0.6332 - learning_rate: 1.0000e-04\n",
            "Epoch 27/100\n",
            "\u001b[1m3/3\u001b[0m \u001b[32m━━━━━━━━━━━━━━━━━━━━\u001b[0m\u001b[37m\u001b[0m \u001b[1m0s\u001b[0m 38ms/step - accuracy: 0.6743 - loss: 0.5999 - val_accuracy: 0.9444 - val_loss: 0.6307 - learning_rate: 1.0000e-04\n",
            "Epoch 28/100\n",
            "\u001b[1m3/3\u001b[0m \u001b[32m━━━━━━━━━━━━━━━━━━━━\u001b[0m\u001b[37m\u001b[0m \u001b[1m0s\u001b[0m 51ms/step - accuracy: 0.7535 - loss: 0.5882 - val_accuracy: 0.9444 - val_loss: 0.6283 - learning_rate: 1.0000e-04\n",
            "Epoch 29/100\n",
            "\u001b[1m3/3\u001b[0m \u001b[32m━━━━━━━━━━━━━━━━━━━━\u001b[0m\u001b[37m\u001b[0m \u001b[1m0s\u001b[0m 46ms/step - accuracy: 0.7031 - loss: 0.6182 - val_accuracy: 0.9444 - val_loss: 0.6257 - learning_rate: 1.0000e-04\n",
            "Epoch 30/100\n",
            "\u001b[1m3/3\u001b[0m \u001b[32m━━━━━━━━━━━━━━━━━━━━\u001b[0m\u001b[37m\u001b[0m \u001b[1m0s\u001b[0m 39ms/step - accuracy: 0.6545 - loss: 0.6103 - val_accuracy: 0.9444 - val_loss: 0.6231 - learning_rate: 1.0000e-04\n",
            "Epoch 31/100\n",
            "\u001b[1m3/3\u001b[0m \u001b[32m━━━━━━━━━━━━━━━━━━━━\u001b[0m\u001b[37m\u001b[0m \u001b[1m0s\u001b[0m 37ms/step - accuracy: 0.7400 - loss: 0.5806 - val_accuracy: 0.9444 - val_loss: 0.6206 - learning_rate: 1.0000e-04\n",
            "Epoch 32/100\n",
            "\u001b[1m3/3\u001b[0m \u001b[32m━━━━━━━━━━━━━━━━━━━━\u001b[0m\u001b[37m\u001b[0m \u001b[1m0s\u001b[0m 48ms/step - accuracy: 0.7015 - loss: 0.5981 - val_accuracy: 0.9444 - val_loss: 0.6183 - learning_rate: 1.0000e-04\n",
            "Epoch 33/100\n",
            "\u001b[1m3/3\u001b[0m \u001b[32m━━━━━━━━━━━━━━━━━━━━\u001b[0m\u001b[37m\u001b[0m \u001b[1m0s\u001b[0m 41ms/step - accuracy: 0.7686 - loss: 0.5688 - val_accuracy: 0.9444 - val_loss: 0.6158 - learning_rate: 1.0000e-04\n",
            "Epoch 34/100\n",
            "\u001b[1m3/3\u001b[0m \u001b[32m━━━━━━━━━━━━━━━━━━━━\u001b[0m\u001b[37m\u001b[0m \u001b[1m0s\u001b[0m 40ms/step - accuracy: 0.6998 - loss: 0.5994 - val_accuracy: 0.9444 - val_loss: 0.6134 - learning_rate: 1.0000e-04\n",
            "Epoch 35/100\n",
            "\u001b[1m3/3\u001b[0m \u001b[32m━━━━━━━━━━━━━━━━━━━━\u001b[0m\u001b[37m\u001b[0m \u001b[1m0s\u001b[0m 39ms/step - accuracy: 0.6956 - loss: 0.6040 - val_accuracy: 0.9444 - val_loss: 0.6109 - learning_rate: 1.0000e-04\n",
            "Epoch 36/100\n",
            "\u001b[1m3/3\u001b[0m \u001b[32m━━━━━━━━━━━━━━━━━━━━\u001b[0m\u001b[37m\u001b[0m \u001b[1m0s\u001b[0m 42ms/step - accuracy: 0.7602 - loss: 0.5816 - val_accuracy: 0.9444 - val_loss: 0.6084 - learning_rate: 1.0000e-04\n",
            "Epoch 37/100\n",
            "\u001b[1m3/3\u001b[0m \u001b[32m━━━━━━━━━━━━━━━━━━━━\u001b[0m\u001b[37m\u001b[0m \u001b[1m0s\u001b[0m 38ms/step - accuracy: 0.7982 - loss: 0.5669 - val_accuracy: 0.9444 - val_loss: 0.6060 - learning_rate: 1.0000e-04\n",
            "Epoch 38/100\n",
            "\u001b[1m3/3\u001b[0m \u001b[32m━━━━━━━━━━━━━━━━━━━━\u001b[0m\u001b[37m\u001b[0m \u001b[1m0s\u001b[0m 38ms/step - accuracy: 0.7507 - loss: 0.5835 - val_accuracy: 0.9444 - val_loss: 0.6033 - learning_rate: 1.0000e-04\n",
            "Epoch 39/100\n",
            "\u001b[1m3/3\u001b[0m \u001b[32m━━━━━━━━━━━━━━━━━━━━\u001b[0m\u001b[37m\u001b[0m \u001b[1m0s\u001b[0m 41ms/step - accuracy: 0.7901 - loss: 0.5606 - val_accuracy: 0.9444 - val_loss: 0.6010 - learning_rate: 1.0000e-04\n",
            "Epoch 40/100\n",
            "\u001b[1m3/3\u001b[0m \u001b[32m━━━━━━━━━━━━━━━━━━━━\u001b[0m\u001b[37m\u001b[0m \u001b[1m0s\u001b[0m 40ms/step - accuracy: 0.7309 - loss: 0.5799 - val_accuracy: 0.9444 - val_loss: 0.5986 - learning_rate: 1.0000e-04\n",
            "Epoch 41/100\n",
            "\u001b[1m3/3\u001b[0m \u001b[32m━━━━━━━━━━━━━━━━━━━━\u001b[0m\u001b[37m\u001b[0m \u001b[1m0s\u001b[0m 54ms/step - accuracy: 0.7558 - loss: 0.5654 - val_accuracy: 0.9444 - val_loss: 0.5963 - learning_rate: 1.0000e-04\n",
            "Epoch 42/100\n",
            "\u001b[1m3/3\u001b[0m \u001b[32m━━━━━━━━━━━━━━━━━━━━\u001b[0m\u001b[37m\u001b[0m \u001b[1m0s\u001b[0m 37ms/step - accuracy: 0.7507 - loss: 0.5476 - val_accuracy: 0.9444 - val_loss: 0.5938 - learning_rate: 1.0000e-04\n",
            "Epoch 43/100\n",
            "\u001b[1m3/3\u001b[0m \u001b[32m━━━━━━━━━━━━━━━━━━━━\u001b[0m\u001b[37m\u001b[0m \u001b[1m0s\u001b[0m 39ms/step - accuracy: 0.7549 - loss: 0.5661 - val_accuracy: 0.9444 - val_loss: 0.5915 - learning_rate: 1.0000e-04\n",
            "Epoch 44/100\n",
            "\u001b[1m3/3\u001b[0m \u001b[32m━━━━━━━━━━━━━━━━━━━━\u001b[0m\u001b[37m\u001b[0m \u001b[1m0s\u001b[0m 36ms/step - accuracy: 0.7348 - loss: 0.5593 - val_accuracy: 0.9444 - val_loss: 0.5892 - learning_rate: 1.0000e-04\n",
            "Epoch 45/100\n",
            "\u001b[1m3/3\u001b[0m \u001b[32m━━━━━━━━━━━━━━━━━━━━\u001b[0m\u001b[37m\u001b[0m \u001b[1m0s\u001b[0m 37ms/step - accuracy: 0.7930 - loss: 0.5289 - val_accuracy: 0.9444 - val_loss: 0.5867 - learning_rate: 1.0000e-04\n",
            "Epoch 46/100\n",
            "\u001b[1m3/3\u001b[0m \u001b[32m━━━━━━━━━━━━━━━━━━━━\u001b[0m\u001b[37m\u001b[0m \u001b[1m0s\u001b[0m 42ms/step - accuracy: 0.8016 - loss: 0.5419 - val_accuracy: 0.9444 - val_loss: 0.5841 - learning_rate: 1.0000e-04\n",
            "Epoch 47/100\n",
            "\u001b[1m3/3\u001b[0m \u001b[32m━━━━━━━━━━━━━━━━━━━━\u001b[0m\u001b[37m\u001b[0m \u001b[1m0s\u001b[0m 36ms/step - accuracy: 0.7725 - loss: 0.5388 - val_accuracy: 0.9444 - val_loss: 0.5816 - learning_rate: 1.0000e-04\n",
            "Epoch 48/100\n",
            "\u001b[1m3/3\u001b[0m \u001b[32m━━━━━━━━━━━━━━━━━━━━\u001b[0m\u001b[37m\u001b[0m \u001b[1m0s\u001b[0m 39ms/step - accuracy: 0.8455 - loss: 0.5340 - val_accuracy: 0.9444 - val_loss: 0.5790 - learning_rate: 1.0000e-04\n",
            "Epoch 49/100\n",
            "\u001b[1m3/3\u001b[0m \u001b[32m━━━━━━━━━━━━━━━━━━━━\u001b[0m\u001b[37m\u001b[0m \u001b[1m0s\u001b[0m 37ms/step - accuracy: 0.8047 - loss: 0.5223 - val_accuracy: 0.9444 - val_loss: 0.5760 - learning_rate: 1.0000e-04\n",
            "Epoch 50/100\n",
            "\u001b[1m3/3\u001b[0m \u001b[32m━━━━━━━━━━━━━━━━━━━━\u001b[0m\u001b[37m\u001b[0m \u001b[1m0s\u001b[0m 38ms/step - accuracy: 0.7949 - loss: 0.5360 - val_accuracy: 0.9444 - val_loss: 0.5731 - learning_rate: 1.0000e-04\n",
            "Epoch 51/100\n",
            "\u001b[1m3/3\u001b[0m \u001b[32m━━━━━━━━━━━━━━━━━━━━\u001b[0m\u001b[37m\u001b[0m \u001b[1m0s\u001b[0m 37ms/step - accuracy: 0.7795 - loss: 0.5428 - val_accuracy: 0.9444 - val_loss: 0.5702 - learning_rate: 1.0000e-04\n",
            "Epoch 52/100\n",
            "\u001b[1m3/3\u001b[0m \u001b[32m━━━━━━━━━━━━━━━━━━━━\u001b[0m\u001b[37m\u001b[0m \u001b[1m0s\u001b[0m 37ms/step - accuracy: 0.8215 - loss: 0.5349 - val_accuracy: 0.9444 - val_loss: 0.5672 - learning_rate: 1.0000e-04\n",
            "Epoch 53/100\n",
            "\u001b[1m3/3\u001b[0m \u001b[32m━━━━━━━━━━━━━━━━━━━━\u001b[0m\u001b[37m\u001b[0m \u001b[1m0s\u001b[0m 35ms/step - accuracy: 0.8173 - loss: 0.5254 - val_accuracy: 0.9444 - val_loss: 0.5641 - learning_rate: 1.0000e-04\n",
            "Epoch 54/100\n",
            "\u001b[1m3/3\u001b[0m \u001b[32m━━━━━━━━━━━━━━━━━━━━\u001b[0m\u001b[37m\u001b[0m \u001b[1m0s\u001b[0m 36ms/step - accuracy: 0.8576 - loss: 0.5130 - val_accuracy: 0.9444 - val_loss: 0.5610 - learning_rate: 1.0000e-04\n",
            "Epoch 55/100\n",
            "\u001b[1m3/3\u001b[0m \u001b[32m━━━━━━━━━━━━━━━━━━━━\u001b[0m\u001b[37m\u001b[0m \u001b[1m0s\u001b[0m 38ms/step - accuracy: 0.8117 - loss: 0.5101 - val_accuracy: 0.9444 - val_loss: 0.5581 - learning_rate: 1.0000e-04\n",
            "Epoch 56/100\n",
            "\u001b[1m3/3\u001b[0m \u001b[32m━━━━━━━━━━━━━━━━━━━━\u001b[0m\u001b[37m\u001b[0m \u001b[1m0s\u001b[0m 42ms/step - accuracy: 0.7821 - loss: 0.5259 - val_accuracy: 0.9444 - val_loss: 0.5550 - learning_rate: 1.0000e-04\n",
            "Epoch 57/100\n",
            "\u001b[1m3/3\u001b[0m \u001b[32m━━━━━━━━━━━━━━━━━━━━\u001b[0m\u001b[37m\u001b[0m \u001b[1m0s\u001b[0m 37ms/step - accuracy: 0.7806 - loss: 0.5369 - val_accuracy: 0.9444 - val_loss: 0.5519 - learning_rate: 1.0000e-04\n",
            "Epoch 58/100\n",
            "\u001b[1m3/3\u001b[0m \u001b[32m━━━━━━━━━━━━━━━━━━━━\u001b[0m\u001b[37m\u001b[0m \u001b[1m0s\u001b[0m 37ms/step - accuracy: 0.8210 - loss: 0.4949 - val_accuracy: 0.9444 - val_loss: 0.5489 - learning_rate: 1.0000e-04\n",
            "Epoch 59/100\n",
            "\u001b[1m3/3\u001b[0m \u001b[32m━━━━━━━━━━━━━━━━━━━━\u001b[0m\u001b[37m\u001b[0m \u001b[1m0s\u001b[0m 40ms/step - accuracy: 0.7885 - loss: 0.5164 - val_accuracy: 0.9444 - val_loss: 0.5460 - learning_rate: 1.0000e-04\n",
            "Epoch 60/100\n",
            "\u001b[1m3/3\u001b[0m \u001b[32m━━━━━━━━━━━━━━━━━━━━\u001b[0m\u001b[37m\u001b[0m \u001b[1m0s\u001b[0m 36ms/step - accuracy: 0.8590 - loss: 0.5053 - val_accuracy: 0.9444 - val_loss: 0.5428 - learning_rate: 1.0000e-04\n",
            "Epoch 61/100\n",
            "\u001b[1m3/3\u001b[0m \u001b[32m━━━━━━━━━━━━━━━━━━━━\u001b[0m\u001b[37m\u001b[0m \u001b[1m0s\u001b[0m 36ms/step - accuracy: 0.8078 - loss: 0.5042 - val_accuracy: 0.9444 - val_loss: 0.5399 - learning_rate: 1.0000e-04\n",
            "Epoch 62/100\n",
            "\u001b[1m3/3\u001b[0m \u001b[32m━━━━━━━━━━━━━━━━━━━━\u001b[0m\u001b[37m\u001b[0m \u001b[1m0s\u001b[0m 37ms/step - accuracy: 0.8268 - loss: 0.5082 - val_accuracy: 0.9444 - val_loss: 0.5368 - learning_rate: 1.0000e-04\n",
            "Epoch 63/100\n",
            "\u001b[1m3/3\u001b[0m \u001b[32m━━━━━━━━━━━━━━━━━━━━\u001b[0m\u001b[37m\u001b[0m \u001b[1m0s\u001b[0m 36ms/step - accuracy: 0.8109 - loss: 0.5047 - val_accuracy: 0.9444 - val_loss: 0.5340 - learning_rate: 1.0000e-04\n",
            "Epoch 64/100\n",
            "\u001b[1m3/3\u001b[0m \u001b[32m━━━━━━━━━━━━━━━━━━━━\u001b[0m\u001b[37m\u001b[0m \u001b[1m0s\u001b[0m 50ms/step - accuracy: 0.8455 - loss: 0.5096 - val_accuracy: 0.9444 - val_loss: 0.5309 - learning_rate: 1.0000e-04\n",
            "Epoch 65/100\n",
            "\u001b[1m3/3\u001b[0m \u001b[32m━━━━━━━━━━━━━━━━━━━━\u001b[0m\u001b[37m\u001b[0m \u001b[1m0s\u001b[0m 47ms/step - accuracy: 0.8525 - loss: 0.4961 - val_accuracy: 0.9444 - val_loss: 0.5281 - learning_rate: 1.0000e-04\n",
            "Epoch 66/100\n",
            "\u001b[1m3/3\u001b[0m \u001b[32m━━━━━━━━━━━━━━━━━━━━\u001b[0m\u001b[37m\u001b[0m \u001b[1m0s\u001b[0m 54ms/step - accuracy: 0.7896 - loss: 0.5169 - val_accuracy: 0.9444 - val_loss: 0.5249 - learning_rate: 1.0000e-04\n",
            "Epoch 67/100\n",
            "\u001b[1m3/3\u001b[0m \u001b[32m━━━━━━━━━━━━━━━━━━━━\u001b[0m\u001b[37m\u001b[0m \u001b[1m0s\u001b[0m 39ms/step - accuracy: 0.8377 - loss: 0.4899 - val_accuracy: 0.9444 - val_loss: 0.5217 - learning_rate: 1.0000e-04\n",
            "Epoch 68/100\n",
            "\u001b[1m3/3\u001b[0m \u001b[32m━━━━━━━━━━━━━━━━━━━━\u001b[0m\u001b[37m\u001b[0m \u001b[1m0s\u001b[0m 37ms/step - accuracy: 0.8249 - loss: 0.4985 - val_accuracy: 0.9444 - val_loss: 0.5182 - learning_rate: 1.0000e-04\n",
            "Epoch 69/100\n",
            "\u001b[1m3/3\u001b[0m \u001b[32m━━━━━━━━━━━━━━━━━━━━\u001b[0m\u001b[37m\u001b[0m \u001b[1m0s\u001b[0m 46ms/step - accuracy: 0.7938 - loss: 0.5000 - val_accuracy: 0.9444 - val_loss: 0.5149 - learning_rate: 1.0000e-04\n",
            "Epoch 70/100\n",
            "\u001b[1m3/3\u001b[0m \u001b[32m━━━━━━━━━━━━━━━━━━━━\u001b[0m\u001b[37m\u001b[0m \u001b[1m0s\u001b[0m 44ms/step - accuracy: 0.8307 - loss: 0.4749 - val_accuracy: 0.9444 - val_loss: 0.5116 - learning_rate: 1.0000e-04\n",
            "Epoch 71/100\n",
            "\u001b[1m3/3\u001b[0m \u001b[32m━━━━━━━━━━━━━━━━━━━━\u001b[0m\u001b[37m\u001b[0m \u001b[1m0s\u001b[0m 36ms/step - accuracy: 0.8598 - loss: 0.4939 - val_accuracy: 0.9444 - val_loss: 0.5081 - learning_rate: 1.0000e-04\n",
            "Epoch 72/100\n",
            "\u001b[1m3/3\u001b[0m \u001b[32m━━━━━━━━━━━━━━━━━━━━\u001b[0m\u001b[37m\u001b[0m \u001b[1m0s\u001b[0m 37ms/step - accuracy: 0.8285 - loss: 0.4812 - val_accuracy: 0.9444 - val_loss: 0.5042 - learning_rate: 1.0000e-04\n",
            "Epoch 73/100\n",
            "\u001b[1m3/3\u001b[0m \u001b[32m━━━━━━━━━━━━━━━━━━━━\u001b[0m\u001b[37m\u001b[0m \u001b[1m0s\u001b[0m 35ms/step - accuracy: 0.8774 - loss: 0.4618 - val_accuracy: 0.9444 - val_loss: 0.5007 - learning_rate: 1.0000e-04\n",
            "Epoch 74/100\n",
            "\u001b[1m3/3\u001b[0m \u001b[32m━━━━━━━━━━━━━━━━━━━━\u001b[0m\u001b[37m\u001b[0m \u001b[1m0s\u001b[0m 37ms/step - accuracy: 0.8601 - loss: 0.4654 - val_accuracy: 0.9444 - val_loss: 0.4973 - learning_rate: 1.0000e-04\n",
            "Epoch 75/100\n",
            "\u001b[1m3/3\u001b[0m \u001b[32m━━━━━━━━━━━━━━━━━━━━\u001b[0m\u001b[37m\u001b[0m \u001b[1m0s\u001b[0m 36ms/step - accuracy: 0.8299 - loss: 0.4846 - val_accuracy: 0.9444 - val_loss: 0.4939 - learning_rate: 1.0000e-04\n",
            "Epoch 76/100\n",
            "\u001b[1m3/3\u001b[0m \u001b[32m━━━━━━━━━━━━━━━━━━━━\u001b[0m\u001b[37m\u001b[0m \u001b[1m0s\u001b[0m 41ms/step - accuracy: 0.8377 - loss: 0.4631 - val_accuracy: 0.9444 - val_loss: 0.4906 - learning_rate: 1.0000e-04\n",
            "Epoch 77/100\n",
            "\u001b[1m3/3\u001b[0m \u001b[32m━━━━━━━━━━━━━━━━━━━━\u001b[0m\u001b[37m\u001b[0m \u001b[1m0s\u001b[0m 52ms/step - accuracy: 0.8576 - loss: 0.4615 - val_accuracy: 0.9444 - val_loss: 0.4875 - learning_rate: 1.0000e-04\n",
            "Epoch 78/100\n",
            "\u001b[1m3/3\u001b[0m \u001b[32m━━━━━━━━━━━━━━━━━━━━\u001b[0m\u001b[37m\u001b[0m \u001b[1m0s\u001b[0m 39ms/step - accuracy: 0.8159 - loss: 0.4898 - val_accuracy: 0.9444 - val_loss: 0.4843 - learning_rate: 1.0000e-04\n",
            "Epoch 79/100\n",
            "\u001b[1m3/3\u001b[0m \u001b[32m━━━━━━━━━━━━━━━━━━━━\u001b[0m\u001b[37m\u001b[0m \u001b[1m0s\u001b[0m 39ms/step - accuracy: 0.8307 - loss: 0.4792 - val_accuracy: 0.9444 - val_loss: 0.4811 - learning_rate: 1.0000e-04\n",
            "Epoch 80/100\n",
            "\u001b[1m3/3\u001b[0m \u001b[32m━━━━━━━━━━━━━━━━━━━━\u001b[0m\u001b[37m\u001b[0m \u001b[1m0s\u001b[0m 43ms/step - accuracy: 0.8979 - loss: 0.4466 - val_accuracy: 0.9444 - val_loss: 0.4778 - learning_rate: 1.0000e-04\n",
            "Epoch 81/100\n",
            "\u001b[1m3/3\u001b[0m \u001b[32m━━━━━━━━━━━━━━━━━━━━\u001b[0m\u001b[37m\u001b[0m \u001b[1m0s\u001b[0m 52ms/step - accuracy: 0.8260 - loss: 0.4656 - val_accuracy: 0.9444 - val_loss: 0.4748 - learning_rate: 1.0000e-04\n",
            "Epoch 82/100\n",
            "\u001b[1m3/3\u001b[0m \u001b[32m━━━━━━━━━━━━━━━━━━━━\u001b[0m\u001b[37m\u001b[0m \u001b[1m0s\u001b[0m 39ms/step - accuracy: 0.8556 - loss: 0.4620 - val_accuracy: 0.9444 - val_loss: 0.4717 - learning_rate: 1.0000e-04\n",
            "Epoch 83/100\n",
            "\u001b[1m3/3\u001b[0m \u001b[32m━━━━━━━━━━━━━━━━━━━━\u001b[0m\u001b[37m\u001b[0m \u001b[1m0s\u001b[0m 38ms/step - accuracy: 0.8458 - loss: 0.4686 - val_accuracy: 0.9444 - val_loss: 0.4683 - learning_rate: 1.0000e-04\n",
            "Epoch 84/100\n",
            "\u001b[1m3/3\u001b[0m \u001b[32m━━━━━━━━━━━━━━━━━━━━\u001b[0m\u001b[37m\u001b[0m \u001b[1m0s\u001b[0m 44ms/step - accuracy: 0.8615 - loss: 0.4625 - val_accuracy: 0.9444 - val_loss: 0.4652 - learning_rate: 1.0000e-04\n",
            "Epoch 85/100\n",
            "\u001b[1m3/3\u001b[0m \u001b[32m━━━━━━━━━━━━━━━━━━━━\u001b[0m\u001b[37m\u001b[0m \u001b[1m0s\u001b[0m 40ms/step - accuracy: 0.8120 - loss: 0.4806 - val_accuracy: 0.9444 - val_loss: 0.4619 - learning_rate: 1.0000e-04\n",
            "Epoch 86/100\n",
            "\u001b[1m3/3\u001b[0m \u001b[32m━━━━━━━━━━━━━━━━━━━━\u001b[0m\u001b[37m\u001b[0m \u001b[1m0s\u001b[0m 51ms/step - accuracy: 0.8548 - loss: 0.4539 - val_accuracy: 0.9444 - val_loss: 0.4582 - learning_rate: 1.0000e-04\n",
            "Epoch 87/100\n",
            "\u001b[1m3/3\u001b[0m \u001b[32m━━━━━━━━━━━━━━━━━━━━\u001b[0m\u001b[37m\u001b[0m \u001b[1m0s\u001b[0m 39ms/step - accuracy: 0.8478 - loss: 0.4484 - val_accuracy: 0.9444 - val_loss: 0.4549 - learning_rate: 1.0000e-04\n",
            "Epoch 88/100\n",
            "\u001b[1m3/3\u001b[0m \u001b[32m━━━━━━━━━━━━━━━━━━━━\u001b[0m\u001b[37m\u001b[0m \u001b[1m0s\u001b[0m 41ms/step - accuracy: 0.8816 - loss: 0.4523 - val_accuracy: 0.9444 - val_loss: 0.4518 - learning_rate: 1.0000e-04\n",
            "Epoch 89/100\n",
            "\u001b[1m3/3\u001b[0m \u001b[32m━━━━━━━━━━━━━━━━━━━━\u001b[0m\u001b[37m\u001b[0m \u001b[1m0s\u001b[0m 41ms/step - accuracy: 0.8746 - loss: 0.4531 - val_accuracy: 0.9444 - val_loss: 0.4479 - learning_rate: 1.0000e-04\n",
            "Epoch 90/100\n",
            "\u001b[1m3/3\u001b[0m \u001b[32m━━━━━━━━━━━━━━━━━━━━\u001b[0m\u001b[37m\u001b[0m \u001b[1m0s\u001b[0m 37ms/step - accuracy: 0.8758 - loss: 0.4422 - val_accuracy: 0.9444 - val_loss: 0.4438 - learning_rate: 1.0000e-04\n",
            "Epoch 91/100\n",
            "\u001b[1m3/3\u001b[0m \u001b[32m━━━━━━━━━━━━━━━━━━━━\u001b[0m\u001b[37m\u001b[0m \u001b[1m0s\u001b[0m 36ms/step - accuracy: 0.8959 - loss: 0.4362 - val_accuracy: 0.9444 - val_loss: 0.4400 - learning_rate: 1.0000e-04\n",
            "Epoch 92/100\n",
            "\u001b[1m3/3\u001b[0m \u001b[32m━━━━━━━━━━━━━━━━━━━━\u001b[0m\u001b[37m\u001b[0m \u001b[1m0s\u001b[0m 50ms/step - accuracy: 0.8579 - loss: 0.4462 - val_accuracy: 0.9444 - val_loss: 0.4363 - learning_rate: 1.0000e-04\n",
            "Epoch 93/100\n",
            "\u001b[1m3/3\u001b[0m \u001b[32m━━━━━━━━━━━━━━━━━━━━\u001b[0m\u001b[37m\u001b[0m \u001b[1m0s\u001b[0m 52ms/step - accuracy: 0.8886 - loss: 0.4343 - val_accuracy: 0.9444 - val_loss: 0.4328 - learning_rate: 1.0000e-04\n",
            "Epoch 94/100\n",
            "\u001b[1m3/3\u001b[0m \u001b[32m━━━━━━━━━━━━━━━━━━━━\u001b[0m\u001b[37m\u001b[0m \u001b[1m0s\u001b[0m 39ms/step - accuracy: 0.8847 - loss: 0.4327 - val_accuracy: 0.9444 - val_loss: 0.4294 - learning_rate: 1.0000e-04\n",
            "Epoch 95/100\n",
            "\u001b[1m3/3\u001b[0m \u001b[32m━━━━━━━━━━━━━━━━━━━━\u001b[0m\u001b[37m\u001b[0m \u001b[1m0s\u001b[0m 40ms/step - accuracy: 0.8898 - loss: 0.4413 - val_accuracy: 0.9444 - val_loss: 0.4263 - learning_rate: 1.0000e-04\n",
            "Epoch 96/100\n",
            "\u001b[1m3/3\u001b[0m \u001b[32m━━━━━━━━━━━━━━━━━━━━\u001b[0m\u001b[37m\u001b[0m \u001b[1m0s\u001b[0m 37ms/step - accuracy: 0.8819 - loss: 0.4299 - val_accuracy: 0.9444 - val_loss: 0.4232 - learning_rate: 1.0000e-04\n",
            "Epoch 97/100\n",
            "\u001b[1m3/3\u001b[0m \u001b[32m━━━━━━━━━━━━━━━━━━━━\u001b[0m\u001b[37m\u001b[0m \u001b[1m0s\u001b[0m 40ms/step - accuracy: 0.8828 - loss: 0.4324 - val_accuracy: 0.9444 - val_loss: 0.4201 - learning_rate: 1.0000e-04\n",
            "Epoch 98/100\n",
            "\u001b[1m3/3\u001b[0m \u001b[32m━━━━━━━━━━━━━━━━━━━━\u001b[0m\u001b[37m\u001b[0m \u001b[1m0s\u001b[0m 43ms/step - accuracy: 0.8886 - loss: 0.4238 - val_accuracy: 0.9444 - val_loss: 0.4169 - learning_rate: 1.0000e-04\n",
            "Epoch 99/100\n",
            "\u001b[1m3/3\u001b[0m \u001b[32m━━━━━━━━━━━━━━━━━━━━\u001b[0m\u001b[37m\u001b[0m \u001b[1m0s\u001b[0m 41ms/step - accuracy: 0.8528 - loss: 0.4515 - val_accuracy: 0.9444 - val_loss: 0.4136 - learning_rate: 1.0000e-04\n",
            "Epoch 100/100\n",
            "\u001b[1m3/3\u001b[0m \u001b[32m━━━━━━━━━━━━━━━━━━━━\u001b[0m\u001b[37m\u001b[0m \u001b[1m0s\u001b[0m 78ms/step - accuracy: 0.8859 - loss: 0.4170 - val_accuracy: 0.9444 - val_loss: 0.4103 - learning_rate: 1.0000e-04\n"
          ]
        }
      ],
      "source": [
        "from keras.callbacks import EarlyStopping\n",
        "early_stopping = EarlyStopping(\n",
        "    monitor='val_loss',\n",
        "    patience=10,\n",
        "    restore_best_weights=True\n",
        ")\n",
        "\n",
        "tf.random.set_seed(42)\n",
        "history = model.fit(\n",
        "    X_train_seq, y_train,\n",
        "    validation_data=(X_val_seq, y_val),\n",
        "    epochs=100,\n",
        "    batch_size=64,\n",
        "    callbacks=[early_stopping, lr_scheduler]\n",
        ")"
      ]
    },
    {
      "cell_type": "code",
      "execution_count": 11,
      "metadata": {
        "colab": {
          "base_uri": "https://localhost:8080/",
          "height": 564
        },
        "id": "fKW4deeLv6aN",
        "outputId": "2c36b730-b415-4a97-f18d-4e87dbe42cfd"
      },
      "outputs": [
        {
          "data": {
            "image/png": "[encoded data removed]",
            "text/plain": [
              "<Figure size 800x600 with 1 Axes>"
            ]
          },
          "metadata": {},
          "output_type": "display_data"
        }
      ],
      "source": [
        "def plot_history(history, key):\n",
        "  plt.figure()\n",
        "  plt.plot(history.history[key], label=key)\n",
        "  plt.xlabel('Epochs')\n",
        "  plt.ylabel(key)\n",
        "  plt.legend([key, 'val_'+key])\n",
        "  plt.title(f\"Training and Validation {key}\")\n",
        "  plt.show()\n",
        "\n",
        "plot_history(history, 'val_loss')"
      ]
    },
    {
      "cell_type": "code",
      "execution_count": 12,
      "metadata": {
        "colab": {
          "base_uri": "https://localhost:8080/"
        },
        "id": "WB-JZXgiv6gG",
        "outputId": "988acb68-6a3d-40b5-869c-361f437a71a9"
      },
      "outputs": [
        {
          "name": "stdout",
          "output_type": "stream",
          "text": [
            "\u001b[1m2/2\u001b[0m \u001b[32m━━━━━━━━━━━━━━━━━━━━\u001b[0m\u001b[37m\u001b[0m \u001b[1m1s\u001b[0m 440ms/step\n",
            "Accuracy :  0.9111111111111111\n",
            "Classification Report:\n",
            "               precision    recall  f1-score   support\n",
            "\n",
            "           0       0.91      1.00      0.95        41\n",
            "           1       0.00      0.00      0.00         4\n",
            "\n",
            "    accuracy                           0.91        45\n",
            "   macro avg       0.46      0.50      0.48        45\n",
            "weighted avg       0.83      0.91      0.87        45\n",
            "\n"
          ]
        }
      ],
      "source": [
        "from sklearn.metrics import accuracy_score, classification_report\n",
        "\n",
        "y_pred = model.predict(X_test_seq)\n",
        "y_pred = (y_pred >= 0.5).astype(int)\n",
        "\n",
        "print(\"Accuracy : \", accuracy_score(y_test, y_pred))\n",
        "print(\"Classification Report:\\n\", classification_report(y_test, y_pred, zero_division=0))"
      ]
    },
    {
      "cell_type": "code",
      "execution_count": 13,
      "metadata": {
        "colab": {
          "base_uri": "https://localhost:8080/",
          "height": 112
        },
        "id": "ws0FLP6g3GkU",
        "outputId": "10e0ddf2-92e8-42f2-b5af-5a5c91f1ba1a"
      },
      "outputs": [
        {
          "data": {
            "text/html": [
              "<div>\n",
              "<style scoped>\n",
              "    .dataframe tbody tr th:only-of-type {\n",
              "        vertical-align: middle;\n",
              "    }\n",
              "\n",
              "    .dataframe tbody tr th {\n",
              "        vertical-align: top;\n",
              "    }\n",
              "\n",
              "    .dataframe thead th {\n",
              "        text-align: right;\n",
              "    }\n",
              "</style>\n",
              "<table border=\"1\" class=\"dataframe\">\n",
              "  <thead>\n",
              "    <tr style=\"text-align: right;\">\n",
              "      <th></th>\n",
              "      <th>Value</th>\n",
              "      <th>y_pred_count</th>\n",
              "      <th>y_test_count</th>\n",
              "    </tr>\n",
              "  </thead>\n",
              "  <tbody>\n",
              "    <tr>\n",
              "      <th>0</th>\n",
              "      <td>0</td>\n",
              "      <td>45.0</td>\n",
              "      <td>41</td>\n",
              "    </tr>\n",
              "    <tr>\n",
              "      <th>1</th>\n",
              "      <td>1</td>\n",
              "      <td>NaN</td>\n",
              "      <td>4</td>\n",
              "    </tr>\n",
              "  </tbody>\n",
              "</table>\n",
              "</div>"
            ],
            "text/plain": [
              "   Value  y_pred_count  y_test_count\n",
              "0      0          45.0            41\n",
              "1      1           NaN             4"
            ]
          },
          "execution_count": 13,
          "metadata": {},
          "output_type": "execute_result"
        }
      ],
      "source": [
        "import pandas as pd\n",
        "\n",
        "# Flatten the arrays before creating Series\n",
        "y_pred_flat = y_pred.ravel()  # or use y_pred.flatten()\n",
        "y_test_flat = y_test.ravel()  # or use y_test.flatten()\n",
        "\n",
        "# Create DataFrames and get value counts in one step\n",
        "y_pred_counts = pd.Series(y_pred_flat).value_counts().reset_index(name='y_pred_count')\n",
        "y_test_counts = pd.Series(y_test_flat).value_counts().reset_index(name='y_test_count')\n",
        "\n",
        "# Rename 'index' to 'Value' for both DataFrames before merging\n",
        "y_pred_counts.rename(columns={'index': 'Value'}, inplace=True)\n",
        "y_test_counts.rename(columns={'index': 'Value'}, inplace=True)\n",
        "\n",
        "# Merge the counts and align them by 'Value'\n",
        "merged_counts = pd.merge(y_pred_counts, y_test_counts, on='Value', how='outer')\n",
        "\n",
        "# Display the result\n",
        "merged_counts.head()\n"
      ]
    },
    {
      "cell_type": "code",
      "execution_count": 14,
      "metadata": {
        "id": "UaasiIYCv6wX"
      },
      "outputs": [],
      "source": [
        "import os\n",
        "os.makedirs('trained_model', exist_ok=True)\n",
        "model.save(os.path.join('trained_model', 'DL_verB2_trained.keras'))"
      ]
    },
    {
      "cell_type": "markdown",
      "metadata": {
        "id": "sHmQLHu_QwI9"
      },
      "source": [
        "## Cross Validation"
      ]
    },
    {
      "cell_type": "code",
      "execution_count": 15,
      "metadata": {
        "colab": {
          "base_uri": "https://localhost:8080/"
        },
        "id": "rUQ7HWCzLApD",
        "outputId": "383e61f4-ab67-4ee5-9bc0-94488aa5755a"
      },
      "outputs": [
        {
          "name": "stdout",
          "output_type": "stream",
          "text": [
            "Processing Fold 1...\n",
            "\u001b[1m2/2\u001b[0m \u001b[32m━━━━━━━━━━━━━━━━━━━━\u001b[0m\u001b[37m\u001b[0m \u001b[1m2s\u001b[0m 1s/step\n",
            "--- Fold 1 Results ---\n",
            "Accuracy :  0.9459459459459459\n",
            "Classification Report:\n",
            "               precision    recall  f1-score   support\n",
            "\n",
            "           0       0.95      1.00      0.97        35\n",
            "           1       0.00      0.00      0.00         2\n",
            "\n",
            "    accuracy                           0.95        37\n",
            "   macro avg       0.47      0.50      0.49        37\n",
            "weighted avg       0.89      0.95      0.92        37\n",
            "\n",
            "--------------------\n",
            "Processing Fold 2...\n",
            "WARNING:tensorflow:5 out of the last 5 calls to <function TensorFlowTrainer.make_predict_function.<locals>.one_step_on_data_distributed at 0x000002337813FE20> triggered tf.function retracing. Tracing is expensive and the excessive number of tracings could be due to (1) creating @tf.function repeatedly in a loop, (2) passing tensors with different shapes, (3) passing Python objects instead of tensors. For (1), please define your @tf.function outside of the loop. For (2), @tf.function has reduce_retracing=True option that can avoid unnecessary retracing. For (3), please refer to https://www.tensorflow.org/guide/function#controlling_retracing and https://www.tensorflow.org/api_docs/python/tf/function for  more details.\n",
            "\u001b[1m1/2\u001b[0m \u001b[32m━━━━━━━━━━\u001b[0m\u001b[37m━━━━━━━━━━\u001b[0m \u001b[1m0s\u001b[0m 994ms/stepWARNING:tensorflow:6 out of the last 6 calls to <function TensorFlowTrainer.make_predict_function.<locals>.one_step_on_data_distributed at 0x000002337813FE20> triggered tf.function retracing. Tracing is expensive and the excessive number of tracings could be due to (1) creating @tf.function repeatedly in a loop, (2) passing tensors with different shapes, (3) passing Python objects instead of tensors. For (1), please define your @tf.function outside of the loop. For (2), @tf.function has reduce_retracing=True option that can avoid unnecessary retracing. For (3), please refer to https://www.tensorflow.org/guide/function#controlling_retracing and https://www.tensorflow.org/api_docs/python/tf/function for  more details.\n",
            "\u001b[1m2/2\u001b[0m \u001b[32m━━━━━━━━━━━━━━━━━━━━\u001b[0m\u001b[37m\u001b[0m \u001b[1m2s\u001b[0m 959ms/step\n",
            "--- Fold 2 Results ---\n",
            "Accuracy :  0.8648648648648649\n",
            "Classification Report:\n",
            "               precision    recall  f1-score   support\n",
            "\n",
            "           0       0.86      1.00      0.93        32\n",
            "           1       0.00      0.00      0.00         5\n",
            "\n",
            "    accuracy                           0.86        37\n",
            "   macro avg       0.43      0.50      0.46        37\n",
            "weighted avg       0.75      0.86      0.80        37\n",
            "\n",
            "--------------------\n",
            "Processing Fold 3...\n",
            "\u001b[1m2/2\u001b[0m \u001b[32m━━━━━━━━━━━━━━━━━━━━\u001b[0m\u001b[37m\u001b[0m \u001b[1m2s\u001b[0m 1s/step\n",
            "--- Fold 3 Results ---\n",
            "Accuracy :  0.9459459459459459\n",
            "Classification Report:\n",
            "               precision    recall  f1-score   support\n",
            "\n",
            "           0       0.95      1.00      0.97        35\n",
            "           1       0.00      0.00      0.00         2\n",
            "\n",
            "    accuracy                           0.95        37\n",
            "   macro avg       0.47      0.50      0.49        37\n",
            "weighted avg       0.89      0.95      0.92        37\n",
            "\n",
            "--------------------\n",
            "Processing Fold 4...\n",
            "\u001b[1m2/2\u001b[0m \u001b[32m━━━━━━━━━━━━━━━━━━━━\u001b[0m\u001b[37m\u001b[0m \u001b[1m2s\u001b[0m 1s/step\n",
            "--- Fold 4 Results ---\n",
            "Accuracy :  0.8648648648648649\n",
            "Classification Report:\n",
            "               precision    recall  f1-score   support\n",
            "\n",
            "           0       0.86      1.00      0.93        32\n",
            "           1       0.00      0.00      0.00         5\n",
            "\n",
            "    accuracy                           0.86        37\n",
            "   macro avg       0.43      0.50      0.46        37\n",
            "weighted avg       0.75      0.86      0.80        37\n",
            "\n",
            "--------------------\n",
            "Processing Fold 5...\n",
            "\u001b[1m2/2\u001b[0m \u001b[32m━━━━━━━━━━━━━━━━━━━━\u001b[0m\u001b[37m\u001b[0m \u001b[1m2s\u001b[0m 1s/step\n",
            "--- Fold 5 Results ---\n",
            "Accuracy :  0.918918918918919\n",
            "Classification Report:\n",
            "               precision    recall  f1-score   support\n",
            "\n",
            "           0       0.92      1.00      0.96        34\n",
            "           1       0.00      0.00      0.00         3\n",
            "\n",
            "    accuracy                           0.92        37\n",
            "   macro avg       0.46      0.50      0.48        37\n",
            "weighted avg       0.84      0.92      0.88        37\n",
            "\n",
            "--------------------\n"
          ]
        }
      ],
      "source": [
        "from sklearn.model_selection import TimeSeriesSplit\n",
        "\n",
        "tscv = TimeSeriesSplit(n_splits=5) # You can adjust the number of splits\n",
        "\n",
        "fold_accuracies = []\n",
        "fold_classification_reports = []\n",
        "fold = 0\n",
        "for train_index, test_index in tscv.split(X_seq):\n",
        "    fold += 1\n",
        "    print(f\"Processing Fold {fold}...\")\n",
        "\n",
        "    # Split data into train and test for this fold\n",
        "    X_train_fold, X_test_fold = X_seq[train_index], X_seq[test_index]\n",
        "    y_train_fold, y_test_fold = Y_seq[train_index], Y_seq[test_index]\n",
        "\n",
        "    # Further split the training fold into train and validation\n",
        "    # We maintain the time series nature, so no shuffling\n",
        "    # Split size for validation can be adjusted\n",
        "    val_size = int(len(X_train_fold) * 0.1)\n",
        "    X_train_inner, X_val_fold = X_train_fold[:-val_size], X_train_fold[-val_size:]\n",
        "    y_train_inner, y_val_fold = y_train_fold[:-val_size], y_train_fold[-val_size:]\n",
        "\n",
        "\n",
        "    # Reshape for scaling\n",
        "    X_train_inner_reshaped = X_train_inner.reshape(-1, X_train_inner.shape[-1])\n",
        "    X_val_fold_reshaped = X_val_fold.reshape(-1, X_val_fold.shape[-1])\n",
        "    X_test_fold_reshaped = X_test_fold.reshape(-1, X_test_fold.shape[-1])\n",
        "\n",
        "    # Initialize and fit scaler on the training data of this fold\n",
        "    scaler_fold = MinMaxScaler()\n",
        "    X_train_inner_scaled = scaler_fold.fit_transform(X_train_inner_reshaped)\n",
        "\n",
        "    # Transform validation and test data using the scaler fitted on the training data\n",
        "    X_val_fold_scaled = scaler_fold.transform(X_val_fold_reshaped)\n",
        "    X_test_fold_scaled = scaler_fold.transform(X_test_fold_reshaped)\n",
        "\n",
        "    # Reshape back to original 3D shape\n",
        "    X_train_inner_seq = X_train_inner_scaled.reshape(X_train_inner.shape)\n",
        "    X_val_fold_seq = X_val_fold_scaled.reshape(X_val_fold.shape)\n",
        "    X_test_fold_seq = X_test_fold_scaled.reshape(X_test_fold.shape)\n",
        "\n",
        "\n",
        "    # Build and compile a fresh model for each fold\n",
        "    model_fold = build_lstm_model()\n",
        "\n",
        "    # Define callbacks\n",
        "    lr_scheduler_fold = ReduceLROnPlateau(\n",
        "        monitor='val_loss',\n",
        "        factor=0.5,\n",
        "        patience=5,\n",
        "        min_lr=1e-5,\n",
        "        verbose=0 # Set verbose to 0 for cleaner output\n",
        "    )\n",
        "    early_stopping_fold = EarlyStopping(\n",
        "        monitor='val_loss',\n",
        "        patience=10,\n",
        "        restore_best_weights=True\n",
        "    )\n",
        "\n",
        "    # Train the model\n",
        "    history_fold = model_fold.fit(\n",
        "        X_train_inner_seq, y_train_inner,\n",
        "        validation_data=(X_val_fold_seq, y_val_fold),\n",
        "        epochs=100,\n",
        "        batch_size=64,\n",
        "        callbacks=[early_stopping_fold, lr_scheduler_fold],\n",
        "        verbose=0 # Set verbose to 0 for cleaner output\n",
        "    )\n",
        "\n",
        "    # Evaluate the model on the test set of this fold\n",
        "    y_pred_fold = model_fold.predict(X_test_fold_seq)\n",
        "    y_pred_fold = (y_pred_fold >= 0.5).astype(int)\n",
        "\n",
        "    # Store accuracy & classification Report\n",
        "    accuracy = accuracy_score(y_test_fold, y_pred_fold)\n",
        "    fold_accuracies.append(accuracy)\n",
        "    report_dict = classification_report(y_test_fold, y_pred_fold, zero_division=0, output_dict=True)\n",
        "    fold_classification_reports.append(report_dict)\n",
        "\n",
        "    # Print evaluation metrics for the fold\n",
        "    print(f\"--- Fold {fold} Results ---\")\n",
        "    print(\"Accuracy : \", accuracy)\n",
        "    print(\"Classification Report:\\n\", classification_report(y_test_fold, y_pred_fold, zero_division=0))\n",
        "    print(\"-\" * 20)"
      ]
    },
    {
      "cell_type": "code",
      "execution_count": 16,
      "metadata": {
        "colab": {
          "base_uri": "https://localhost:8080/"
        },
        "id": "5ns-UYq1UBfd",
        "outputId": "c55dc1ca-92d2-44a6-c963-5d7bb58659b0"
      },
      "outputs": [
        {
          "name": "stdout",
          "output_type": "stream",
          "text": [
            "\n",
            "--- Cross-Validation Summary ---\n",
            "Average Accuracy  : 0.9081\n",
            "Standard Deviation: 0.0367\n",
            "\n",
            "Average Classification Report:\n",
            "              precision    recall  f1-score    support\n",
            "0              0.908108  1.000000  0.951453  33.600000\n",
            "1              0.000000  0.000000  0.000000   3.400000\n",
            "accuracy       0.908108  0.908108  0.908108   0.908108\n",
            "macro avg      0.454054  0.500000  0.475726  37.000000\n",
            "weighted avg   0.826004  0.908108  0.864764  37.000000\n"
          ]
        }
      ],
      "source": [
        "print(\"\\n--- Cross-Validation Summary ---\")\n",
        "print(f\"Average Accuracy  : {np.mean(fold_accuracies):.4f}\")\n",
        "print(f\"Standard Deviation: {np.std(fold_accuracies):.4f}\")\n",
        "\n",
        "# Convert each report dict into a DataFrame\n",
        "reports_dfs = [pd.DataFrame(report).transpose() for report in fold_classification_reports]\n",
        "# Concatenate all DataFrames into one with a MultiIndex (fold index, class label)\n",
        "all_reports_df = pd.concat(reports_dfs, keys=range(len(reports_dfs)), axis=0)\n",
        "# Group by class label (level=1) and compute mean of metrics\n",
        "mean_report_df = all_reports_df.groupby(level=1).mean()\n",
        "\n",
        "print(\"\\nAverage Classification Report:\")\n",
        "print(mean_report_df)"
      ]
    }
  ],
  "metadata": {
    "colab": {
      "provenance": []
    },
    "kernelspec": {
      "display_name": ".venv",
      "language": "python",
      "name": "python3"
    },
    "language_info": {
      "codemirror_mode": {
        "name": "ipython",
        "version": 3
      },
      "file_extension": ".py",
      "mimetype": "text/x-python",
      "name": "python",
      "nbconvert_exporter": "python",
      "pygments_lexer": "ipython3",
      "version": "3.11.9"
    }
  },
  "nbformat": 4,
  "nbformat_minor": 0
}
